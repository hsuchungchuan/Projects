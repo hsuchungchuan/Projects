{
 "cells": [
  {
   "cell_type": "code",
   "execution_count": 1,
   "id": "a26eddcf",
   "metadata": {},
   "outputs": [],
   "source": [
    "import os\n",
    "import glob\n",
    "import h5py\n",
    "import json\n",
    "import matplotlib.pyplot as plt\n",
    "import numpy as np\n",
    "import datetime\n",
    "import pandas as pd\n"
   ]
  },
  {
   "cell_type": "code",
   "execution_count": 15,
   "id": "9f73bb5f",
   "metadata": {},
   "outputs": [],
   "source": [
    "# copy paste this code to the beginning of your script to set the plotting style for a one column figure\n",
    "\n",
    "from matplotlib import pyplot as plt\n",
    "\n",
    "plt.rcParams.update({\n",
    "    \"text.usetex\": True,\n",
    "    \"font.family\": \"serif\",\n",
    "    \"font.serif\": [\"Computer Modern Roman\"],\n",
    "    \"figure.constrained_layout.use\": True\n",
    "})\n",
    "\n",
    "plt.rcParams[\"savefig.bbox\"] = None\n",
    "plt.rcParams[\"figure.figsize\"] = (5.9,3.5)  # (width, height) in inches, change height but not width\n",
    "plt.rcParams[\"figure.titlesize\"] = 10 # this is only for plt.suptitle, i set it to be the same as the rest\n",
    "\n",
    "plt.rcParams[\"axes.titlesize\"] = 10 # control title size\n",
    "plt.rcParams[\"axes.labelsize\"] = 10 # control x and y axis labels\n",
    "plt.rcParams[\"axes.labelpad\"] = 4.0 # distance between axis label and axis numbers\n",
    "plt.rcParams[\"xtick.labelsize\"] = 10 # independent control of xlabel fontsize\n",
    "plt.rcParams[\"ytick.labelsize\"] = 10 # independent control of ylabel fontsize\n",
    "\n",
    "plt.rcParams[\"legend.fontsize\"] = 7.5 # control legend size, I set it to be slightly smaller than title/axes label\n",
    "# plt.rcParams[\"legend.facecolor\"] = (0.9, 0.9, 0.9) # legend background color\n",
    "# plt.rcParams[\"legend.edgecolor\"] = (0, 0, 0) # legend border line color\n",
    "# plt.rcParams[\"legend.frameon\"] = True # whether or not to draw a border around legend\n",
    "# plt.rcParams[\"legend.framealpha\"] = 0.1 # legend background transparency\n",
    "plt.rcParams[\"legend.loc\"] = \"best\" # default legend location\n",
    "plt.rcParams[\"legend.handletextpad\"] = 0.8  # Horizontal space between legend point and text (default 0.8)\n",
    "plt.rcParams[\"legend.labelspacing\"] = 0.6  # Vertical space between legend entries (default 0.5)\n",
    "# plt.rcParams[\"legend.columnspacing\"] = 2.0  # Space between columns in multi-column legends\n",
    "# plt.rcParams[\"legend.borderpad\"] = 1.0  # Space between legend content and the box\n",
    "# plt.rcParams[\"legend.handlelength\"] = 2.0  # Length of legend marker lines\n",
    "\n",
    "plt.rcParams[\"lines.linewidth\"] = 1\n",
    "plt.rcParams[\"lines.markersize\"] = 6 #data point size\n",
    "\n",
    "# CHOOSE NICE COLOR FOR DARK MARKER EDGEWIDTH FROM \"dodgerblue\",\"mediumseagreen\",\"crimson\",\"mediumpurple\",\"slateblue\",\"darkorange\",\"peru\",\"goldenrod\"\n",
    "plt.rcParams[\"lines.linewidth\"] = 1\n",
    "plt.rcParams[\"lines.markersize\"] = 6 #data point size\n",
    "plt.rcParams[\"lines.markeredgewidth\"] = 1.5 # width of the edge of the marker\n",
    "plt.rcParams[\"lines.markeredgecolor\"] = \"black\" # color of the edge of the marker\n",
    "plt.rcParams[\"lines.markerfacecolor\"] = \"crimson\" # color of the inside of the marker\n",
    "plt.rcParams[\"lines.marker\"] = \"o\" # marker type, see https://matplotlib.org/stable/api/markers_api.html for all options\n",
    "plt.rcParams[\"lines.color\"] = \"black\" # color of the line\n",
    "# # CHOOSE NICE COLOR FOR DARK MARKER EDGEWIDTH FROM \"dodgerblue\",\"mediumseagreen\",\"crimson\",\"mediumpurple\",\"slateblue\",\"darkorange\",\"peru\",\"goldenrod\"\n",
    "\n",
    "\n",
    "plt.rcParams[\"grid.linestyle\"] = \"--\"\n",
    "plt.rcParams['axes.grid'] = True\n",
    "# plt.rcParams[\"grid.linewidth\"] = 0.7\n",
    "\n",
    "# plt.rcParams[\"xtick.major.pad\"] = 4.0 # distance between xticks dashes and xaxis numbers\n",
    "# plt.rcParams[\"xtick.major.size\"] = 3.0\n",
    "# plt.rcParams[\"xtick.major.width\"] = 0.7\n",
    "# plt.rcParams[\"ytick.major.pad\"] = 4.0 # distance between yticks dashes and yaxis numbers\n",
    "# plt.rcParams[\"ytick.major.size\"] = 3.0\n",
    "# plt.rcParams[\"ytick.major.width\"] = 0.7"
   ]
  },
  {
   "cell_type": "code",
   "execution_count": 16,
   "id": "09deaa47",
   "metadata": {},
   "outputs": [],
   "source": [
    "df = pd.read_csv('Default Dataset.csv')"
   ]
  },
  {
   "cell_type": "code",
   "execution_count": 17,
   "id": "6f9e4eae",
   "metadata": {},
   "outputs": [
    {
     "data": {
      "application/vnd.microsoft.datawrangler.viewer.v0+json": {
       "columns": [
        {
         "name": "index",
         "rawType": "int64",
         "type": "integer"
        },
        {
         "name": "344.39545144271386",
         "rawType": "float64",
         "type": "float"
        },
        {
         "name": " 0.0027376999998276474",
         "rawType": "float64",
         "type": "float"
        }
       ],
       "conversionMethod": "pd.DataFrame",
       "ref": "fd26379a-02b8-4de2-a8ab-ea1ba1a615be",
       "rows": [
        [
         "0",
         "344.59666522517244",
         "0.0027558273676167"
        ],
        [
         "1",
         "344.797879007631",
         "0.0027739547354057"
        ],
        [
         "2",
         "344.9990927900896",
         "0.0027920821031948"
        ],
        [
         "3",
         "345.20030657254813",
         "0.0028102094709838"
        ],
        [
         "4",
         "345.39745543010855",
         "0.005444491375421"
        ],
        [
         "5",
         "345.59435022986287",
         "0.0072792579415703"
        ],
        [
         "6",
         "345.79547932638604",
         "0.004268997186827"
        ],
        [
         "7",
         "345.9966084229092",
         "0.0042871169252527"
        ],
        [
         "8",
         "346.1977375194324",
         "0.0043052366636779"
        ],
        [
         "9",
         "346.3988666159556",
         "0.0043233564021036"
        ],
        [
         "10",
         "346.5947028415177",
         "0.0013126188121379"
        ],
        [
         "11",
         "346.79583193804086",
         "0.004359119043733"
        ],
        [
         "12",
         "346.99696103456404",
         "0.0013488582889888"
        ],
        [
         "13",
         "347.1980901310872",
         "0.004395358520584"
        ],
        [
         "14",
         "347.3939263566493",
         "0.0044130014237877"
        ],
        [
         "15",
         "347.59505545317245",
         "0.0165446431348899"
        ],
        [
         "16",
         "347.7961845496957",
         "0.1316412216137459"
        ],
        [
         "17",
         "347.99731364621886",
         "0.2770216050242942"
        ],
        [
         "18",
         "348.19844274274203",
         "0.3406357151192734"
        ],
        [
         "19",
         "348.39957183926526",
         "0.3769944007757297"
        ],
        [
         "20",
         "348.59540806482727",
         "0.3951823266379486"
        ],
        [
         "21",
         "348.7965371613505",
         "0.4285126318012358"
        ],
        [
         "22",
         "348.9976662578737",
         "0.4194456100601536"
        ],
        [
         "23",
         "349.19879535439685",
         "0.4558042957166097"
        ],
        [
         "24",
         "349.39992445092",
         "0.4830778398935584"
        ],
        [
         "25",
         "349.60105354744326",
         "0.446755393713953"
        ],
        [
         "26",
         "349.79688977300526",
         "0.4134608511922952"
        ],
        [
         "27",
         "349.9980188695285",
         "0.3226275561356444"
        ],
        [
         "28",
         "350.19914796605167",
         "0.0349495290229935"
        ],
        [
         "29",
         "350.40027706257484",
         "0.1379325855291724"
        ],
        [
         "30",
         "350.601406159098",
         "0.3862779057074745"
        ],
        [
         "31",
         "350.80253525562125",
         "0.5286299086248536"
        ],
        [
         "32",
         "350.9983714811833",
         "0.6104138248436264"
        ],
        [
         "33",
         "351.1995005777065",
         "0.6074035640888826"
        ],
        [
         "34",
         "351.40062967422966",
         "0.5892514008682928"
        ],
        [
         "35",
         "351.5964658997917",
         "0.5044743899627582"
        ],
        [
         "36",
         "351.80288786727607",
         "0.4015280497686517"
        ],
        [
         "37",
         "351.9987240928381",
         "0.298580755904102"
        ],
        [
         "38",
         "352.1998531893613",
         "0.207747460847451"
        ],
        [
         "39",
         "352.39568941492337",
         "0.1290272109282548"
        ],
        [
         "40",
         "352.60211138240766",
         "0.5287920326002398"
        ],
        [
         "41",
         "352.7979476079697",
         "0.0412404161031982"
        ],
        [
         "42",
         "352.9990767044929",
         "0.0200598723894391"
        ],
        [
         "43",
         "353.2002058010161",
         "0.0079644701551879"
        ],
        [
         "44",
         "353.4013348975393",
         "0.0079825898936136"
        ],
        [
         "45",
         "353.6024639940625",
         "0.0049723291388699"
        ],
        [
         "46",
         "353.80359309058565",
         "0.0049904488772956"
        ],
        [
         "47",
         "353.9994293161477",
         "0.0050080917804993"
        ],
        [
         "48",
         "354.20055841267094",
         "0.005026211518925"
        ],
        [
         "49",
         "354.4016875091941",
         "0.0050443312573502"
        ]
       ],
       "shape": {
        "columns": 2,
        "rows": 50
       }
      },
      "text/html": [
       "<div>\n",
       "<style scoped>\n",
       "    .dataframe tbody tr th:only-of-type {\n",
       "        vertical-align: middle;\n",
       "    }\n",
       "\n",
       "    .dataframe tbody tr th {\n",
       "        vertical-align: top;\n",
       "    }\n",
       "\n",
       "    .dataframe thead th {\n",
       "        text-align: right;\n",
       "    }\n",
       "</style>\n",
       "<table border=\"1\" class=\"dataframe\">\n",
       "  <thead>\n",
       "    <tr style=\"text-align: right;\">\n",
       "      <th></th>\n",
       "      <th>344.39545144271386</th>\n",
       "      <th>0.0027376999998276474</th>\n",
       "    </tr>\n",
       "  </thead>\n",
       "  <tbody>\n",
       "    <tr>\n",
       "      <th>0</th>\n",
       "      <td>344.596665</td>\n",
       "      <td>0.002756</td>\n",
       "    </tr>\n",
       "    <tr>\n",
       "      <th>1</th>\n",
       "      <td>344.797879</td>\n",
       "      <td>0.002774</td>\n",
       "    </tr>\n",
       "    <tr>\n",
       "      <th>2</th>\n",
       "      <td>344.999093</td>\n",
       "      <td>0.002792</td>\n",
       "    </tr>\n",
       "    <tr>\n",
       "      <th>3</th>\n",
       "      <td>345.200307</td>\n",
       "      <td>0.002810</td>\n",
       "    </tr>\n",
       "    <tr>\n",
       "      <th>4</th>\n",
       "      <td>345.397455</td>\n",
       "      <td>0.005444</td>\n",
       "    </tr>\n",
       "    <tr>\n",
       "      <th>5</th>\n",
       "      <td>345.594350</td>\n",
       "      <td>0.007279</td>\n",
       "    </tr>\n",
       "    <tr>\n",
       "      <th>6</th>\n",
       "      <td>345.795479</td>\n",
       "      <td>0.004269</td>\n",
       "    </tr>\n",
       "    <tr>\n",
       "      <th>7</th>\n",
       "      <td>345.996608</td>\n",
       "      <td>0.004287</td>\n",
       "    </tr>\n",
       "    <tr>\n",
       "      <th>8</th>\n",
       "      <td>346.197738</td>\n",
       "      <td>0.004305</td>\n",
       "    </tr>\n",
       "    <tr>\n",
       "      <th>9</th>\n",
       "      <td>346.398867</td>\n",
       "      <td>0.004323</td>\n",
       "    </tr>\n",
       "    <tr>\n",
       "      <th>10</th>\n",
       "      <td>346.594703</td>\n",
       "      <td>0.001313</td>\n",
       "    </tr>\n",
       "    <tr>\n",
       "      <th>11</th>\n",
       "      <td>346.795832</td>\n",
       "      <td>0.004359</td>\n",
       "    </tr>\n",
       "    <tr>\n",
       "      <th>12</th>\n",
       "      <td>346.996961</td>\n",
       "      <td>0.001349</td>\n",
       "    </tr>\n",
       "    <tr>\n",
       "      <th>13</th>\n",
       "      <td>347.198090</td>\n",
       "      <td>0.004395</td>\n",
       "    </tr>\n",
       "    <tr>\n",
       "      <th>14</th>\n",
       "      <td>347.393926</td>\n",
       "      <td>0.004413</td>\n",
       "    </tr>\n",
       "    <tr>\n",
       "      <th>15</th>\n",
       "      <td>347.595055</td>\n",
       "      <td>0.016545</td>\n",
       "    </tr>\n",
       "    <tr>\n",
       "      <th>16</th>\n",
       "      <td>347.796185</td>\n",
       "      <td>0.131641</td>\n",
       "    </tr>\n",
       "    <tr>\n",
       "      <th>17</th>\n",
       "      <td>347.997314</td>\n",
       "      <td>0.277022</td>\n",
       "    </tr>\n",
       "    <tr>\n",
       "      <th>18</th>\n",
       "      <td>348.198443</td>\n",
       "      <td>0.340636</td>\n",
       "    </tr>\n",
       "    <tr>\n",
       "      <th>19</th>\n",
       "      <td>348.399572</td>\n",
       "      <td>0.376994</td>\n",
       "    </tr>\n",
       "    <tr>\n",
       "      <th>20</th>\n",
       "      <td>348.595408</td>\n",
       "      <td>0.395182</td>\n",
       "    </tr>\n",
       "    <tr>\n",
       "      <th>21</th>\n",
       "      <td>348.796537</td>\n",
       "      <td>0.428513</td>\n",
       "    </tr>\n",
       "    <tr>\n",
       "      <th>22</th>\n",
       "      <td>348.997666</td>\n",
       "      <td>0.419446</td>\n",
       "    </tr>\n",
       "    <tr>\n",
       "      <th>23</th>\n",
       "      <td>349.198795</td>\n",
       "      <td>0.455804</td>\n",
       "    </tr>\n",
       "    <tr>\n",
       "      <th>24</th>\n",
       "      <td>349.399924</td>\n",
       "      <td>0.483078</td>\n",
       "    </tr>\n",
       "    <tr>\n",
       "      <th>25</th>\n",
       "      <td>349.601054</td>\n",
       "      <td>0.446755</td>\n",
       "    </tr>\n",
       "    <tr>\n",
       "      <th>26</th>\n",
       "      <td>349.796890</td>\n",
       "      <td>0.413461</td>\n",
       "    </tr>\n",
       "    <tr>\n",
       "      <th>27</th>\n",
       "      <td>349.998019</td>\n",
       "      <td>0.322628</td>\n",
       "    </tr>\n",
       "    <tr>\n",
       "      <th>28</th>\n",
       "      <td>350.199148</td>\n",
       "      <td>0.034950</td>\n",
       "    </tr>\n",
       "    <tr>\n",
       "      <th>29</th>\n",
       "      <td>350.400277</td>\n",
       "      <td>0.137933</td>\n",
       "    </tr>\n",
       "    <tr>\n",
       "      <th>30</th>\n",
       "      <td>350.601406</td>\n",
       "      <td>0.386278</td>\n",
       "    </tr>\n",
       "    <tr>\n",
       "      <th>31</th>\n",
       "      <td>350.802535</td>\n",
       "      <td>0.528630</td>\n",
       "    </tr>\n",
       "    <tr>\n",
       "      <th>32</th>\n",
       "      <td>350.998371</td>\n",
       "      <td>0.610414</td>\n",
       "    </tr>\n",
       "    <tr>\n",
       "      <th>33</th>\n",
       "      <td>351.199501</td>\n",
       "      <td>0.607404</td>\n",
       "    </tr>\n",
       "    <tr>\n",
       "      <th>34</th>\n",
       "      <td>351.400630</td>\n",
       "      <td>0.589251</td>\n",
       "    </tr>\n",
       "    <tr>\n",
       "      <th>35</th>\n",
       "      <td>351.596466</td>\n",
       "      <td>0.504474</td>\n",
       "    </tr>\n",
       "    <tr>\n",
       "      <th>36</th>\n",
       "      <td>351.802888</td>\n",
       "      <td>0.401528</td>\n",
       "    </tr>\n",
       "    <tr>\n",
       "      <th>37</th>\n",
       "      <td>351.998724</td>\n",
       "      <td>0.298581</td>\n",
       "    </tr>\n",
       "    <tr>\n",
       "      <th>38</th>\n",
       "      <td>352.199853</td>\n",
       "      <td>0.207747</td>\n",
       "    </tr>\n",
       "    <tr>\n",
       "      <th>39</th>\n",
       "      <td>352.395689</td>\n",
       "      <td>0.129027</td>\n",
       "    </tr>\n",
       "    <tr>\n",
       "      <th>40</th>\n",
       "      <td>352.602111</td>\n",
       "      <td>0.528792</td>\n",
       "    </tr>\n",
       "    <tr>\n",
       "      <th>41</th>\n",
       "      <td>352.797948</td>\n",
       "      <td>0.041240</td>\n",
       "    </tr>\n",
       "    <tr>\n",
       "      <th>42</th>\n",
       "      <td>352.999077</td>\n",
       "      <td>0.020060</td>\n",
       "    </tr>\n",
       "    <tr>\n",
       "      <th>43</th>\n",
       "      <td>353.200206</td>\n",
       "      <td>0.007964</td>\n",
       "    </tr>\n",
       "    <tr>\n",
       "      <th>44</th>\n",
       "      <td>353.401335</td>\n",
       "      <td>0.007983</td>\n",
       "    </tr>\n",
       "    <tr>\n",
       "      <th>45</th>\n",
       "      <td>353.602464</td>\n",
       "      <td>0.004972</td>\n",
       "    </tr>\n",
       "    <tr>\n",
       "      <th>46</th>\n",
       "      <td>353.803593</td>\n",
       "      <td>0.004990</td>\n",
       "    </tr>\n",
       "    <tr>\n",
       "      <th>47</th>\n",
       "      <td>353.999429</td>\n",
       "      <td>0.005008</td>\n",
       "    </tr>\n",
       "    <tr>\n",
       "      <th>48</th>\n",
       "      <td>354.200558</td>\n",
       "      <td>0.005026</td>\n",
       "    </tr>\n",
       "    <tr>\n",
       "      <th>49</th>\n",
       "      <td>354.401688</td>\n",
       "      <td>0.005044</td>\n",
       "    </tr>\n",
       "  </tbody>\n",
       "</table>\n",
       "</div>"
      ],
      "text/plain": [
       "    344.39545144271386   0.0027376999998276474\n",
       "0           344.596665                0.002756\n",
       "1           344.797879                0.002774\n",
       "2           344.999093                0.002792\n",
       "3           345.200307                0.002810\n",
       "4           345.397455                0.005444\n",
       "5           345.594350                0.007279\n",
       "6           345.795479                0.004269\n",
       "7           345.996608                0.004287\n",
       "8           346.197738                0.004305\n",
       "9           346.398867                0.004323\n",
       "10          346.594703                0.001313\n",
       "11          346.795832                0.004359\n",
       "12          346.996961                0.001349\n",
       "13          347.198090                0.004395\n",
       "14          347.393926                0.004413\n",
       "15          347.595055                0.016545\n",
       "16          347.796185                0.131641\n",
       "17          347.997314                0.277022\n",
       "18          348.198443                0.340636\n",
       "19          348.399572                0.376994\n",
       "20          348.595408                0.395182\n",
       "21          348.796537                0.428513\n",
       "22          348.997666                0.419446\n",
       "23          349.198795                0.455804\n",
       "24          349.399924                0.483078\n",
       "25          349.601054                0.446755\n",
       "26          349.796890                0.413461\n",
       "27          349.998019                0.322628\n",
       "28          350.199148                0.034950\n",
       "29          350.400277                0.137933\n",
       "30          350.601406                0.386278\n",
       "31          350.802535                0.528630\n",
       "32          350.998371                0.610414\n",
       "33          351.199501                0.607404\n",
       "34          351.400630                0.589251\n",
       "35          351.596466                0.504474\n",
       "36          351.802888                0.401528\n",
       "37          351.998724                0.298581\n",
       "38          352.199853                0.207747\n",
       "39          352.395689                0.129027\n",
       "40          352.602111                0.528792\n",
       "41          352.797948                0.041240\n",
       "42          352.999077                0.020060\n",
       "43          353.200206                0.007964\n",
       "44          353.401335                0.007983\n",
       "45          353.602464                0.004972\n",
       "46          353.803593                0.004990\n",
       "47          353.999429                0.005008\n",
       "48          354.200558                0.005026\n",
       "49          354.401688                0.005044"
      ]
     },
     "execution_count": 17,
     "metadata": {},
     "output_type": "execute_result"
    }
   ],
   "source": [
    "df"
   ]
  },
  {
   "cell_type": "code",
   "execution_count": 20,
   "id": "22fe06ed",
   "metadata": {},
   "outputs": [],
   "source": [
    "freq = df.iloc[:,0].values\n",
    "transferefficiency = df.iloc[:,1].values\n",
    "\n",
    "freq = np.array(freq)\n",
    "transferefficiency = np.array(transferefficiency)"
   ]
  },
  {
   "cell_type": "code",
   "execution_count": 22,
   "id": "6d6a67ca",
   "metadata": {},
   "outputs": [],
   "source": [
    "freq = np.delete(freq, -10)\n",
    "transferefficiency = np.delete(transferefficiency, -10)"
   ]
  },
  {
   "cell_type": "code",
   "execution_count": 31,
   "id": "ff95ed1a",
   "metadata": {},
   "outputs": [
    {
     "data": {
      "image/png": "[encoded data removed]",
      "text/plain": [
       "<Figure size 590x350 with 1 Axes>"
      ]
     },
     "metadata": {},
     "output_type": "display_data"
    }
   ],
   "source": [
    "fig, ax = plt.subplots()\n",
    "\n",
    "ax.plot(freq, transferefficiency, 'ko-')\n",
    "ax.set_xlabel('Red DPAOM frequency (MHz)')\n",
    "ax.set_ylabel(r'Transfer Efficiency $\\eta_{MOT}$')\n",
    "# Define the transformation functions for the secondary x-axis\n",
    "def freq_to_offset(x):\n",
    "    return x * 2 + 460 - 100 \n",
    "def offset_to_freq(x):\n",
    "    return (x + 100 - 460) / 2\n",
    "# Apply the transformation functions for the secondary axis\n",
    "ax_top = ax.secondary_xaxis('top', functions=(freq_to_offset, offset_to_freq))\n",
    "ax_top.set_xlabel(r'Frequency offset from cavity $f_{cavityoffset}$ (MHz)', labelpad=8)\n",
    "\n",
    "# set xticks for x axis as 345, 346 ... 353, 354, 355\n",
    "ax.set_xticks(np.arange(345, 356, 1))\n",
    "ax_top.set_xticks(freq_to_offset(np.arange(345, 356, 1)))\n",
    "\n",
    "plt.savefig(\"250502 BBRedMOTSpectroscopy.pdf\")"
   ]
  },
  {
   "cell_type": "code",
   "execution_count": null,
   "id": "87a0f63d",
   "metadata": {},
   "outputs": [],
   "source": [
    "s"
   ]
  }
 ],
 "metadata": {
  "kernelspec": {
   "display_name": "base",
   "language": "python",
   "name": "python3"
  },
  "language_info": {
   "codemirror_mode": {
    "name": "ipython",
    "version": 3
   },
   "file_extension": ".py",
   "mimetype": "text/x-python",
   "name": "python",
   "nbconvert_exporter": "python",
   "pygments_lexer": "ipython3",
   "version": "3.12.7"
  }
 },
 "nbformat": 4,
 "nbformat_minor": 5
}
