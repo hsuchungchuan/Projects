{
 "cells": [
  {
   "cell_type": "code",
   "execution_count": 89,
   "id": "6e685f97",
   "metadata": {},
   "outputs": [],
   "source": [
    "import matplotlib as mpl\n",
    "import pandas as pd\n",
    "import numpy as np\n",
    "import matplotlib.pyplot as plt\n",
    "import math\n",
    "from tqdm import tqdm\n",
    "\n",
    "from decimal import Decimal\n"
   ]
  },
  {
   "cell_type": "markdown",
   "id": "d9b43b29",
   "metadata": {},
   "source": [
    "**Parameters need for the calculations**\n",
    "\n",
    "1.The photodiode signal due to Fluorescence (mV)\n",
    "\n",
    "2.Resistance of Photodiode \n",
    "$$I = U/R$$\n",
    "\n",
    "3.The reponsitivity of the photodiode\n",
    "$$P = I/responsitivity$$\n",
    "\n",
    "4.The fluorescence rate per atom/scattering rate (photons/s)\n",
    "\n",
    "5.The photon flux(Photons/s) \n",
    "$$r_p= P/hv$$\n",
    "\n",
    "Then Calculate how many atoms got into PD. With Solid angle, calculate the total number of atoms in the MOT\n",
    "\n",
    "6.solid angle: \n",
    "$$Omega = A/d^2$$\n",
    "\n",
    "where the area of the lens surface and d being the distance from the lens to the object.\n",
    "\n",
    "7.3D MOT Size: 1.373 mm, 1.626 mm\n",
    "\n",
    "Chip size : 3*3 mm\n",
    "\n",
    "\n",
    "\n"
   ]
  },
  {
   "cell_type": "code",
   "execution_count": 90,
   "id": "362c9bfc",
   "metadata": {},
   "outputs": [],
   "source": [
    "def error_sum_diff(error1, error2):\n",
    "    \"\"\"\n",
    "    Calculate the error in the sum or difference of two values.\n",
    "    \"\"\"\n",
    "    return math.sqrt(error1**2 + error2**2)\n",
    "\n",
    "def error_product_quotient(value1, error1, value2, error2, operation='product'):\n",
    "    \"\"\"\n",
    "    Calculate the error in the product or quotient of two values.\n",
    "    \"\"\"\n",
    "    if operation == 'product':\n",
    "        result = value1 * value2\n",
    "        return abs(result) * math.sqrt((error1/value1)**2 + (error2/value2)**2)\n",
    "    elif operation == 'quotient':\n",
    "        result = value1 / value2\n",
    "        return abs(result) * math.sqrt((error1/value1)**2 + (error2/value2)**2)\n",
    "    else:\n",
    "        raise ValueError(\"Invalid operation. Use 'product' or 'quotient'.\")"
   ]
  },
  {
   "cell_type": "code",
   "execution_count": 124,
   "id": "23dcf135",
   "metadata": {},
   "outputs": [],
   "source": [
    "P_v = 0.3# V #Photodiode Signal\n",
    "\n",
    "V_err = 0.01\n",
    "\n",
    "gain = 2.38 * 10**(6) #V/A 70db\n",
    "\n",
    "gain_err = gain*0.02\n",
    "\n",
    "\n",
    "Respons = 0.12\n",
    "\n",
    "Respons_err = 0.005\n",
    "\n",
    "\n",
    "\n",
    "c = 299792458 #m/s\n",
    "\n",
    "h = 6.62607015*10**(-34)# Joule*second\n",
    "\n",
    "wavelength = 460.862022*10**(-9)\n",
    "\n",
    "wave_err = 0.000002*10**(-9)\n",
    "\n",
    "f = c/wavelength# m/s\n",
    "\n",
    "f_err = error_product_quotient(c,0,wavelength,wave_err, operation='quotient')\n",
    "\n",
    "E = h*f \n",
    "\n",
    "E_err = error_product_quotient(h,0,f,f_err, operation='product')\n"
   ]
  },
  {
   "cell_type": "code",
   "execution_count": 125,
   "id": "23eb9b66",
   "metadata": {},
   "outputs": [],
   "source": [
    "P_I = P_v/gain #PD Current\n",
    "\n",
    "I_err = error_product_quotient(P_v,V_err,gain,gain_err, operation='quotient')"
   ]
  },
  {
   "cell_type": "code",
   "execution_count": 126,
   "id": "ac7b29a2",
   "metadata": {},
   "outputs": [
    {
     "name": "stdout",
     "output_type": "stream",
     "text": [
      "The current in the photodioe is 1.261E-7 +/- 3.8873012632302 % A\n"
     ]
    }
   ],
   "source": [
    "print(\"The current in the photodioe is \"\"{:.3E}\".format(Decimal(P_I)), \"+/-\", I_err/P_I*100 ,\"%\", \"A\")"
   ]
  },
  {
   "cell_type": "code",
   "execution_count": 127,
   "id": "4d29dbed",
   "metadata": {},
   "outputs": [],
   "source": [
    "P_P = P_I/Respons # Light incident power\n",
    "P_err = error_product_quotient(P_I,I_err,Respons,Respons_err, operation='quotient')"
   ]
  },
  {
   "cell_type": "code",
   "execution_count": 128,
   "id": "02f92a7f",
   "metadata": {},
   "outputs": [
    {
     "name": "stdout",
     "output_type": "stream",
     "text": [
      "The incident lignt power is 1.050E-6 +/- 5.698440332426253 % W\n"
     ]
    }
   ],
   "source": [
    "print(\"The incident lignt power is \"\"{:.3E}\".format(Decimal(P_P)), \"+/-\", P_err/P_P*100,\"%\", \"W\")"
   ]
  },
  {
   "cell_type": "code",
   "execution_count": 129,
   "id": "211d9266",
   "metadata": {},
   "outputs": [],
   "source": [
    "r_p=P_P/E # photons per second/photon flux\n",
    "r_p_err = error_product_quotient(P_P,P_err,E,E_err, operation='quotient')"
   ]
  },
  {
   "cell_type": "code",
   "execution_count": 130,
   "id": "5ce020bd",
   "metadata": {},
   "outputs": [
    {
     "name": "stdout",
     "output_type": "stream",
     "text": [
      "The photon flux is 2.437E+12 +/- 5.698440332426269 % photons per second\n"
     ]
    }
   ],
   "source": [
    "print('The photon flux is '\"{:.3E}\".format(Decimal(r_p)), \"+/-\",r_p_err/r_p*100,\"%\",\"photons per second\")"
   ]
  },
  {
   "cell_type": "markdown",
   "id": "aaf97637",
   "metadata": {},
   "source": [
    "Scattering rate of the strontinum atoms\n",
    "\n",
    "\\begin{equation}\n",
    "R = \\frac{\\Gamma}{2} \\frac{I/I_{sat}}{1 + I/I_{sat} + 4\\delta^2/\\Gamma^2}.\n",
    "\\end{equation}"
   ]
  },
  {
   "cell_type": "code",
   "execution_count": 131,
   "id": "20d7997b",
   "metadata": {},
   "outputs": [],
   "source": [
    "gamma = 2*np.pi*30.41*10**(6) #The natural linewidth of the transition\n",
    "\n",
    "I_Isat = 0.9\n",
    "\n",
    "detune = -60 *10**6 #Hz detuning of the 3D MOT beam\n",
    "detune_err = 3 * 10**(6)"
   ]
  },
  {
   "cell_type": "code",
   "execution_count": 132,
   "id": "584d6327",
   "metadata": {},
   "outputs": [],
   "source": [
    "R = gamma/2*I_Isat/(1+I_Isat+4*detune**2/gamma**2)\n",
    "\n",
    "R_err = R*detune_err/detune"
   ]
  },
  {
   "cell_type": "code",
   "execution_count": 133,
   "id": "0ee4fe7a",
   "metadata": {},
   "outputs": [
    {
     "name": "stdout",
     "output_type": "stream",
     "text": [
      "The scattering rate of the strontinum atoms is 3.747E+7 +/- 5.0 % photons per second per atom\n"
     ]
    }
   ],
   "source": [
    "print('The scattering rate of the strontinum atoms is '\"{:.3E}\".format(Decimal(R)), \"+/-\",-R_err/R*100,\"%\", \"photons per second per atom\")"
   ]
  },
  {
   "cell_type": "markdown",
   "id": "1f4e7812",
   "metadata": {},
   "source": [
    "Atom number at the photodiode"
   ]
  },
  {
   "cell_type": "code",
   "execution_count": 134,
   "id": "cfc4f11e",
   "metadata": {},
   "outputs": [],
   "source": [
    "N_pd = r_p/R # the number of atoms into the photodiode\n",
    "\n",
    "N_pd_err = error_product_quotient(r_p,r_p_err,R,R_err, operation='quotient')"
   ]
  },
  {
   "cell_type": "code",
   "execution_count": 135,
   "id": "306b475b",
   "metadata": {},
   "outputs": [
    {
     "name": "stdout",
     "output_type": "stream",
     "text": [
      "The number of atoms into the photodiode is 6.503E+4 +/- 7.581043610362785 % photons per second per atom\n"
     ]
    }
   ],
   "source": [
    "print('The number of atoms into the photodiode is '\"{:.3E}\".format(Decimal(N_pd)), \"+/-\",N_pd_err/N_pd*100,\"%\", \"photons per second per atom\")"
   ]
  },
  {
   "cell_type": "code",
   "execution_count": 136,
   "id": "0507b79c",
   "metadata": {},
   "outputs": [],
   "source": [
    "#calculate the solid angle\n",
    "r = 12.7*10**(-3)/2\n",
    "r_err = 0.1*10**(-3)/2# mm\n",
    "r_sqre = (12.7*10**(-3)/2)**2\n",
    "r_sqre_err = error_product_quotient(r,r_err,r,r_err, operation='product')\n",
    "\n",
    "\n",
    "A = np.pi*r_sqre\n",
    "A_err=error_product_quotient(np.pi,0,r_sqre,r_sqre_err, operation='product')\n",
    "\n",
    "d = 0.15\n",
    "d_err=0.001\n",
    "d_sqre = d**2\n",
    "d_sqre_err = error_product_quotient(d,d_err,d,d_err, operation='product')\n",
    "\n",
    "Omega = A/d**2\n",
    "Omega_err = error_product_quotient(A,A_err,d_sqre,d_sqre_err, operation='quotient')"
   ]
  },
  {
   "cell_type": "code",
   "execution_count": 137,
   "id": "6f5a750d",
   "metadata": {},
   "outputs": [
    {
     "name": "stdout",
     "output_type": "stream",
     "text": [
      "The solid angle is 5.630E-3 +/- 1.4590720917397635 %\n"
     ]
    }
   ],
   "source": [
    "print('The solid angle is '\"{:.3E}\".format(Decimal(Omega)), \"+/-\",Omega_err/Omega*100,\"%\")"
   ]
  },
  {
   "cell_type": "code",
   "execution_count": 138,
   "id": "60b19aaf",
   "metadata": {},
   "outputs": [],
   "source": [
    "N_r = N_pd*4*np.pi/Omega\n",
    "N_r_err = N_r* math.sqrt((N_pd_err/N_pd)**2 + (Omega_err/Omega)**2)"
   ]
  },
  {
   "cell_type": "code",
   "execution_count": 139,
   "id": "ad685d21",
   "metadata": {},
   "outputs": [
    {
     "name": "stdout",
     "output_type": "stream",
     "text": [
      "The 3D Blue MOT currently have 1.452E+8 +/- 7.720175748719472 % atoms\n"
     ]
    }
   ],
   "source": [
    "print('The 3D Blue MOT currently have '\"{:.3E}\".format(Decimal(N_r)),\"+/-\",N_r_err/N_r*100,\"%\",\"atoms\")"
   ]
  }
 ],
 "metadata": {
  "kernelspec": {
   "display_name": "Python 3 (ipykernel)",
   "language": "python",
   "name": "python3"
  },
  "language_info": {
   "codemirror_mode": {
    "name": "ipython",
    "version": 3
   },
   "file_extension": ".py",
   "mimetype": "text/x-python",
   "name": "python",
   "nbconvert_exporter": "python",
   "pygments_lexer": "ipython3",
   "version": "3.10.9"
  }
 },
 "nbformat": 4,
 "nbformat_minor": 5
}
