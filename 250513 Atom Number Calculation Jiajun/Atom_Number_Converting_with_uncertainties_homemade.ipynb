{
 "cells": [
  {
   "cell_type": "code",
   "execution_count": null,
   "id": "79e0fe41",
   "metadata": {},
   "outputs": [],
   "source": [
    "import matplotlib as mpl\n",
    "import pandas as pd\n",
    "import numpy as np\n",
    "import matplotlib.pyplot as plt\n",
    "import math\n",
    "from tqdm import tqdm\n",
    "\n",
    "from decimal import Decimal\n",
    " "
   ]
  },
  {
   "cell_type": "markdown",
   "id": "414cfd38",
   "metadata": {},
   "source": [
    "**Parameters need for the calculations**\n",
    "\n",
    "1.The photodiode signal due to Fluorescence (mV)\n",
    "\n",
    "2.Resistance of Photodiode \n",
    "$$I = U/R$$\n",
    "\n",
    "3.The reponsitivity of the photodiode\n",
    "$$P = I/responsitivity$$\n",
    "\n",
    "4.The fluorescence rate per atom/scattering rate (photons/s)\n",
    "\n",
    "5.The photon flux(Photons/s) \n",
    "$$r_p= P/hv$$\n",
    "\n",
    "Then Calculate how many atoms got into PD. With Solid angle, calculate the total number of atoms in the MOT\n",
    "\n",
    "6.solid angle: \n",
    "$$Omega = A/d^2$$\n",
    "\n",
    "where the area of the lens surface and d being the distance from the lens to the object.\n",
    "\n",
    "7.3D MOT Size: 1.373 mm, 1.626 mm\n",
    "\n",
    "Chip size : 3*3 mm\n",
    "\n",
    "\n",
    "\n"
   ]
  },
  {
   "cell_type": "code",
   "execution_count": 2,
   "id": "1c2551d4",
   "metadata": {},
   "outputs": [],
   "source": [
    "def error_sum_diff(error1, error2):\n",
    "    \"\"\"\n",
    "    Calculate the error in the sum or difference of two values.\n",
    "    \"\"\"\n",
    "    return math.sqrt(error1**2 + error2**2)\n",
    "\n",
    "def error_product_quotient(value1, error1, value2, error2, operation='product'):\n",
    "    \"\"\"\n",
    "    Calculate the error in the product or quotient of two values.\n",
    "    \"\"\"\n",
    "    if operation == 'product':\n",
    "        result = value1 * value2\n",
    "        return abs(result) * math.sqrt((error1/value1)**2 + (error2/value2)**2)\n",
    "    elif operation == 'quotient':\n",
    "        result = value1 / value2\n",
    "        return abs(result) * math.sqrt((error1/value1)**2 + (error2/value2)**2)\n",
    "    else:\n",
    "        raise ValueError(\"Invalid operation. Use 'product' or 'quotient'.\")"
   ]
  },
  {
   "cell_type": "code",
   "execution_count": 19,
   "id": "6bb92d66",
   "metadata": {},
   "outputs": [],
   "source": [
    "P_v = 30*10**(-3) # V #Photodiode signal\n",
    "\n",
    "V_err = 3 * 10**(-3)\n",
    "\n",
    "P_r = 680*10**(3) # ohm\n",
    "\n",
    "\n",
    "\n",
    "R_err = 125 \n",
    "\n",
    "Respons = 0.15\n",
    "\n",
    "Respons_err = 0.005\n",
    "\n",
    "\n",
    "\n",
    "c = 299792458 #m/s\n",
    "\n",
    "h = 6.62607015*10**(-34)# Joule*second\n",
    "\n",
    "wavelength = 460.862022*10**(-9)\n",
    "\n",
    "wave_err = 0.000002*10**(-9)\n",
    "\n",
    "f = c/wavelength# m/s\n",
    "\n",
    "f_err = error_product_quotient(c,0,wavelength,wave_err, operation='quotient')\n",
    "\n",
    "E = h*f \n",
    "\n",
    "E_err = error_product_quotient(h,0,f,f_err, operation='product')\n"
   ]
  },
  {
   "cell_type": "code",
   "execution_count": 20,
   "id": "64aef747",
   "metadata": {},
   "outputs": [],
   "source": [
    "P_I = P_v/P_r #PD Current\n",
    "I_err = error_product_quotient(P_v,V_err,P_r,R_err, operation='quotient')"
   ]
  },
  {
   "cell_type": "code",
   "execution_count": 21,
   "id": "e5a94de4",
   "metadata": {},
   "outputs": [
    {
     "name": "stdout",
     "output_type": "stream",
     "text": [
      "The current in the photodioe is 4.412E-8 +/- 10.000016895530711 % A\n"
     ]
    }
   ],
   "source": [
    "print(\"The current in the photodioe is \"\"{:.3E}\".format(Decimal(P_I)), \"+/-\", I_err/P_I*100 ,\"%\", \"A\")"
   ]
  },
  {
   "cell_type": "code",
   "execution_count": 22,
   "id": "57c7e130",
   "metadata": {},
   "outputs": [],
   "source": [
    "P_P = P_I/Respons # Light incident power\n",
    "P_err = error_product_quotient(P_I,I_err,Respons,Respons_err, operation='quotient')"
   ]
  },
  {
   "cell_type": "code",
   "execution_count": 23,
   "id": "b9d74e2d",
   "metadata": {},
   "outputs": [
    {
     "name": "stdout",
     "output_type": "stream",
     "text": [
      "The incident lignt power is 2.941E-7 +/- 10.54094156240375 % W\n"
     ]
    }
   ],
   "source": [
    "print(\"The incident lignt power is \"\"{:.3E}\".format(Decimal(P_P)), \"+/-\", P_err/P_P*100,\"%\", \"W\")"
   ]
  },
  {
   "cell_type": "code",
   "execution_count": 24,
   "id": "16bcba8c",
   "metadata": {},
   "outputs": [],
   "source": [
    "r_p=P_P/E # photons per second/photon flux\n",
    "r_p_err = error_product_quotient(P_P,P_err,E,E_err, operation='quotient')"
   ]
  },
  {
   "cell_type": "code",
   "execution_count": 25,
   "id": "45228491",
   "metadata": {},
   "outputs": [
    {
     "name": "stdout",
     "output_type": "stream",
     "text": [
      "The photon flux is 6.824E+11 +/- 10.54094156240376 % photons per second\n"
     ]
    }
   ],
   "source": [
    "print('The photon flux is '\"{:.3E}\".format(Decimal(r_p)), \"+/-\",r_p_err/r_p*100,\"%\",\"photons per second\")"
   ]
  },
  {
   "cell_type": "markdown",
   "id": "6597761c",
   "metadata": {},
   "source": [
    "Scattering rate of the strontinum atoms\n",
    "\n",
    "\\begin{equation}\n",
    "R = \\frac{\\Gamma}{2} \\frac{I/I_{sat}}{1 + I/I_{sat} + 4\\delta^2/\\Gamma^2}.\n",
    "\\end{equation}"
   ]
  },
  {
   "cell_type": "code",
   "execution_count": 26,
   "id": "590fc384",
   "metadata": {},
   "outputs": [],
   "source": [
    "gamma = 2*np.pi*30.41*10**(6) #The natural linewidth of the transition\n",
    "\n",
    "I_Isat = 0.9\n",
    "\n",
    "detune = -60 *10**(6) #Hz detuning of the 3D MOT beam\n",
    "detune_err = 3 * 10**(6)"
   ]
  },
  {
   "cell_type": "code",
   "execution_count": 27,
   "id": "5dce784c",
   "metadata": {},
   "outputs": [],
   "source": [
    "R = gamma/2*I_Isat/(1+I_Isat+4*detune**2/gamma**2)\n",
    "\n",
    "R_err = R*detune_err/detune"
   ]
  },
  {
   "cell_type": "code",
   "execution_count": 28,
   "id": "d084abcd",
   "metadata": {},
   "outputs": [
    {
     "name": "stdout",
     "output_type": "stream",
     "text": [
      "The scattering rate of the strontinum atoms is 3.747E+7 +/- 5.0 % photons per second per atom\n"
     ]
    }
   ],
   "source": [
    "print('The scattering rate of the strontinum atoms is '\"{:.3E}\".format(Decimal(R)), \"+/-\",-R_err/R*100,\"%\", \"photons per second per atom\")"
   ]
  },
  {
   "cell_type": "markdown",
   "id": "12893912",
   "metadata": {},
   "source": [
    "Atom number at the photodiode"
   ]
  },
  {
   "cell_type": "code",
   "execution_count": 29,
   "id": "62d2105e",
   "metadata": {},
   "outputs": [],
   "source": [
    "N_pd = r_p/R # the number of atoms into the photodiode\n",
    "\n",
    "N_pd_err = error_product_quotient(r_p,r_p_err,R,R_err, operation='quotient')"
   ]
  },
  {
   "cell_type": "code",
   "execution_count": 30,
   "id": "3f87a089",
   "metadata": {},
   "outputs": [
    {
     "name": "stdout",
     "output_type": "stream",
     "text": [
      "The number of atoms into the photodiode is 1.821E+4 +/- 11.666681148553387 % photons per second per atom\n"
     ]
    }
   ],
   "source": [
    "print('The number of atoms into the photodiode is '\"{:.3E}\".format(Decimal(N_pd)), \"+/-\",N_pd_err/N_pd*100,\"%\", \"photons per second per atom\")"
   ]
  },
  {
   "cell_type": "code",
   "execution_count": 31,
   "id": "fd84b48c",
   "metadata": {},
   "outputs": [],
   "source": [
    "#calculate the solid angle\n",
    "r = 12.7*10**(-3)/2\n",
    "r_err = 0.1*10**(-3)/2# mm\n",
    "r_sqre = (12.7*10**(-3)/2)**2\n",
    "r_sqre_err = error_product_quotient(r,r_err,r,r_err, operation='product')\n",
    "\n",
    "A = np.pi*r_sqre\n",
    "A_err=error_product_quotient(np.pi,0,r_sqre,r_sqre_err, operation='product')\n",
    "\n",
    "d = 0.15\n",
    "d_err=0.001\n",
    "d_sqre = d**2\n",
    "d_sqre_err = error_product_quotient(d,d_err,d,d_err, operation='product')\n",
    "\n",
    "Omega = A/d**2\n",
    "Omega_err = error_product_quotient(A,A_err,d_sqre,d_sqre_err, operation='quotient')"
   ]
  },
  {
   "cell_type": "code",
   "execution_count": 32,
   "id": "0e9a6feb",
   "metadata": {},
   "outputs": [
    {
     "name": "stdout",
     "output_type": "stream",
     "text": [
      "The solid angle is 5.630E-3 +/- 1.4590720917397635 %\n"
     ]
    }
   ],
   "source": [
    "print('The solid angle is '\"{:.3E}\".format(Decimal(Omega)), \"+/-\",Omega_err/Omega*100,\"%\")"
   ]
  },
  {
   "cell_type": "code",
   "execution_count": 33,
   "id": "ba222cba",
   "metadata": {},
   "outputs": [],
   "source": [
    "N_r = N_pd*4*np.pi/Omega\n",
    "N_r_err = N_r* math.sqrt((N_pd_err/N_pd)**2 + (Omega_err/Omega)**2)"
   ]
  },
  {
   "cell_type": "code",
   "execution_count": 34,
   "id": "d393ecba",
   "metadata": {},
   "outputs": [
    {
     "name": "stdout",
     "output_type": "stream",
     "text": [
      "The 3D Blue MOT currently have 4.064E+7 +/- 11.75756524076753 % atoms\n"
     ]
    }
   ],
   "source": [
    "print('The 3D Blue MOT currently have '\"{:.3E}\".format(Decimal(N_r)),\"+/-\",N_r_err/N_r*100,\"%\",\"atoms\")"
   ]
  }
 ],
 "metadata": {
  "kernelspec": {
   "display_name": "Python 3 (ipykernel)",
   "language": "python",
   "name": "python3"
  },
  "language_info": {
   "codemirror_mode": {
    "name": "ipython",
    "version": 3
   },
   "file_extension": ".py",
   "mimetype": "text/x-python",
   "name": "python",
   "nbconvert_exporter": "python",
   "pygments_lexer": "ipython3",
   "version": "3.10.9"
  }
 },
 "nbformat": 4,
 "nbformat_minor": 5
}
