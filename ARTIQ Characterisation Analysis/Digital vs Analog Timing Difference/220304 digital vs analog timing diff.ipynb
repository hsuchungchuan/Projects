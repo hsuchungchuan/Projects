{
 "cells": [
  {
   "cell_type": "code",
   "execution_count": 2,
   "id": "6045eb6f",
   "metadata": {},
   "outputs": [],
   "source": [
    "import numpy as np\n",
    "import matplotlib.pyplot as plt\n",
    "import matplotlib as mpl\n",
    "plt.rcParams['text.usetex'] = True\n",
    "plt.rcParams['font.size'] = 15\n",
    "plt.rcParams['legend.fontsize'] = 12\n",
    "plt.rcParams['xtick.direction'] = 'out'\n",
    "plt.rcParams['ytick.direction'] = 'out'\n",
    "plt.rcParams['xtick.major.size'] = 5.0\n",
    "plt.rcParams['xtick.minor.size'] = 3.0\n",
    "plt.rcParams['ytick.major.size'] = 5.0\n",
    "plt.rcParams['ytick.minor.size'] = 3.0\n",
    "plt.rcParams['legend.handlelength'] = 1.0"
   ]
  },
  {
   "cell_type": "code",
   "execution_count": 3,
   "id": "eeb245ac",
   "metadata": {},
   "outputs": [],
   "source": [
    "import pandas as pd"
   ]
  },
  {
   "cell_type": "code",
   "execution_count": 11,
   "id": "1adefaac",
   "metadata": {},
   "outputs": [],
   "source": [
    "df = pd.read_excel('analog_digital_onepulse.xlsx')"
   ]
  },
  {
   "cell_type": "code",
   "execution_count": 12,
   "id": "a1aaca12",
   "metadata": {},
   "outputs": [
    {
     "data": {
      "text/html": [
       "<div>\n",
       "<style scoped>\n",
       "    .dataframe tbody tr th:only-of-type {\n",
       "        vertical-align: middle;\n",
       "    }\n",
       "\n",
       "    .dataframe tbody tr th {\n",
       "        vertical-align: top;\n",
       "    }\n",
       "\n",
       "    .dataframe thead th {\n",
       "        text-align: right;\n",
       "    }\n",
       "</style>\n",
       "<table border=\"1\" class=\"dataframe\">\n",
       "  <thead>\n",
       "    <tr style=\"text-align: right;\">\n",
       "      <th></th>\n",
       "      <th>Time</th>\n",
       "      <th>Channel A</th>\n",
       "      <th>Channel B</th>\n",
       "    </tr>\n",
       "  </thead>\n",
       "  <tbody>\n",
       "    <tr>\n",
       "      <th>0</th>\n",
       "      <td>(us)</td>\n",
       "      <td>(V)</td>\n",
       "      <td>(V)</td>\n",
       "    </tr>\n",
       "    <tr>\n",
       "      <th>1</th>\n",
       "      <td>NaN</td>\n",
       "      <td>NaN</td>\n",
       "      <td>NaN</td>\n",
       "    </tr>\n",
       "    <tr>\n",
       "      <th>2</th>\n",
       "      <td>-20.721722</td>\n",
       "      <td>0.163884</td>\n",
       "      <td>-0.017701</td>\n",
       "    </tr>\n",
       "    <tr>\n",
       "      <th>3</th>\n",
       "      <td>-20.713722</td>\n",
       "      <td>0.149541</td>\n",
       "      <td>-0.007935</td>\n",
       "    </tr>\n",
       "    <tr>\n",
       "      <th>4</th>\n",
       "      <td>-20.705722</td>\n",
       "      <td>0.156865</td>\n",
       "      <td>0.014649</td>\n",
       "    </tr>\n",
       "    <tr>\n",
       "      <th>...</th>\n",
       "      <td>...</td>\n",
       "      <td>...</td>\n",
       "      <td>...</td>\n",
       "    </tr>\n",
       "    <tr>\n",
       "      <th>12501</th>\n",
       "      <td>79.270275</td>\n",
       "      <td>3.265481</td>\n",
       "      <td>7.004608</td>\n",
       "    </tr>\n",
       "    <tr>\n",
       "      <th>12502</th>\n",
       "      <td>79.278275</td>\n",
       "      <td>3.270669</td>\n",
       "      <td>7.01651</td>\n",
       "    </tr>\n",
       "    <tr>\n",
       "      <th>12503</th>\n",
       "      <td>79.286275</td>\n",
       "      <td>3.260292</td>\n",
       "      <td>6.987823</td>\n",
       "    </tr>\n",
       "    <tr>\n",
       "      <th>12504</th>\n",
       "      <td>79.294275</td>\n",
       "      <td>3.261513</td>\n",
       "      <td>7.006744</td>\n",
       "    </tr>\n",
       "    <tr>\n",
       "      <th>12505</th>\n",
       "      <td>79.302275</td>\n",
       "      <td>3.271279</td>\n",
       "      <td>7.013154</td>\n",
       "    </tr>\n",
       "  </tbody>\n",
       "</table>\n",
       "<p>12506 rows × 3 columns</p>\n",
       "</div>"
      ],
      "text/plain": [
       "            Time Channel A Channel B\n",
       "0           (us)       (V)       (V)\n",
       "1            NaN       NaN       NaN\n",
       "2     -20.721722  0.163884 -0.017701\n",
       "3     -20.713722  0.149541 -0.007935\n",
       "4     -20.705722  0.156865  0.014649\n",
       "...          ...       ...       ...\n",
       "12501  79.270275  3.265481  7.004608\n",
       "12502  79.278275  3.270669   7.01651\n",
       "12503  79.286275  3.260292  6.987823\n",
       "12504  79.294275  3.261513  7.006744\n",
       "12505  79.302275  3.271279  7.013154\n",
       "\n",
       "[12506 rows x 3 columns]"
      ]
     },
     "execution_count": 12,
     "metadata": {},
     "output_type": "execute_result"
    }
   ],
   "source": [
    "df"
   ]
  },
  {
   "cell_type": "code",
   "execution_count": 13,
   "id": "6233cf15",
   "metadata": {},
   "outputs": [
    {
     "data": {
      "text/html": [
       "<div>\n",
       "<style scoped>\n",
       "    .dataframe tbody tr th:only-of-type {\n",
       "        vertical-align: middle;\n",
       "    }\n",
       "\n",
       "    .dataframe tbody tr th {\n",
       "        vertical-align: top;\n",
       "    }\n",
       "\n",
       "    .dataframe thead th {\n",
       "        text-align: right;\n",
       "    }\n",
       "</style>\n",
       "<table border=\"1\" class=\"dataframe\">\n",
       "  <thead>\n",
       "    <tr style=\"text-align: right;\">\n",
       "      <th></th>\n",
       "      <th>Time</th>\n",
       "      <th>Channel A</th>\n",
       "      <th>Channel B</th>\n",
       "    </tr>\n",
       "  </thead>\n",
       "  <tbody>\n",
       "    <tr>\n",
       "      <th>2</th>\n",
       "      <td>-20.721722</td>\n",
       "      <td>0.163884</td>\n",
       "      <td>-0.017701</td>\n",
       "    </tr>\n",
       "    <tr>\n",
       "      <th>3</th>\n",
       "      <td>-20.713722</td>\n",
       "      <td>0.149541</td>\n",
       "      <td>-0.007935</td>\n",
       "    </tr>\n",
       "    <tr>\n",
       "      <th>4</th>\n",
       "      <td>-20.705722</td>\n",
       "      <td>0.156865</td>\n",
       "      <td>0.014649</td>\n",
       "    </tr>\n",
       "    <tr>\n",
       "      <th>5</th>\n",
       "      <td>-20.697722</td>\n",
       "      <td>0.149541</td>\n",
       "      <td>0.009461</td>\n",
       "    </tr>\n",
       "    <tr>\n",
       "      <th>6</th>\n",
       "      <td>-20.689722</td>\n",
       "      <td>0.159917</td>\n",
       "      <td>-0.009156</td>\n",
       "    </tr>\n",
       "    <tr>\n",
       "      <th>...</th>\n",
       "      <td>...</td>\n",
       "      <td>...</td>\n",
       "      <td>...</td>\n",
       "    </tr>\n",
       "    <tr>\n",
       "      <th>12501</th>\n",
       "      <td>79.270275</td>\n",
       "      <td>3.265481</td>\n",
       "      <td>7.004608</td>\n",
       "    </tr>\n",
       "    <tr>\n",
       "      <th>12502</th>\n",
       "      <td>79.278275</td>\n",
       "      <td>3.270669</td>\n",
       "      <td>7.01651</td>\n",
       "    </tr>\n",
       "    <tr>\n",
       "      <th>12503</th>\n",
       "      <td>79.286275</td>\n",
       "      <td>3.260292</td>\n",
       "      <td>6.987823</td>\n",
       "    </tr>\n",
       "    <tr>\n",
       "      <th>12504</th>\n",
       "      <td>79.294275</td>\n",
       "      <td>3.261513</td>\n",
       "      <td>7.006744</td>\n",
       "    </tr>\n",
       "    <tr>\n",
       "      <th>12505</th>\n",
       "      <td>79.302275</td>\n",
       "      <td>3.271279</td>\n",
       "      <td>7.013154</td>\n",
       "    </tr>\n",
       "  </tbody>\n",
       "</table>\n",
       "<p>12504 rows × 3 columns</p>\n",
       "</div>"
      ],
      "text/plain": [
       "            Time Channel A Channel B\n",
       "2     -20.721722  0.163884 -0.017701\n",
       "3     -20.713722  0.149541 -0.007935\n",
       "4     -20.705722  0.156865  0.014649\n",
       "5     -20.697722  0.149541  0.009461\n",
       "6     -20.689722  0.159917 -0.009156\n",
       "...          ...       ...       ...\n",
       "12501  79.270275  3.265481  7.004608\n",
       "12502  79.278275  3.270669   7.01651\n",
       "12503  79.286275  3.260292  6.987823\n",
       "12504  79.294275  3.261513  7.006744\n",
       "12505  79.302275  3.271279  7.013154\n",
       "\n",
       "[12504 rows x 3 columns]"
      ]
     },
     "execution_count": 13,
     "metadata": {},
     "output_type": "execute_result"
    }
   ],
   "source": [
    "df = df[2:]\n",
    "df"
   ]
  },
  {
   "cell_type": "code",
   "execution_count": 14,
   "id": "36b8134d",
   "metadata": {},
   "outputs": [
    {
     "data": {
      "text/plain": [
       "Text(0.5, 1.0, 'hi')"
      ]
     },
     "execution_count": 14,
     "metadata": {},
     "output_type": "execute_result"
    },
    {
     "data": {
      "image/png": "[encoded data removed]",
      "text/plain": [
       "<Figure size 720x576 with 1 Axes>"
      ]
     },
     "metadata": {
      "needs_background": "light"
     },
     "output_type": "display_data"
    }
   ],
   "source": [
    "t = df.iloc[:,0]\n",
    "a = df.iloc[:,1]\n",
    "b = df.iloc[:,2]\n",
    "plt.figure(figsize=(10,8))\n",
    "plt.plot(t,a,label='Digital')\n",
    "plt.plot(t,b,label='Analog')\n",
    "plt.xlabel(r'Time / $\\mu$s')\n",
    "plt.ylabel('Voltage / V')\n",
    "plt.legend()\n",
    "plt.title('hi')"
   ]
  },
  {
   "cell_type": "code",
   "execution_count": null,
   "id": "62e1e015",
   "metadata": {},
   "outputs": [],
   "source": []
  },
  {
   "cell_type": "code",
   "execution_count": null,
   "id": "423c1a59",
   "metadata": {},
   "outputs": [],
   "source": []
  },
  {
   "cell_type": "code",
   "execution_count": null,
   "id": "04543a5b",
   "metadata": {},
   "outputs": [],
   "source": []
  },
  {
   "cell_type": "code",
   "execution_count": null,
   "id": "049f1f21",
   "metadata": {},
   "outputs": [],
   "source": []
  },
  {
   "cell_type": "code",
   "execution_count": 15,
   "id": "254cda22",
   "metadata": {},
   "outputs": [],
   "source": [
    "df2 = pd.read_excel('analog_digital_manypulse.xlsx')"
   ]
  },
  {
   "cell_type": "code",
   "execution_count": 16,
   "id": "cfeb21d8",
   "metadata": {},
   "outputs": [
    {
     "data": {
      "text/html": [
       "<div>\n",
       "<style scoped>\n",
       "    .dataframe tbody tr th:only-of-type {\n",
       "        vertical-align: middle;\n",
       "    }\n",
       "\n",
       "    .dataframe tbody tr th {\n",
       "        vertical-align: top;\n",
       "    }\n",
       "\n",
       "    .dataframe thead th {\n",
       "        text-align: right;\n",
       "    }\n",
       "</style>\n",
       "<table border=\"1\" class=\"dataframe\">\n",
       "  <thead>\n",
       "    <tr style=\"text-align: right;\">\n",
       "      <th></th>\n",
       "      <th>Time</th>\n",
       "      <th>Channel A</th>\n",
       "      <th>Channel B</th>\n",
       "    </tr>\n",
       "  </thead>\n",
       "  <tbody>\n",
       "    <tr>\n",
       "      <th>2</th>\n",
       "      <td>-0.000034</td>\n",
       "      <td>2.773827</td>\n",
       "      <td>3.593554</td>\n",
       "    </tr>\n",
       "    <tr>\n",
       "      <th>3</th>\n",
       "      <td>0.007966</td>\n",
       "      <td>2.752159</td>\n",
       "      <td>3.665883</td>\n",
       "    </tr>\n",
       "    <tr>\n",
       "      <th>4</th>\n",
       "      <td>0.015966</td>\n",
       "      <td>2.734764</td>\n",
       "      <td>3.736686</td>\n",
       "    </tr>\n",
       "    <tr>\n",
       "      <th>5</th>\n",
       "      <td>0.023966</td>\n",
       "      <td>2.733238</td>\n",
       "      <td>3.799554</td>\n",
       "    </tr>\n",
       "    <tr>\n",
       "      <th>6</th>\n",
       "      <td>0.031966</td>\n",
       "      <td>2.77047</td>\n",
       "      <td>3.878902</td>\n",
       "    </tr>\n",
       "    <tr>\n",
       "      <th>...</th>\n",
       "      <td>...</td>\n",
       "      <td>...</td>\n",
       "      <td>...</td>\n",
       "    </tr>\n",
       "    <tr>\n",
       "      <th>25001</th>\n",
       "      <td>199.991961</td>\n",
       "      <td>3.345744</td>\n",
       "      <td>4.317148</td>\n",
       "    </tr>\n",
       "    <tr>\n",
       "      <th>25002</th>\n",
       "      <td>199.999961</td>\n",
       "      <td>3.345134</td>\n",
       "      <td>4.352855</td>\n",
       "    </tr>\n",
       "    <tr>\n",
       "      <th>25003</th>\n",
       "      <td>200.007961</td>\n",
       "      <td>3.329569</td>\n",
       "      <td>4.297616</td>\n",
       "    </tr>\n",
       "    <tr>\n",
       "      <th>25004</th>\n",
       "      <td>200.015961</td>\n",
       "      <td>3.334147</td>\n",
       "      <td>4.31135</td>\n",
       "    </tr>\n",
       "    <tr>\n",
       "      <th>25005</th>\n",
       "      <td>200.023961</td>\n",
       "      <td>3.318278</td>\n",
       "      <td>4.407483</td>\n",
       "    </tr>\n",
       "  </tbody>\n",
       "</table>\n",
       "<p>25004 rows × 3 columns</p>\n",
       "</div>"
      ],
      "text/plain": [
       "             Time Channel A Channel B\n",
       "2       -0.000034  2.773827  3.593554\n",
       "3        0.007966  2.752159  3.665883\n",
       "4        0.015966  2.734764  3.736686\n",
       "5        0.023966  2.733238  3.799554\n",
       "6        0.031966   2.77047  3.878902\n",
       "...           ...       ...       ...\n",
       "25001  199.991961  3.345744  4.317148\n",
       "25002  199.999961  3.345134  4.352855\n",
       "25003  200.007961  3.329569  4.297616\n",
       "25004  200.015961  3.334147   4.31135\n",
       "25005  200.023961  3.318278  4.407483\n",
       "\n",
       "[25004 rows x 3 columns]"
      ]
     },
     "execution_count": 16,
     "metadata": {},
     "output_type": "execute_result"
    }
   ],
   "source": [
    "df2 = df2[2:]\n",
    "df2"
   ]
  },
  {
   "cell_type": "code",
   "execution_count": 17,
   "id": "a79df6c6",
   "metadata": {},
   "outputs": [
    {
     "data": {
      "text/plain": [
       "Text(0.5, 1.0, 'hi')"
      ]
     },
     "execution_count": 17,
     "metadata": {},
     "output_type": "execute_result"
    },
    {
     "data": {
      "image/png": "[encoded data removed]",
      "text/plain": [
       "<Figure size 720x576 with 1 Axes>"
      ]
     },
     "metadata": {
      "needs_background": "light"
     },
     "output_type": "display_data"
    }
   ],
   "source": [
    "t = df2.iloc[:,0]\n",
    "a = df2.iloc[:,1]\n",
    "b = df2.iloc[:,2]\n",
    "plt.figure(figsize=(10,8))\n",
    "plt.plot(t,a,label='Digital')\n",
    "plt.plot(t,b,label='Analog')\n",
    "plt.xlabel(r'Time / $\\mu$s')\n",
    "plt.ylabel('Voltage / V')\n",
    "plt.legend()\n",
    "plt.title('hi')"
   ]
  },
  {
   "cell_type": "code",
   "execution_count": null,
   "id": "adfe6619",
   "metadata": {},
   "outputs": [],
   "source": []
  }
 ],
 "metadata": {
  "kernelspec": {
   "display_name": "Python 3 (ipykernel)",
   "language": "python",
   "name": "python3"
  },
  "language_info": {
   "codemirror_mode": {
    "name": "ipython",
    "version": 3
   },
   "file_extension": ".py",
   "mimetype": "text/x-python",
   "name": "python",
   "nbconvert_exporter": "python",
   "pygments_lexer": "ipython3",
   "version": "3.9.7"
  }
 },
 "nbformat": 4,
 "nbformat_minor": 5
}
