{
 "cells": [
  {
   "cell_type": "code",
   "execution_count": 13,
   "metadata": {},
   "outputs": [],
   "source": [
    "## On your .ipynb, import this plotting_style by adding in and uncommenting the following lines:\n",
    "\n",
    "import matplotlib.pyplot as plt\n",
    "import sys\n",
    "sys.path.append('/Users/michael/Dropbox/AION/Projects')  # Replace with the relevant path that contains this script\n",
    "from plotting_style import set_plotting_style\n",
    "set_plotting_style()"
   ]
  },
  {
   "cell_type": "markdown",
   "metadata": {},
   "source": [
    "# Slow Modulation $\\Omega$ << $\\omega$"
   ]
  },
  {
   "cell_type": "markdown",
   "metadata": {},
   "source": [
    "Note: When we saw \"slow\" modulation, we mean modulation being \"slow\" with respect to the cavity linewidth. For example, a modulation frequency of 1kHz sent into the EOM to generate sidebands would be much smaller than a cavity linewidth of 1MHz (e.g. from a cavity with finesse of about 1,000 and a spectral range is 1GHz, so cavity linewidth is 1GHz/1000 = 1MHz)\n",
    "\n",
    "The error signal is given by\n",
    "\n",
    "$\\epsilon = P_o \\beta \\Omega \\frac{d|F|^2}{d\\omega} = 2 \\sqrt{P_cP_s}\\Omega \\frac{d|F|^2}{d\\omega} $\n",
    "\n",
    "Here, $\\frac{d|F|^2}{d\\omega}$ is given by\n",
    "\n",
    "$\\frac{d|F|^2}{d\\omega} = \\frac{2r^2sin(\\omega)(r^2-1)^2}{(1-2r^2cos(\\omega)+r^4)^2}$\n",
    "\n",
    "To note, \n",
    "\n",
    "* $F(\\omega)$ is the reflection coefficient, given by $\\frac{E_{reflection}}{E_{incident}}= \\frac{r(e^{(i\\frac{\\omega}{\\Delta v_{FSR}})})}{1-r^2e^{(i\\frac{\\omega}{\\Delta v_{FSR}})}}$\n",
    "* $r$ is the amplitude reflection coefficient of the mirror\n",
    "* $P$ is the power of the reflected beam\n",
    "* $\\beta$ is the modulation depth\n",
    "* $P_c$ and $P_s$ are the power of the carrier and sidebands respectively\n",
    "\n",
    "To plot the error signal, we plot $\\frac{d|F|^2}{d\\omega}$ (=$\\frac{\\epsilon}{2\\sqrt{P_cP_s}\\Omega}$) against $f$ (=$\\frac{\\omega}{\\Delta v_{FSR}}$). Since $\\epsilon\\propto\\frac{d|F|^2}{d\\omega}$ and $f\\propto\\omega$, we can just directly plot $\\frac{d|F|^2}{d\\omega}$ against $\\omega$ based off the formula above."
   ]
  },
  {
   "cell_type": "code",
   "execution_count": null,
   "metadata": {},
   "outputs": [],
   "source": [
    "\n",
    "\n"
   ]
  }
 ],
 "metadata": {
  "kernelspec": {
   "display_name": "base",
   "language": "python",
   "name": "python3"
  },
  "language_info": {
   "codemirror_mode": {
    "name": "ipython",
    "version": 3
   },
   "file_extension": ".py",
   "mimetype": "text/x-python",
   "name": "python",
   "nbconvert_exporter": "python",
   "pygments_lexer": "ipython3",
   "version": "3.9.7"
  }
 },
 "nbformat": 4,
 "nbformat_minor": 2
}
