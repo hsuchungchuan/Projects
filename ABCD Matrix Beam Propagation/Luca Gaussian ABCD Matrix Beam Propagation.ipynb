{
 "cells": [
  {
   "cell_type": "code",
   "execution_count": 19,
   "id": "dc267345",
   "metadata": {},
   "outputs": [
    {
     "name": "stdout",
     "output_type": "stream",
     "text": [
      "[[0.03947686+6.28293727j]\n",
      " [1.        +0.j        ]]\n"
     ]
    }
   ],
   "source": [
    "# Imports\n",
    "from math import *\n",
    "import numpy as np\n",
    "import matplotlib.pyplot as plt\n",
    "import seaborn as sns\n",
    "sns.set_style(\"dark\")\n",
    "\n",
    "# Define variables\n",
    "length = 0  # Set starting length to 0\n",
    "spacing = 0.01\n",
    "\n",
    "# length scales\n",
    "\n",
    "nm = 10 ** -9\n",
    "micro = 10 ** -6\n",
    "mm = 10 ** -3\n",
    "km = 10 ** 3\n",
    "Mm = 10 ** 6\n",
    "Gm = 10 ** 9\n",
    "\n",
    "'''1/q = -j*lambda/(pi*w^2) + 1/R'''\n",
    "\n",
    "# Lambda = WL\n",
    "WL = 500 * nm   # Wavelength\n",
    "\n",
    "w = 1 * mm  # Width of the beam at the source\n",
    "\n",
    "R =1000 # Radius of curvature at the source\n",
    "\n",
    "# complex beam parameter\n",
    "q_inv = ((-1j * WL / (pi * w ** 2)) + 1 / R)\n",
    "q = q_inv ** (-1)\n",
    "q_matrix = np.array([[q], [1]])\n",
    "print(q_matrix)\n"
   ]
  },
  {
   "cell_type": "code",
   "execution_count": 20,
   "id": "792b7671",
   "metadata": {},
   "outputs": [],
   "source": [
    "def none():\n",
    "    \"\"\"No object / Path\"\"\"\n",
    "    ident = np.array([[1, 0], [0, 1]])\n",
    "    return ident\n",
    "\n",
    "\n",
    "def space(d):\n",
    "    \"\"\"d is the distance\"\"\"\n",
    "    air = np.array([[1, d], [0, 1]])\n",
    "    global length\n",
    "    length = length + d\n",
    "    return air\n",
    "\n",
    "\n",
    "def lens(f):\n",
    "    \"\"\"f is the focal length of the lens\"\"\"\n",
    "    lens_path = np.array([[1, 0], [-1 / f, 1]])\n",
    "    return lens_path\n",
    "\n",
    "\n",
    "def thick_lens(n_1, n_2, r_1, r_2, t):\n",
    "    \"\"\"n1 = refractive index outside the lens.\n",
    "n2 = refractive index of the lens itself (inside the lens).\n",
    "r1 = Radius of curvature of First surface.\n",
    "r2 = Radius of curvature of Second surface.\n",
    "t = center thickness of lens.\"\"\"\n",
    "    mat_1 = np.array([[1, 0], [-((n_2 - n_1) / (r_2 * n_1)), (n_2 / n_1)]])\n",
    "    mat_2 = np.array([[1, t], [0, 1]])\n",
    "    mat_3 = np.array([[1, 0], [-((n_2 - n_1) / (r_1 * n_2)), (n_1 / n_2)]])\n",
    "    mat_4 = np.matmul(mat_1, mat_2)\n",
    "    mat_5 = np.matmul(mat_4, mat_3)\n",
    "    return mat_5\n",
    "\n",
    "\n",
    "def curved_mirror(m):\n",
    "    \"\"\"n1 = initial refractive index\n",
    "n2 = final refractive index.\"\"\"\n",
    "\n",
    "    r_e = m  # r_e = R cos(x) and/or R/cos(x)\n",
    "    mir = np.array([[1, 0], [-2 / r_e, 1]])\n",
    "    return mir\n",
    "\n",
    "\n",
    "def refraction_flat(n_1, n_2):\n",
    "    \"\"\"n1 = initial refractive index\n",
    "n2 = final refractive index.\"\"\"\n",
    "\n",
    "    mat_ref = np.array([[1, 0], [0, n_1 / n_2]])\n",
    "\n",
    "\n",
    "    return mat_ref\n",
    "\n",
    "\n",
    "def single_prism(k, d, n):\n",
    "    \"\"\"k=(cos psi /cos phi )\n",
    "    is the beam expansion factor, where phi\n",
    "   is the angle of incidence,\n",
    "    psi  is the angle of refraction,\n",
    "     d = prism path length,\n",
    "     n = refractive index of the prism material.\n",
    "      This matrix applies for orthogonal beam exit.\"\"\"\n",
    "    mat_prism = np.array([[k, d / (n * k)], [0, 1 / k]])\n",
    "    return mat_prism\n"
   ]
  },
  {
   "cell_type": "code",
   "execution_count": 21,
   "id": "1a3cfece",
   "metadata": {},
   "outputs": [],
   "source": [
    "# Components\n",
    "start = 3 #distance between beam start to first optical elemen t e.g. lens\n",
    "end = 1 #how far after the lens do you want to stop measuring?\n",
    "focal = 300 * mm\n",
    "\n",
    "first = space(start)\n",
    "second = lens(focal)\n",
    "third = space(end)\n",
    "fourth = none()\n",
    "fifth = none()\n",
    "\n",
    "# Combinations 1st on the right, last on the left\n",
    "\n",
    "step_1 = np.matmul(second, first)\n",
    "step_2 = np.matmul(third, step_1)\n",
    "step_3 = np.matmul(fourth, step_2)\n",
    "step_4 = np.matmul(fifth, step_3)\n"
   ]
  },
  {
   "cell_type": "code",
   "execution_count": 22,
   "id": "ec2140c4",
   "metadata": {},
   "outputs": [
    {
     "data": {
      "text/plain": [
       "array([[-6.09211267-14.66018696j],\n",
       "       [-9.13158953-20.94312422j]])"
      ]
     },
     "execution_count": 22,
     "metadata": {},
     "output_type": "execute_result"
    }
   ],
   "source": [
    "# More steps can be added\n",
    "\n",
    "\"\"\"q' = (Aq + B)/(Cq + D)\"\"\"\n",
    "\n",
    "q_prime_matrix = np.matmul(step_4, q_matrix)\n",
    "q_prime_matrix"
   ]
  },
  {
   "cell_type": "code",
   "execution_count": 23,
   "id": "5fb5753a",
   "metadata": {},
   "outputs": [
    {
     "data": {
      "text/plain": [
       "array([[0.69475196+0.01203627j],\n",
       "       [1.        -0.j        ]])"
      ]
     },
     "execution_count": 23,
     "metadata": {},
     "output_type": "execute_result"
    }
   ],
   "source": [
    "normal_q_prime_matrix = q_prime_matrix / q_prime_matrix[1]\n",
    "normal_q_prime_matrix"
   ]
  },
  {
   "cell_type": "code",
   "execution_count": 24,
   "id": "3175db57",
   "metadata": {},
   "outputs": [
    {
     "name": "stdout",
     "output_type": "stream",
     "text": [
      "q' = [0.69475196+0.01203627j]\n",
      "R' = [0.69496049]\n",
      "w' = [0.00252673]\n"
     ]
    }
   ],
   "source": [
    "q_prime = normal_q_prime_matrix[0]\n",
    "inv_q_prime = q_prime ** (-1)\n",
    "w_prime = (-1 * np.imag(inv_q_prime) * np.pi / WL) ** (-1 / 2)\n",
    "R_prime = (np.real(inv_q_prime)) ** (-1)\n",
    "\n",
    "print('q\\' = ' + str(q_prime))\n",
    "print('R\\' = ' + str(R_prime))\n",
    "print('w\\' = ' + str(w_prime))"
   ]
  },
  {
   "cell_type": "code",
   "execution_count": 25,
   "id": "f070ad7d",
   "metadata": {},
   "outputs": [
    {
     "name": "stdout",
     "output_type": "stream",
     "text": [
      "The intensity at 1 m is proportional to: [0.]\n"
     ]
    }
   ],
   "source": [
    "# Intensity\n",
    "# need a value for r\n",
    "r = 1 # Should be calculated for you Again what is this\n",
    "P = 1  # Power of the laser\n",
    "\n",
    "I_prime = (P / (np.absolute(q_prime) ** 2)) * exp(-(2 * r ** 2) / (w_prime ** 2))\n",
    "\n",
    "print('The intensity at ' + str(r) + ' m is proportional to: ' + str(I_prime))\n",
    "\n",
    "\n"
   ]
  },
  {
   "cell_type": "code",
   "execution_count": 26,
   "id": "554e3c56",
   "metadata": {},
   "outputs": [
    {
     "data": {
      "text/plain": [
       "[<matplotlib.lines.Line2D at 0x7f98d2a772b0>]"
      ]
     },
     "execution_count": 26,
     "metadata": {},
     "output_type": "execute_result"
    },
    {
     "data": {
      "image/png": "[encoded data removed]",
      "text/plain": [
       "<Figure size 432x288 with 1 Axes>"
      ]
     },
     "metadata": {},
     "output_type": "display_data"
    }
   ],
   "source": [
    "x_array_before_lens = np.arange(0, start, spacing)\n",
    "\n",
    "x_array_after_lens = np.arange(0, end, spacing)\n",
    "\n",
    "plot_array = []\n",
    "plot_R_array = []\n",
    "\n",
    "for x in x_array_before_lens:\n",
    "    first = space(x) #\"initialization\",, call back to first global var for quicker comp\n",
    "    q_prime_matrix = np.matmul(first, q_matrix)\n",
    "    normal_q_prime_matrix = q_prime_matrix / q_prime_matrix[1]\n",
    "\n",
    "    q_prime = normal_q_prime_matrix[0]\n",
    "    inv_q_prime = q_prime ** (-1)\n",
    "    w_prime = (-1 * np.imag(inv_q_prime) * np.pi / WL) ** (-1 / 2)\n",
    "    R_prime = (np.real(inv_q_prime)) ** (-1)\n",
    "\n",
    "    plot_array.append(float(w_prime))\n",
    "    plot_R_array.append(float(R_prime))\n",
    "    #circle = plt.Circle((x, 0), R_prime, color='r', linewidth=0.001, fill=False)\n",
    "    #plt.gca().add_patch(circle)\n",
    "\n",
    "plt.plot(x_array_before_lens,plot_array)"
   ]
  },
  {
   "cell_type": "code",
   "execution_count": 27,
   "id": "3e67fd76",
   "metadata": {},
   "outputs": [
    {
     "data": {
      "text/plain": [
       "array([[1, 3],\n",
       "       [0, 1]])"
      ]
     },
     "execution_count": 27,
     "metadata": {},
     "output_type": "execute_result"
    }
   ],
   "source": [
    "first = space(start) #start=3\n",
    "first"
   ]
  },
  {
   "cell_type": "code",
   "execution_count": 28,
   "id": "15ffdb0b",
   "metadata": {},
   "outputs": [
    {
     "data": {
      "text/plain": [
       "[<matplotlib.lines.Line2D at 0x7f990087a0a0>]"
      ]
     },
     "execution_count": 28,
     "metadata": {},
     "output_type": "execute_result"
    },
    {
     "data": {
      "image/png": "[encoded data removed]",
      "text/plain": [
       "<Figure size 432x288 with 1 Axes>"
      ]
     },
     "metadata": {},
     "output_type": "display_data"
    }
   ],
   "source": [
    "plot_array_after = []\n",
    "plot_R_array_after = []\n",
    "\n",
    "for x in x_array_after_lens:\n",
    "    third = space(x)\n",
    "    step_2 = np.matmul(third, step_1)\n",
    "    q_prime_matrix = np.matmul(step_2, q_matrix)\n",
    "    normal_q_prime_matrix = q_prime_matrix / q_prime_matrix[1]\n",
    "\n",
    "    q_prime = normal_q_prime_matrix[0]\n",
    "    inv_q_prime = q_prime ** (-1)\n",
    "    w_prime = (-1 * np.imag(inv_q_prime) * np.pi / WL) ** (-1 / 2)\n",
    "    R_prime = (np.real(inv_q_prime)) ** (-1)\n",
    "\n",
    "    plot_array_after.append(float(w_prime))\n",
    "    plot_R_array_after.append(float(R_prime))\n",
    "    #circle = plt.Circle((x+start, 0), R_prime, color='r')\n",
    "    #plt.gca().add_patch(circle)\n",
    "\n",
    "total = start + end\n",
    "x_array = np.arange(0, total, spacing)\n",
    "x_array_after_lens = np.arange(0, end, spacing) +  start\n",
    "\n",
    "plt.plot(x_array_after_lens,plot_array_after)"
   ]
  },
  {
   "cell_type": "code",
   "execution_count": 29,
   "id": "83fec44b",
   "metadata": {},
   "outputs": [],
   "source": [
    "negative_plot = []\n",
    "negative_plot_after = []\n",
    "for y in plot_array:\n",
    "    negative_plot.append(-1 * float(y))\n",
    "for y in plot_array_after:\n",
    "    negative_plot_after.append(-1 * float(y))"
   ]
  },
  {
   "cell_type": "code",
   "execution_count": 34,
   "id": "8500fc18",
   "metadata": {},
   "outputs": [
    {
     "name": "stdout",
     "output_type": "stream",
     "text": [
      "Magnification -0.3333333333333333\n",
      "3.31\n",
      "The Waist is: 4.705551254388682e-05at 3.31\n",
      "z_r is: 0.01391236249250146\n"
     ]
    },
    {
     "data": {
      "image/png": "[encoded data removed]",
      "text/plain": [
       "<Figure size 432x288 with 1 Axes>"
      ]
     },
     "metadata": {},
     "output_type": "display_data"
    }
   ],
   "source": [
    "# After lens\n",
    "\n",
    "\n",
    "plt.plot(x_array_before_lens, plot_array, color=\"blue\")\n",
    "plt.plot(x_array_after_lens, plot_array_after, color=\"red\")\n",
    "plt.plot(x_array_before_lens, negative_plot, color=\"blue\")\n",
    "plt.plot(x_array_after_lens, negative_plot_after, color=\"red\")\n",
    "\n",
    "# plt.plot(x_array_before_lens,plot_R_array,color = \"orange\")\n",
    "# plt.plot(x_array_after_lens,plot_R_array_after,color = \"orange\")\n",
    "plt.axvline(start, ymin=0.25,ymax=0.75, color=\"black\")\n",
    "print(\"Magnification \" + str(-end / start))\n",
    "\n",
    "# Find minimum width\n",
    "\n",
    "waist = min(plot_array_after)\n",
    "y_count = 0\n",
    "for y in plot_array_after:\n",
    "    if y == waist:\n",
    "        break\n",
    "    else:\n",
    "        y_count += 1\n",
    "\n",
    "waist_x = x_array_after_lens[y_count]\n",
    "\n",
    "print(waist_x)\n",
    "\n",
    "print(\"The Waist is: \" + str(waist) + \"at \" + str(waist_x))\n",
    "\n",
    "# find z_r:\n",
    "\n",
    "z_r = pi * waist ** 2 / WL\n",
    "\n",
    "print(\"z_r is: \" + str(z_r))\n",
    "z = np.arange(start, total, spacing) - waist_x\n",
    "Rad = []\n",
    "for i in z:\n",
    "    Rad_i = i * (1 + (z_r / i) ** 2)\n",
    "    Rad.append(Rad_i)\n",
    "\n",
    "\n",
    "#print(Rad)\n",
    "\n",
    "plt.show()\n",
    "# unsure\n",
    "\n",
    "#plt.plot(z ,Rad)\n",
    "\n",
    "#plt.show()"
   ]
  },
  {
   "cell_type": "code",
   "execution_count": null,
   "id": "7f7a9d06",
   "metadata": {},
   "outputs": [],
   "source": []
  },
  {
   "cell_type": "code",
   "execution_count": null,
   "id": "164e6fb6",
   "metadata": {},
   "outputs": [],
   "source": []
  },
  {
   "cell_type": "code",
   "execution_count": null,
   "id": "fc40b1dc",
   "metadata": {},
   "outputs": [],
   "source": []
  },
  {
   "cell_type": "code",
   "execution_count": 18,
   "id": "c3a1eb06",
   "metadata": {},
   "outputs": [
    {
     "name": "stdout",
     "output_type": "stream",
     "text": [
      "Magnification -0.3333333333333333\n",
      "3.31\n",
      "The Waist is: 4.705551254388682e-05at 3.31\n",
      "z_r is: 0.01391236249250146\n"
     ]
    },
    {
     "data": {
      "image/png": "[encoded data removed]",
      "text/plain": [
       "<Figure size 432x288 with 1 Axes>"
      ]
     },
     "metadata": {},
     "output_type": "display_data"
    }
   ],
   "source": [
    "x_array_before_lens = np.arange(0, start, spacing)\n",
    "\n",
    "x_array_after_lens = np.arange(0, end, spacing)\n",
    "\n",
    "plot_array = []\n",
    "plot_R_array = []\n",
    "\n",
    "for x in x_array_before_lens:\n",
    "    first = space(x)\n",
    "    q_prime_matrix = np.matmul(first, q_matrix)\n",
    "    normal_q_prime_matrix = q_prime_matrix / q_prime_matrix[1]\n",
    "\n",
    "    q_prime = normal_q_prime_matrix[0]\n",
    "    inv_q_prime = q_prime ** (-1)\n",
    "    w_prime = (-1 * np.imag(inv_q_prime) * np.pi / WL) ** (-1 / 2)\n",
    "    R_prime = (np.real(inv_q_prime)) ** (-1)\n",
    "\n",
    "    plot_array.append(float(w_prime))\n",
    "    plot_R_array.append(float(R_prime))\n",
    "    #circle = plt.Circle((x, 0), R_prime, color='r', linewidth=0.001, fill=False)\n",
    "    #plt.gca().add_patch(circle)\n",
    "\n",
    "first = space(start)\n",
    "plot_array_after = []\n",
    "plot_R_array_after = []\n",
    "\n",
    "for x in x_array_after_lens:\n",
    "    third = space(x)\n",
    "    step_2 = np.matmul(third, step_1)\n",
    "    q_prime_matrix = np.matmul(step_2, q_matrix)\n",
    "    normal_q_prime_matrix = q_prime_matrix / q_prime_matrix[1]\n",
    "\n",
    "    q_prime = normal_q_prime_matrix[0]\n",
    "    inv_q_prime = q_prime ** (-1)\n",
    "    w_prime = (-1 * np.imag(inv_q_prime) * np.pi / WL) ** (-1 / 2)\n",
    "    R_prime = (np.real(inv_q_prime)) ** (-1)\n",
    "\n",
    "    plot_array_after.append(float(w_prime))\n",
    "    plot_R_array_after.append(float(R_prime))\n",
    "    #circle = plt.Circle((x+start, 0), R_prime, color='r')\n",
    "    #plt.gca().add_patch(circle)\n",
    "\n",
    "total = start + end\n",
    "x_array = np.arange(0, total, spacing)\n",
    "x_array_after_lens = np.arange(0, end, spacing) +  start\n",
    "negative_plot = []\n",
    "negative_plot_after = []\n",
    "for y in plot_array:\n",
    "    negative_plot.append(-1 * float(y))\n",
    "for y in plot_array_after:\n",
    "    negative_plot_after.append(-1 * float(y))\n",
    "\n",
    "# After lens\n",
    "\n",
    "\n",
    "plt.plot(x_array_before_lens, plot_array, color=\"blue\")\n",
    "plt.plot(x_array_after_lens, plot_array_after, color=\"red\")\n",
    "plt.plot(x_array_before_lens, negative_plot, color=\"blue\")\n",
    "plt.plot(x_array_after_lens, negative_plot_after, color=\"red\")\n",
    "\n",
    "# plt.plot(x_array_before_lens,plot_R_array,color = \"orange\")\n",
    "# plt.plot(x_array_after_lens,plot_R_array_after,color = \"orange\")\n",
    "plt.axvline(start, color=\"black\")\n",
    "print(\"Magnification \" + str(-end / start))\n",
    "\n",
    "# Find minimum width\n",
    "\n",
    "waist = min(plot_array_after)\n",
    "y_count = 0\n",
    "for y in plot_array_after:\n",
    "    if y == waist:\n",
    "        break\n",
    "    else:\n",
    "        y_count += 1\n",
    "\n",
    "waist_x = x_array_after_lens[y_count]\n",
    "\n",
    "print(waist_x)\n",
    "\n",
    "print(\"The Waist is: \" + str(waist) + \"at \" + str(waist_x))\n",
    "\n",
    "# find z_r:\n",
    "\n",
    "z_r = pi * waist ** 2 / WL\n",
    "\n",
    "print(\"z_r is: \" + str(z_r))\n",
    "z = np.arange(start, total, spacing) - waist_x\n",
    "Rad = []\n",
    "for i in z:\n",
    "    Rad_i = i * (1 + (z_r / i) ** 2)\n",
    "    Rad.append(Rad_i)\n",
    "\n",
    "\n",
    "#print(Rad)\n",
    "\n",
    "plt.show()\n",
    "# unsure\n",
    "\n",
    "#plt.plot(z ,Rad)\n",
    "\n",
    "#plt.show()\n"
   ]
  },
  {
   "cell_type": "code",
   "execution_count": null,
   "id": "4cfca1b8",
   "metadata": {},
   "outputs": [],
   "source": []
  }
 ],
 "metadata": {
  "kernelspec": {
   "display_name": "Python 3 (ipykernel)",
   "language": "python",
   "name": "python3"
  },
  "language_info": {
   "codemirror_mode": {
    "name": "ipython",
    "version": 3
   },
   "file_extension": ".py",
   "mimetype": "text/x-python",
   "name": "python",
   "nbconvert_exporter": "python",
   "pygments_lexer": "ipython3",
   "version": "3.9.7"
  }
 },
 "nbformat": 4,
 "nbformat_minor": 5
}
