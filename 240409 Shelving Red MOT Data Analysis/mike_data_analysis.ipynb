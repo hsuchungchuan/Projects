{
 "cells": [
  {
   "cell_type": "code",
   "execution_count": 80,
   "metadata": {},
   "outputs": [],
   "source": [
    "import numpy as np\n",
    "\n",
    "freq1 = np.array([241, 242, 243, 244, 245, 246, 247, 248, 249, 250, 246, 247, 248,\n",
    "       249, 250, 251, 251, 252, 253, 254, 255, 256, 257, 258, 259, 251,\n",
    "       252, 253, 254])\n",
    "\n",
    "amp1 = np.array([0.21399359, 0.22742931, 0.23785932, 0.25102127, 0.28710239,\n",
    "       0.30308758, 0.33085464, 0.33499884, 0.35678903, 0.35771442,\n",
    "       0.31116015, 0.33392172, 0.        , 0.34874451, 0.40282503,\n",
    "       0.39928595, 0.40490379, 0.43704042, 0.45346539, 0.48280753,\n",
    "       0.        , 0.51902536, 0.48315277, 0.52811264, 0.51672653,\n",
    "       0.3847623 , 0.39958507, 0.43112068, 0.4518652 ])\n",
    "\n",
    "stddev1 = np.array([0.00606051, 0.00605831, 0.00721218, 0.        , 0.01147971,\n",
    "       0.0102119 , 0.00630098, 0.00622939, 0.01008131, 0.01196328,\n",
    "       0.00619853, 0.0071087 , 0.        , 0.        , 0.00640517,\n",
    "       0.01512206, 0.0060475 , 0.0061595 , 0.01864721, 0.        ,\n",
    "       0.        , 0.01831048, 0.05646968, 0.02453983, 0.0060829 ,\n",
    "       0.00938805, 0.01095977, 0.00559943, 0.00913507])\n",
    "\n",
    "freq2 = np.array([222, 223, 225, 226, 227, 228, 236, 237, 238, 239, 218, 219,\n",
    "       220])\n",
    "\n",
    "amp2 = np.array([0.13384437, 0.14684916, 0.16430892, 0.17068981,\n",
    "       0.1991131 , 0.22258295, 0.31054711, 0.34752884, 0.3515223 ,\n",
    "       0.35796632, 0.11523392, 0.12139976, 0.11882384])\n",
    "\n",
    "stddev2 = np.array([0.00000000e+00, 6.66846120e-03, 0.00000000e+00,\n",
    "       3.36019784e-03, 0.00000000e+00, 6.96073292e-03, 2.07062426e-02,\n",
    "       3.51272989e-03, 3.48269046e-03, 7.36734950e-08, 7.84501690e-03,\n",
    "       2.96210811e-03, 6.00574942e-03])"
   ]
  },
  {
   "cell_type": "code",
   "execution_count": 81,
   "metadata": {},
   "outputs": [],
   "source": [
    "freq = np.concatenate((freq1, freq2))\n",
    "amp = np.concatenate((amp1 * 1.67, amp2 ))\n",
    "stddev = np.concatenate((stddev1 * 1.67, stddev2))"
   ]
  },
  {
   "cell_type": "code",
   "execution_count": 82,
   "metadata": {},
   "outputs": [
    {
     "data": {
      "text/plain": [
       "array([ -4,  -3,  -2,  -1,   0,   1,   2,   3,   4,   5,   1,   2,   3,\n",
       "         4,   5,   6,   6,   7,   8,   9,  10,  11,  12,  13,  14,   6,\n",
       "         7,   8,   9, -23, -22, -20, -19, -18, -17,  -9,  -8,  -7,  -6,\n",
       "       -27, -26, -25])"
      ]
     },
     "execution_count": 82,
     "metadata": {},
     "output_type": "execute_result"
    }
   ],
   "source": [
    "freq-245"
   ]
  },
  {
   "cell_type": "code",
   "execution_count": 83,
   "metadata": {},
   "outputs": [
    {
     "name": "stdout",
     "output_type": "stream",
     "text": [
      "Initialising plotting style...\n",
      "Success! Plotting style initialised.\n"
     ]
    }
   ],
   "source": [
    "## On your .ipynb, import this plotting_style by adding in and uncommenting the following lines:\n",
    "\n",
    "# import matplotlib.pyplot as plt\n",
    "# import sys\n",
    "# sys.path.append('C:/Users/Michael/Dropbox/AION/Projects')  # Replace with the relevant path that contains this script\n",
    "# from plotting_style import set_plotting_style\n",
    "# set_plotting_style()\n",
    "\n",
    "import matplotlib.pyplot as plt\n",
    "\n",
    "print('Initialising plotting style...')\n",
    "\n",
    "def set_plotting_style():\n",
    "    plt.rc(\"font\", family = 'Arial', size=10)\n",
    "    plt.rc('axes', labelsize=20, titlesize = 20, labelpad=5)\n",
    "    plt.rc('xtick', labelsize=18)\n",
    "    plt.rc('ytick', labelsize=18)\n",
    "    plt.rc('legend', fontsize=15)\n",
    "\n",
    "print('Success! Plotting style initialised.')\n",
    "\n",
    "set_plotting_style()"
   ]
  },
  {
   "cell_type": "code",
   "execution_count": 85,
   "metadata": {},
   "outputs": [
    {
     "data": {
      "image/png": "[encoded data removed]",
      "text/plain": [
       "<Figure size 432x288 with 1 Axes>"
      ]
     },
     "metadata": {
      "needs_background": "light"
     },
     "output_type": "display_data"
    }
   ],
   "source": [
    "# exclude the zero values\n",
    "freq = freq[amp != 0]\n",
    "stddev = stddev[amp != 0]\n",
    "amp = amp[amp != 0]\n",
    "\n",
    "# average the values with the same frequency\n",
    "\n",
    "freq_unique = np.unique(freq)\n",
    "amp_unique = np.zeros(len(freq_unique))\n",
    "stddev_unique = np.zeros(len(freq_unique))\n",
    "\n",
    "for i, f in enumerate(freq_unique):\n",
    "    amp_unique[i] = np.mean(amp[freq == f])\n",
    "    stddev_unique[i] = np.sqrt(np.sum(stddev[freq == f]**2))\n",
    "\n",
    "freq = freq_unique\n",
    "amp = amp_unique\n",
    "stddev = stddev_unique\n",
    "\n",
    "# plot the data\n",
    "\n",
    "# plt.figure(figsize=(10,6))\n",
    "plt.errorbar(freq, amp, yerr=stddev,fmt='ko', markersize=5, capsize=3, capthick=1,)\n",
    "\n",
    "plt.ylim(0,1.0,0.1)\n",
    "\n",
    "plt.xlabel('Frequency (MHz) + 434.829THz')\n",
    "plt.ylabel('Normalised Shelving Intensity')\n",
    "\n",
    "plt.savefig('Shelving_240328_240403.png', dpi=300, bbox_inches='tight')\n",
    "plt.savefig('Shelving_240328_240403.pdf', dpi=300, bbox_inches='tight')\n",
    "\n",
    "# for x, y in zip(freq,amp):\n",
    "#     plt.text(x, y, str(x))"
   ]
  },
  {
   "cell_type": "code",
   "execution_count": 67,
   "metadata": {},
   "outputs": [
    {
     "data": {
      "text/plain": [
       "1.6727899186139172"
      ]
     },
     "execution_count": 67,
     "metadata": {},
     "output_type": "execute_result"
    }
   ],
   "source": [
    "0.35796632/0.21399359"
   ]
  },
  {
   "cell_type": "code",
   "execution_count": null,
   "metadata": {},
   "outputs": [],
   "source": []
  }
 ],
 "metadata": {
  "kernelspec": {
   "display_name": "base",
   "language": "python",
   "name": "python3"
  },
  "language_info": {
   "codemirror_mode": {
    "name": "ipython",
    "version": 3
   },
   "file_extension": ".py",
   "mimetype": "text/x-python",
   "name": "python",
   "nbconvert_exporter": "python",
   "pygments_lexer": "ipython3",
   "version": "3.9.7"
  }
 },
 "nbformat": 4,
 "nbformat_minor": 2
}
