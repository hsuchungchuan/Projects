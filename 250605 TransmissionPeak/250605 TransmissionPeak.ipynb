{
 "cells": [
  {
   "cell_type": "code",
   "execution_count": 27,
   "id": "6ae6a145",
   "metadata": {},
   "outputs": [],
   "source": [
    "import numpy as np\n",
    "import matplotlib.pyplot as plt\n",
    "from scipy.optimize import curve_fit\n",
    "import pandas as pd"
   ]
  },
  {
   "cell_type": "code",
   "execution_count": 12,
   "id": "1187263b",
   "metadata": {},
   "outputs": [],
   "source": [
    "V1 = 19.947983193277313\n",
    "V2 = 19.971008403361346\n",
    "V3 = 19.9946218487395\n"
   ]
  },
  {
   "cell_type": "code",
   "execution_count": 13,
   "id": "cb5627ac",
   "metadata": {},
   "outputs": [],
   "source": [
    "V4 = 19.948001888828237\n",
    "V5 = 19.970987394957984\n",
    "V6 = 19.9946218487395\n"
   ]
  },
  {
   "cell_type": "code",
   "execution_count": 15,
   "id": "7e8632e9",
   "metadata": {},
   "outputs": [],
   "source": [
    "piezo_voltge_diff_1 = V2 - V1\n",
    "piezo_voltge_diff_2 = V3 - V2\n",
    "piezo_voltge_diff_3 = V5 - V4\n",
    "piezo_voltge_diff_4 = V6 - V5"
   ]
  },
  {
   "cell_type": "code",
   "execution_count": 21,
   "id": "d077a205",
   "metadata": {},
   "outputs": [
    {
     "data": {
      "text/plain": [
       "0.023314653843361732"
      ]
     },
     "execution_count": 21,
     "metadata": {},
     "output_type": "execute_result"
    }
   ],
   "source": [
    "average_piezo_voltage_diff = np.average([piezo_voltge_diff_1, piezo_voltge_diff_2, piezo_voltge_diff_3, piezo_voltge_diff_4]) # in Volts\n",
    "average_piezo_voltage_diff"
   ]
  },
  {
   "cell_type": "code",
   "execution_count": 22,
   "id": "65d35ee0",
   "metadata": {},
   "outputs": [
    {
     "data": {
      "text/plain": [
       "214.45739806356275"
      ]
     },
     "execution_count": 22,
     "metadata": {},
     "output_type": "execute_result"
    }
   ],
   "source": [
    "MHz_per_volt = 5 / average_piezo_voltage_diff  # MHz per Volt\n",
    "MHz_per_volt"
   ]
  },
  {
   "cell_type": "code",
   "execution_count": 23,
   "id": "4c052a9f",
   "metadata": {},
   "outputs": [
    {
     "data": {
      "text/plain": [
       "2.4662600777309716"
      ]
     },
     "execution_count": 23,
     "metadata": {},
     "output_type": "execute_result"
    }
   ],
   "source": [
    "Vpp = 0.0115 # Vpp in Volts\n",
    "Freq_pp_MHz = MHz_per_volt * Vpp # Frequency peak-to-peak in MHz\n",
    "Freq_pp_MHz"
   ]
  },
  {
   "cell_type": "code",
   "execution_count": 24,
   "id": "b71e4308",
   "metadata": {},
   "outputs": [
    {
     "data": {
      "text/plain": [
       "0.01"
      ]
     },
     "execution_count": 24,
     "metadata": {},
     "output_type": "execute_result"
    }
   ],
   "source": [
    "scan_frequency = 100 #Hz\n",
    "scan_period = 1 / scan_frequency  # in seconds\n",
    "scan_period"
   ]
  },
  {
   "cell_type": "code",
   "execution_count": 26,
   "id": "c8595fc1",
   "metadata": {},
   "outputs": [
    {
     "data": {
      "text/plain": [
       "493.2520155461943"
      ]
     },
     "execution_count": 26,
     "metadata": {},
     "output_type": "execute_result"
    }
   ],
   "source": [
    "freq_per_second_MHz = 2 * Freq_pp_MHz / scan_period  # in MHz/s\n",
    "freq_per_second_MHz"
   ]
  },
  {
   "cell_type": "code",
   "execution_count": 41,
   "id": "6fa11c0b",
   "metadata": {},
   "outputs": [],
   "source": [
    "df = pd.read_csv('scope_1.csv', header=1)"
   ]
  },
  {
   "cell_type": "code",
   "execution_count": 42,
   "id": "54aeedd2",
   "metadata": {},
   "outputs": [
    {
     "data": {
      "application/vnd.microsoft.datawrangler.viewer.v0+json": {
       "columns": [
        {
         "name": "index",
         "rawType": "int64",
         "type": "integer"
        },
        {
         "name": "second",
         "rawType": "float64",
         "type": "float"
        },
        {
         "name": "Volt",
         "rawType": "float64",
         "type": "float"
        }
       ],
       "ref": "324dab81-f5a1-4304-8957-04c244fd37a6",
       "rows": [
        [
         "0",
         "-0.001",
         "0.25924371555"
        ],
        [
         "1",
         "-0.000999968",
         "0.25924371555"
        ],
        [
         "2",
         "-0.000999936",
         "0.26728391647"
        ],
        [
         "3",
         "-0.000999904",
         "0.26728391647"
        ],
        [
         "4",
         "-0.000999872",
         "0.25924371555"
        ],
        [
         "5",
         "-0.00099984",
         "0.25924371555"
        ],
        [
         "6",
         "-0.000999808",
         "0.26728391647"
        ],
        [
         "7",
         "-0.000999776",
         "0.26728391647"
        ],
        [
         "8",
         "-0.000999744",
         "0.25924371555"
        ],
        [
         "9",
         "-0.000999712",
         "0.25924371555"
        ],
        [
         "10",
         "-0.00099968",
         "0.25924371555"
        ],
        [
         "11",
         "-0.000999648",
         "0.25924371555"
        ],
        [
         "12",
         "-0.000999616",
         "0.25924371555"
        ],
        [
         "13",
         "-0.000999584",
         "0.25924371555"
        ],
        [
         "14",
         "-0.000999552",
         "0.25120351464"
        ],
        [
         "15",
         "-0.00099952",
         "0.25924371555"
        ],
        [
         "16",
         "-0.000999488",
         "0.25924371555"
        ],
        [
         "17",
         "-0.000999456",
         "0.26728391647"
        ],
        [
         "18",
         "-0.000999424",
         "0.25924371555"
        ],
        [
         "19",
         "-0.000999392",
         "0.25924371555"
        ],
        [
         "20",
         "-0.00099936",
         "0.25924371555"
        ],
        [
         "21",
         "-0.000999328",
         "0.26728391647"
        ],
        [
         "22",
         "-0.000999296",
         "0.25924371555"
        ],
        [
         "23",
         "-0.000999264",
         "0.26728391647"
        ],
        [
         "24",
         "-0.000999232",
         "0.26728391647"
        ],
        [
         "25",
         "-0.0009992",
         "0.26728391647"
        ],
        [
         "26",
         "-0.000999168",
         "0.25924371555"
        ],
        [
         "27",
         "-0.000999136",
         "0.26728391647"
        ],
        [
         "28",
         "-0.000999104",
         "0.25120351464"
        ],
        [
         "29",
         "-0.000999072",
         "0.25924371555"
        ],
        [
         "30",
         "-0.00099904",
         "0.25924371555"
        ],
        [
         "31",
         "-0.000999008",
         "0.25924371555"
        ],
        [
         "32",
         "-0.000998976",
         "0.26728391647"
        ],
        [
         "33",
         "-0.000998944",
         "0.26728391647"
        ],
        [
         "34",
         "-0.000998912",
         "0.26728391647"
        ],
        [
         "35",
         "-0.00099888",
         "0.25924371556"
        ],
        [
         "36",
         "-0.000998848",
         "0.26728391647"
        ],
        [
         "37",
         "-0.000998816",
         "0.25120351464"
        ],
        [
         "38",
         "-0.000998784",
         "0.25924371556"
        ],
        [
         "39",
         "-0.000998752",
         "0.26728391647"
        ],
        [
         "40",
         "-0.00099872",
         "0.25924371555"
        ],
        [
         "41",
         "-0.000998688",
         "0.25120351464"
        ],
        [
         "42",
         "-0.000998656",
         "0.25924371556"
        ],
        [
         "43",
         "-0.000998624",
         "0.26728391647"
        ],
        [
         "44",
         "-0.000998592",
         "0.25924371556"
        ],
        [
         "45",
         "-0.00099856",
         "0.26728391647"
        ],
        [
         "46",
         "-0.000998528",
         "0.25924371555"
        ],
        [
         "47",
         "-0.000998496",
         "0.25924371556"
        ],
        [
         "48",
         "-0.000998464",
         "0.26728391647"
        ],
        [
         "49",
         "-0.000998432",
         "0.25924371555"
        ]
       ],
       "shape": {
        "columns": 2,
        "rows": 62500
       }
      },
      "text/html": [
       "<div>\n",
       "<style scoped>\n",
       "    .dataframe tbody tr th:only-of-type {\n",
       "        vertical-align: middle;\n",
       "    }\n",
       "\n",
       "    .dataframe tbody tr th {\n",
       "        vertical-align: top;\n",
       "    }\n",
       "\n",
       "    .dataframe thead th {\n",
       "        text-align: right;\n",
       "    }\n",
       "</style>\n",
       "<table border=\"1\" class=\"dataframe\">\n",
       "  <thead>\n",
       "    <tr style=\"text-align: right;\">\n",
       "      <th></th>\n",
       "      <th>second</th>\n",
       "      <th>Volt</th>\n",
       "    </tr>\n",
       "  </thead>\n",
       "  <tbody>\n",
       "    <tr>\n",
       "      <th>0</th>\n",
       "      <td>-0.001</td>\n",
       "      <td>0.259244</td>\n",
       "    </tr>\n",
       "    <tr>\n",
       "      <th>1</th>\n",
       "      <td>-0.001</td>\n",
       "      <td>0.259244</td>\n",
       "    </tr>\n",
       "    <tr>\n",
       "      <th>2</th>\n",
       "      <td>-0.001</td>\n",
       "      <td>0.267284</td>\n",
       "    </tr>\n",
       "    <tr>\n",
       "      <th>3</th>\n",
       "      <td>-0.001</td>\n",
       "      <td>0.267284</td>\n",
       "    </tr>\n",
       "    <tr>\n",
       "      <th>4</th>\n",
       "      <td>-0.001</td>\n",
       "      <td>0.259244</td>\n",
       "    </tr>\n",
       "    <tr>\n",
       "      <th>...</th>\n",
       "      <td>...</td>\n",
       "      <td>...</td>\n",
       "    </tr>\n",
       "    <tr>\n",
       "      <th>62495</th>\n",
       "      <td>0.001</td>\n",
       "      <td>0.251204</td>\n",
       "    </tr>\n",
       "    <tr>\n",
       "      <th>62496</th>\n",
       "      <td>0.001</td>\n",
       "      <td>0.259244</td>\n",
       "    </tr>\n",
       "    <tr>\n",
       "      <th>62497</th>\n",
       "      <td>0.001</td>\n",
       "      <td>0.259244</td>\n",
       "    </tr>\n",
       "    <tr>\n",
       "      <th>62498</th>\n",
       "      <td>0.001</td>\n",
       "      <td>0.259244</td>\n",
       "    </tr>\n",
       "    <tr>\n",
       "      <th>62499</th>\n",
       "      <td>0.001</td>\n",
       "      <td>0.267284</td>\n",
       "    </tr>\n",
       "  </tbody>\n",
       "</table>\n",
       "<p>62500 rows × 2 columns</p>\n",
       "</div>"
      ],
      "text/plain": [
       "       second      Volt\n",
       "0      -0.001  0.259244\n",
       "1      -0.001  0.259244\n",
       "2      -0.001  0.267284\n",
       "3      -0.001  0.267284\n",
       "4      -0.001  0.259244\n",
       "...       ...       ...\n",
       "62495   0.001  0.251204\n",
       "62496   0.001  0.259244\n",
       "62497   0.001  0.259244\n",
       "62498   0.001  0.259244\n",
       "62499   0.001  0.267284\n",
       "\n",
       "[62500 rows x 2 columns]"
      ]
     },
     "execution_count": 42,
     "metadata": {},
     "output_type": "execute_result"
    }
   ],
   "source": [
    "df"
   ]
  },
  {
   "cell_type": "code",
   "execution_count": 44,
   "id": "05dd1ca2",
   "metadata": {},
   "outputs": [],
   "source": [
    "time = df.iloc[:, 0].values  # Time in seconds\n",
    "time = time - time[0]  # Normalize time to start at zero\n",
    "voltage = df.iloc[:, 1].values  # Voltage in Volts"
   ]
  },
  {
   "cell_type": "code",
   "execution_count": 45,
   "id": "dc3ba86d",
   "metadata": {},
   "outputs": [
    {
     "data": {
      "text/plain": [
       "array([0.000000e+00, 3.200000e-08, 6.400000e-08, ..., 1.999904e-03,\n",
       "       1.999936e-03, 1.999968e-03])"
      ]
     },
     "execution_count": 45,
     "metadata": {},
     "output_type": "execute_result"
    }
   ],
   "source": [
    "time"
   ]
  },
  {
   "cell_type": "code",
   "execution_count": 46,
   "id": "738b59ec",
   "metadata": {},
   "outputs": [
    {
     "data": {
      "text/plain": [
       "array([0.25924372, 0.25924372, 0.26728392, ..., 0.25924372, 0.25924372,\n",
       "       0.26728392])"
      ]
     },
     "execution_count": 46,
     "metadata": {},
     "output_type": "execute_result"
    }
   ],
   "source": [
    "voltage"
   ]
  },
  {
   "cell_type": "code",
   "execution_count": 47,
   "id": "059f9b54",
   "metadata": {},
   "outputs": [
    {
     "data": {
      "text/plain": [
       "[<matplotlib.lines.Line2D at 0x241a8bce520>]"
      ]
     },
     "execution_count": 47,
     "metadata": {},
     "output_type": "execute_result"
    },
    {
     "data": {
      "image/png": "[encoded data removed]",
      "text/plain": [
       "<Figure size 432x288 with 1 Axes>"
      ]
     },
     "metadata": {
      "needs_background": "light"
     },
     "output_type": "display_data"
    }
   ],
   "source": [
    "plt.plot(time, voltage, label='Voltage Signal')"
   ]
  },
  {
   "cell_type": "code",
   "execution_count": 49,
   "id": "5a7c53f0",
   "metadata": {},
   "outputs": [
    {
     "data": {
      "text/plain": [
       "31726"
      ]
     },
     "execution_count": 49,
     "metadata": {},
     "output_type": "execute_result"
    }
   ],
   "source": [
    "max_voltage_index = np.argmax(voltage)\n",
    "max_voltage_index"
   ]
  },
  {
   "cell_type": "code",
   "execution_count": 56,
   "id": "48d9e215",
   "metadata": {},
   "outputs": [
    {
     "data": {
      "text/plain": [
       "[<matplotlib.lines.Line2D at 0x241a93e18e0>]"
      ]
     },
     "execution_count": 56,
     "metadata": {},
     "output_type": "execute_result"
    },
    {
     "data": {
      "image/png": "[encoded data removed]",
      "text/plain": [
       "<Figure size 432x288 with 1 Axes>"
      ]
     },
     "metadata": {
      "needs_background": "light"
     },
     "output_type": "display_data"
    }
   ],
   "source": [
    "plot_range = 5000 # in index points\n",
    "plt.plot(time[max_voltage_index-plot_range:max_voltage_index+plot_range], voltage[max_voltage_index-plot_range:max_voltage_index+plot_range], label='Max Voltage')"
   ]
  },
  {
   "cell_type": "markdown",
   "id": "25d191b6",
   "metadata": {},
   "source": [
    " # Scope 1"
   ]
  },
  {
   "cell_type": "code",
   "execution_count": 62,
   "id": "334d4274",
   "metadata": {},
   "outputs": [
    {
     "name": "stdout",
     "output_type": "stream",
     "text": [
      "Fitted FWHM (time): 4.365831e-05 s\n",
      "Fitted FWHM (frequency): 0.022 MHz\n",
      "Finesse: 69655.51\n"
     ]
    },
    {
     "data": {
      "image/png": "[encoded data removed]",
      "text/plain": [
       "<Figure size 432x288 with 1 Axes>"
      ]
     },
     "metadata": {
      "needs_background": "light"
     },
     "output_type": "display_data"
    }
   ],
   "source": [
    "# Define Lorentzian function\n",
    "def lorentzian(x, x0, gamma, a, d):\n",
    "    return a * gamma**2 / ((x - x0)**2 + gamma**2) + d\n",
    "\n",
    "# Select the data range around the peak for fitting\n",
    "fit_time = time[max_voltage_index-plot_range:max_voltage_index+plot_range]\n",
    "fit_voltage = voltage[max_voltage_index-plot_range:max_voltage_index+plot_range]\n",
    "\n",
    "# Initial guess for [x0, gamma, a, d]\n",
    "x0_guess = fit_time[np.argmax(fit_voltage)]\n",
    "gamma_guess = (fit_time[-1] - fit_time[0]) / 10\n",
    "a_guess = np.max(fit_voltage) - np.min(fit_voltage)\n",
    "d_guess = np.min(fit_voltage)\n",
    "p0 = [x0_guess, gamma_guess, a_guess, d_guess]\n",
    "\n",
    "# Fit Lorentzian\n",
    "popt, pcov = curve_fit(lorentzian, fit_time, fit_voltage, p0=p0)\n",
    "x0_fit, gamma_fit, a_fit, d_fit = popt\n",
    "\n",
    "# Calculate FWHM in time units\n",
    "FWHM_time = 2 * gamma_fit\n",
    "\n",
    "# Convert FWHM from time to MHz using freq_per_second_MHz\n",
    "FWHM_MHz = FWHM_time * freq_per_second_MHz\n",
    "\n",
    "# Calculate the finesse as well\n",
    "FSR = 1.5e9  # FSR in Hz\n",
    "Finesse = FSR / (FWHM_MHz * 1e6)  # Convert MHz to Hz for FSR\n",
    "\n",
    "print(f\"Fitted FWHM (time): {FWHM_time:.6e} s\")\n",
    "print(f\"Fitted FWHM (frequency): {FWHM_MHz:.3f} MHz\")\n",
    "print(f\"Finesse: {Finesse:.2f}\")\n",
    "\n",
    "# Plot the fit\n",
    "plt.plot(fit_time, fit_voltage, 'b.', label='Data')\n",
    "plt.plot(fit_time, lorentzian(fit_time, *popt), 'r-', label='Lorentzian Fit')\n",
    "plt.legend()\n",
    "plt.xlabel('Time (s)')\n",
    "plt.ylabel('Voltage (V)')\n",
    "plt.title('Lorentzian Fit to Peak')\n",
    "plt.show()"
   ]
  },
  {
   "cell_type": "markdown",
   "id": "63ee9d0d",
   "metadata": {},
   "source": [
    "# Scope 3"
   ]
  },
  {
   "cell_type": "code",
   "execution_count": 63,
   "id": "26ccfb22",
   "metadata": {},
   "outputs": [
    {
     "name": "stdout",
     "output_type": "stream",
     "text": [
      "Fitted FWHM (time): 4.884009e-05 s\n",
      "Fitted FWHM (frequency): 0.024 MHz\n",
      "Finesse: 62265.27\n"
     ]
    },
    {
     "data": {
      "image/png": "[encoded data removed]",
      "text/plain": [
       "<Figure size 432x288 with 1 Axes>"
      ]
     },
     "metadata": {
      "needs_background": "light"
     },
     "output_type": "display_data"
    }
   ],
   "source": [
    "# Load new data from scope_3.csv\n",
    "df3 = pd.read_csv('scope_3.csv', header=1)\n",
    "\n",
    "# Extract and normalize time and voltage\n",
    "time3 = df3.iloc[:, 0].values\n",
    "time3 = time3 - time3[0]\n",
    "voltage3 = df3.iloc[:, 1].values\n",
    "\n",
    "# Find max voltage index\n",
    "max_voltage_index3 = np.argmax(voltage3)\n",
    "\n",
    "# Use the same plot range as before\n",
    "fit_time3 = time3[max_voltage_index3-plot_range:max_voltage_index3+plot_range]\n",
    "fit_voltage3 = voltage3[max_voltage_index3-plot_range:max_voltage_index3+plot_range]\n",
    "\n",
    "# Initial guess for Lorentzian fit\n",
    "x0_guess3 = fit_time3[np.argmax(fit_voltage3)]\n",
    "gamma_guess3 = (fit_time3[-1] - fit_time3[0]) / 10\n",
    "a_guess3 = np.max(fit_voltage3) - np.min(fit_voltage3)\n",
    "d_guess3 = np.min(fit_voltage3)\n",
    "p0_3 = [x0_guess3, gamma_guess3, a_guess3, d_guess3]\n",
    "\n",
    "# Fit Lorentzian\n",
    "popt3, pcov3 = curve_fit(lorentzian, fit_time3, fit_voltage3, p0=p0_3)\n",
    "x0_fit3, gamma_fit3, a_fit3, d_fit3 = popt3\n",
    "\n",
    "# Calculate FWHM in time units\n",
    "FWHM_time3 = 2 * gamma_fit3\n",
    "\n",
    "# Convert FWHM from time to MHz using freq_per_second_MHz\n",
    "FWHM_MHz3 = FWHM_time3 * freq_per_second_MHz\n",
    "\n",
    "# Calculate finesse\n",
    "Finesse3 = FSR / (FWHM_MHz3 * 1e6)\n",
    "\n",
    "print(f\"Fitted FWHM (time): {FWHM_time3:.6e} s\")\n",
    "print(f\"Fitted FWHM (frequency): {FWHM_MHz3:.3f} MHz\")\n",
    "print(f\"Finesse: {Finesse3:.2f}\")\n",
    "\n",
    "# Plot the fit\n",
    "plt.plot(fit_time3, fit_voltage3, 'b.', label='Data')\n",
    "plt.plot(fit_time3, lorentzian(fit_time3, *popt3), 'r-', label='Lorentzian Fit')\n",
    "plt.legend()\n",
    "plt.xlabel('Time (s)')\n",
    "plt.ylabel('Voltage (V)')\n",
    "plt.title('Lorentzian Fit to Peak (scope_3.csv)')\n",
    "plt.show()"
   ]
  },
  {
   "cell_type": "markdown",
   "id": "910a7821",
   "metadata": {},
   "source": [
    "# Scope 5"
   ]
  },
  {
   "cell_type": "code",
   "execution_count": 90,
   "id": "d579e797",
   "metadata": {},
   "outputs": [
    {
     "name": "stdout",
     "output_type": "stream",
     "text": [
      "Fitted FWHM (time): 1.051857e-04 s\n",
      "Fitted FWHM (frequency): 0.052 MHz\n",
      "Finesse: 28911.16\n"
     ]
    },
    {
     "data": {
      "image/png": "[encoded data removed]",
      "text/plain": [
       "<Figure size 432x288 with 1 Axes>"
      ]
     },
     "metadata": {
      "needs_background": "light"
     },
     "output_type": "display_data"
    }
   ],
   "source": [
    "# Load new data from scope_5.csv\n",
    "df5 = pd.read_csv('scope_5.csv', header=1)\n",
    "\n",
    "# Extract and normalize time and voltage\n",
    "time5 = df5.iloc[:, 0].values\n",
    "time5 = time5 - time5[0]\n",
    "voltage5 = df5.iloc[:, 1].values\n",
    "\n",
    "# Find max voltage index\n",
    "max_voltage_index5 = np.nanargmax(voltage5)\n",
    "\n",
    "plot_range = 10000\n",
    "\n",
    "# Use the same plot range as before\n",
    "fit_time5 = time5[max_voltage_index5-plot_range:max_voltage_index5+plot_range]\n",
    "fit_voltage5 = voltage5[max_voltage_index5-plot_range:max_voltage_index5+plot_range]\n",
    "\n",
    "# Initial guess for Lorentzian fit\n",
    "x0_guess5 = fit_time5[np.argmax(fit_voltage5)]\n",
    "gamma_guess5 = (fit_time5[-1] - fit_time5[0]) / 10\n",
    "a_guess5 = np.max(fit_voltage5) - np.min(fit_voltage5)\n",
    "d_guess5 = np.min(fit_voltage5)\n",
    "p0_5 = [x0_guess5, gamma_guess5, a_guess5, d_guess5]\n",
    "\n",
    "# Fit Lorentzian\n",
    "popt5, pcov5 = curve_fit(lorentzian, fit_time5, fit_voltage5, p0=p0_5)\n",
    "x0_fit5, gamma_fit5, a_fit5, d_fit5 = popt5\n",
    "\n",
    "# Calculate FWHM in time units\n",
    "FWHM_time5 = 2 * gamma_fit5\n",
    "\n",
    "# Convert FWHM from time to MHz using freq_per_second_MHz\n",
    "FWHM_MHz5 = FWHM_time5 * freq_per_second_MHz\n",
    "\n",
    "# Calculate finesse\n",
    "Finesse5 = FSR / (FWHM_MHz5 * 1e6)\n",
    "\n",
    "print(f\"Fitted FWHM (time): {FWHM_time5:.6e} s\")\n",
    "print(f\"Fitted FWHM (frequency): {FWHM_MHz5:.3f} MHz\")\n",
    "print(f\"Finesse: {Finesse5:.2f}\")\n",
    "\n",
    "# Plot the fit\n",
    "plt.plot(fit_time5, fit_voltage5, 'b.', label='Data')\n",
    "plt.plot(fit_time5, lorentzian(fit_time5, *popt5), 'r-', label='Lorentzian Fit')\n",
    "plt.legend()\n",
    "plt.xlabel('Time (s)')\n",
    "plt.ylabel('Voltage (V)')\n",
    "plt.title('Lorentzian Fit to Peak (scope_5.csv)')\n",
    "plt.show()"
   ]
  },
  {
   "cell_type": "code",
   "execution_count": null,
   "id": "3cc23fbc",
   "metadata": {},
   "outputs": [],
   "source": []
  }
 ],
 "metadata": {
  "kernelspec": {
   "display_name": "base",
   "language": "python",
   "name": "python3"
  },
  "language_info": {
   "codemirror_mode": {
    "name": "ipython",
    "version": 3
   },
   "file_extension": ".py",
   "mimetype": "text/x-python",
   "name": "python",
   "nbconvert_exporter": "python",
   "pygments_lexer": "ipython3",
   "version": "3.9.7"
  }
 },
 "nbformat": 4,
 "nbformat_minor": 5
}
