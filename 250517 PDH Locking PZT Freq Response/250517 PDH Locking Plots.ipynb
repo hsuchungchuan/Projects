{
 "cells": [
  {
   "cell_type": "code",
   "execution_count": 1,
   "id": "ee8e2629",
   "metadata": {},
   "outputs": [],
   "source": [
    "import numpy as np\n",
    "import matplotlib.pyplot as plt"
   ]
  },
  {
   "cell_type": "code",
   "execution_count": null,
   "id": "c47b7b10",
   "metadata": {},
   "outputs": [],
   "source": []
  },
  {
   "cell_type": "markdown",
   "id": "2ea3be32",
   "metadata": {},
   "source": [
    "# Fast slow PZT graphs"
   ]
  },
  {
   "cell_type": "code",
   "execution_count": 15,
   "id": "28924010",
   "metadata": {},
   "outputs": [],
   "source": [
    "# copy paste this code to the beginning of your script to set the plotting style for a two column figure\n",
    "\n",
    "from matplotlib import pyplot as plt\n",
    "\n",
    "plt.rcParams.update({\n",
    "    \"text.usetex\": True,\n",
    "    \"font.family\": \"serif\",\n",
    "    \"font.serif\": [\"Computer Modern Roman\"],\n",
    "    # \"figure.constrained_layout.use\": True\n",
    "})\n",
    "\n",
    "plt.rcParams[\"figure.autolayout\"] = False # set to True if you want to use constrained_layout\n",
    "\n",
    "plt.rcParams[\"savefig.bbox\"] = None\n",
    "plt.rcParams[\"figure.figsize\"] = (5.9,2.5)\n",
    "plt.rcParams[\"figure.titlesize\"] = 10 # this is only for plt.suptitle, i set it to be the same as the rest\n",
    "\n",
    "plt.rcParams[\"axes.titlesize\"] = 10 # control title size\n",
    "plt.rcParams[\"axes.labelsize\"] = 10 # control x and y axis labels\n",
    "plt.rcParams[\"axes.labelpad\"] = 4.0 # distance between axis label and axis numbers\n",
    "plt.rcParams[\"xtick.labelsize\"] = 10 # independent control of xlabel fontsize\n",
    "plt.rcParams[\"ytick.labelsize\"] = 10 # independent control of ylabel fontsize\n",
    "\n",
    "plt.rcParams[\"legend.fontsize\"] = 7.5 # control legend size, I set it to be slightly smaller than title/axes label\n",
    "# plt.rcParams[\"legend.facecolor\"] = (0.9, 0.9, 0.9) # legend background color\n",
    "# plt.rcParams[\"legend.edgecolor\"] = (0, 0, 0) # legend border line color\n",
    "# plt.rcParams[\"legend.frameon\"] = True # whether or not to draw a border around legend\n",
    "# plt.rcParams[\"legend.framealpha\"] = 0.1 # legend background transparency\n",
    "plt.rcParams[\"legend.loc\"] = \"upper left\" # default legend location\n",
    "plt.rcParams[\"legend.handletextpad\"] = 0.8  # Horizontal space between legend point and text (default 0.8)\n",
    "plt.rcParams[\"legend.labelspacing\"] = 0.6  # Vertical space between legend entries (default 0.5)\n",
    "# plt.rcParams[\"legend.columnspacing\"] = 2.0  # Space between columns in multi-column legends\n",
    "# plt.rcParams[\"legend.borderpad\"] = 1.0  # Space between legend content and the box\n",
    "# plt.rcParams[\"legend.handlelength\"] = 2.0  # Length of legend marker lines\n",
    "\n",
    "plt.rcParams[\"lines.linewidth\"] = 1\n",
    "plt.rcParams[\"lines.markersize\"] = 6 #data point size\n",
    "\n",
    "# CHOOSE NICE COLOR FOR DARK MARKER EDGEWIDTH FROM \"dodgerblue\",\"mediumseagreen\",\"crimson\",\"mediumpurple\",\"slateblue\",\"darkorange\",\"peru\",\"goldenrod\"\n",
    "# plt.rcParams[\"lines.linewidth\"] = 1\n",
    "# plt.rcParams[\"lines.markersize\"] = 6 #data point size\n",
    "# plt.rcParams[\"lines.markeredgewidth\"] = 1.5 # width of the edge of the marker\n",
    "# plt.rcParams[\"lines.markeredgecolor\"] = \"black\" # color of the edge of the marker\n",
    "# plt.rcParams[\"lines.markerfacecolor\"] = \"dodgerblue\" # color of the inside of the marker\n",
    "# plt.rcParams[\"lines.marker\"] = \"o\" # marker type, see https://matplotlib.org/stable/api/markers_api.html for all options\n",
    "# plt.rcParams[\"lines.color\"] = \"black\" # color of the line\n",
    "# # CHOOSE NICE COLOR FOR DARK MARKER EDGEWIDTH FROM \"dodgerblue\",\"mediumseagreen\",\"crimson\",\"mediumpurple\",\"slateblue\",\"darkorange\",\"peru\",\"goldenrod\"\n",
    "\n",
    "plt.rcParams[\"grid.linestyle\"] = \"--\"\n",
    "plt.rcParams['axes.grid'] = True\n",
    "# plt.rcParams[\"grid.linewidth\"] = 0.7\n",
    "\n",
    "# plt.rcParams[\"xtick.major.pad\"] = 4.0 # distance between xticks dashes and xaxis numbers\n",
    "# plt.rcParams[\"xtick.major.size\"] = 3.0\n",
    "# plt.rcParams[\"xtick.major.width\"] = 0.7\n",
    "# plt.rcParams[\"ytick.major.pad\"] = 4.0 # distance between yticks dashes and yaxis numbers\n",
    "# plt.rcParams[\"ytick.major.size\"] = 3.0\n",
    "# plt.rcParams[\"ytick.major.width\"] = 0.7\n",
    "\n",
    "\n",
    "\n",
    "\n",
    "\n",
    "# plot two figures side by side\n",
    "# fig, (ax1, ax2) = plt.subplots(1, 2, sharey=True, constrained_layout=True)\n",
    "# plt.subplots_adjust(left=0.2, right=0.8, top=0.8, bottom=0.2) # remove unnecessary white space how i like it, this is manual very of use constrained_layout\n",
    "\n",
    "# That warning is because matplotlib’s default layout engine has changed in recent\n",
    "# versions to use constrained_layout, which is incompatible with subplots_adjust and tight_layout. \n",
    "# If you try to use plt.subplots_adjust when constrained_layout=True, matplotlib will raise that warning and ignore the call.\n",
    "# If you're manually adjusting spacing, disable constrained_layout when you create the figure:"
   ]
  },
  {
   "cell_type": "code",
   "execution_count": 59,
   "id": "1ced6644",
   "metadata": {},
   "outputs": [
    {
     "data": {
      "image/png": "[encoded data removed]",
      "text/plain": [
       "<Figure size 590x250 with 2 Axes>"
      ]
     },
     "metadata": {},
     "output_type": "display_data"
    }
   ],
   "source": [
    "# fast PZT frequency response graph\n",
    "\n",
    "# first section: flat sensitivity\n",
    "# second section: sensitivity with resonance\n",
    "\n",
    "fig, (ax1, ax2) = plt.subplots(1, 2, constrained_layout=True)\n",
    "\n",
    "fast_freq = np.linspace(0,200,1000) #kHz\n",
    "fast_flat_sensitivity = 4 * np.ones_like(fast_freq[:500]) #MHz/V\n",
    "fast_resonance_sensitivity = 4 * np.exp(0.01 * (fast_freq[500:] - 100)) #MHz/V\n",
    "fast_full_sensitivity = np.concatenate((fast_flat_sensitivity, fast_resonance_sensitivity))\n",
    "ax1.plot(fast_freq[:900], fast_full_sensitivity[:900], label=\"Resonance\", color=\"black\")\n",
    "ax1.set_ylim(0, 10)\n",
    "ax1.set_xlabel(\"FAST OUT Frequency (kHz)\")\n",
    "ax1.set_ylabel(\"Sensitivity (MHz/V)\")\n",
    "\n",
    "slow_freq = np.linspace(0,100,1000) #Hz\n",
    "slow_flat_sensitivity = 1.5 * np.ones_like(slow_freq[:500]) #GHz/V\n",
    "# slow resonance sensitivty now rolls off\n",
    "slow_resonance_sensitivity = 1.5 * np.exp(-0.01 * (slow_freq[500:] - 50)) #GHz/V\n",
    "slow_full_sensitivity = np.concatenate((slow_flat_sensitivity, slow_resonance_sensitivity))\n",
    "# ax2.plot(slow_freq, slow_full_sensitivity, label=\"Resonance\", color=\"dodgerblue\")\n",
    "\n",
    "# Use a sigmoid function for a smoother roll-off\n",
    "def smooth_rolloff(x, x0, k, y_high, y_low):\n",
    "    return y_low + (y_high - y_low) / (1 + np.exp(k * (x - x0)))\n",
    "\n",
    "# Example: roll-off starts at 50 Hz, smoothness controlled by k\n",
    "slow_sigmoid_sensitivity = np.concatenate([\n",
    "    slow_flat_sensitivity,\n",
    "    smooth_rolloff(slow_freq[500:], x0=90, k=0.1, y_high=1.5, y_low=1.0)\n",
    "])\n",
    "ax2.plot(slow_freq, slow_sigmoid_sensitivity, color=\"black\", linestyle=\"-\")\n",
    "\n",
    "ax2.set_ylim(0, 2)\n",
    "ax2.set_xlabel(\"SLOW OUT Frequency (Hz)\")\n",
    "ax2.set_ylabel(\"Sensitivity (GHz/V)\")\n",
    "# plt.show()\n",
    "\n",
    "plt.savefig(\"250517 FastSlowPZTSensitivityFrequencyResponse.pdf\", dpi=300)"
   ]
  },
  {
   "cell_type": "code",
   "execution_count": null,
   "id": "48501f9f",
   "metadata": {},
   "outputs": [],
   "source": []
  }
 ],
 "metadata": {
  "kernelspec": {
   "display_name": "base",
   "language": "python",
   "name": "python3"
  },
  "language_info": {
   "codemirror_mode": {
    "name": "ipython",
    "version": 3
   },
   "file_extension": ".py",
   "mimetype": "text/x-python",
   "name": "python",
   "nbconvert_exporter": "python",
   "pygments_lexer": "ipython3",
   "version": "3.12.7"
  }
 },
 "nbformat": 4,
 "nbformat_minor": 5
}
