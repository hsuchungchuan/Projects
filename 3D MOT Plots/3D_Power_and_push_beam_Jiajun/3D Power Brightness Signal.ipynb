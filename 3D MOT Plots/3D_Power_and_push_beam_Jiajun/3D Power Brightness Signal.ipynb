{
 "cells": [
  {
   "cell_type": "code",
   "execution_count": 1,
   "id": "1b4ef036",
   "metadata": {},
   "outputs": [],
   "source": [
    "import matplotlib as mpl\n",
    "import pandas as pd\n",
    "import numpy as np\n",
    "import matplotlib.pyplot as plt\n",
    "import math\n",
    "from tqdm import tqdm"
   ]
  },
  {
   "cell_type": "code",
   "execution_count": 2,
   "id": "895af973",
   "metadata": {},
   "outputs": [],
   "source": [
    "df = pd.read_csv('3D MOT Power against Brightness.csv')"
   ]
  },
  {
   "cell_type": "code",
   "execution_count": 3,
   "id": "bc01fb4c",
   "metadata": {},
   "outputs": [],
   "source": [
    "y_new = df.iloc[:,1]"
   ]
  },
  {
   "cell_type": "code",
   "execution_count": 4,
   "id": "e31fc983",
   "metadata": {},
   "outputs": [],
   "source": [
    "# 250508 Plotting nice latex style\n",
    "# copy paste this code to the beginning of your script to set the plotting style for a one column figure\n",
    "\n",
    "from matplotlib import pyplot as plt\n",
    "\n",
    "plt.rcParams.update({\n",
    "    \"text.usetex\": True,\n",
    "    \"font.family\": \"serif\",\n",
    "    \"font.serif\": [\"Computer Modern Roman\"],\n",
    "    \"figure.constrained_layout.use\": True\n",
    "})\n",
    "\n",
    "plt.rcParams[\"savefig.bbox\"] = None\n",
    "plt.rcParams[\"figure.figsize\"] = (5.9,2.5)  # (width, height) in inches, change height but not width\n",
    "plt.rcParams[\"figure.titlesize\"] = 10 # this is only for plt.suptitle, i set it to be the same as the rest\n",
    "\n",
    "plt.rcParams[\"axes.titlesize\"] = 10 # control title size\n",
    "plt.rcParams[\"axes.labelsize\"] = 10 # control x and y axis labels\n",
    "plt.rcParams[\"axes.labelpad\"] = 4.0 # distance between axis label and axis numbers\n",
    "plt.rcParams[\"xtick.labelsize\"] = 10 # independent control of xlabel fontsize\n",
    "plt.rcParams[\"ytick.labelsize\"] = 10 # independent control of ylabel fontsize\n",
    "\n",
    "plt.rcParams[\"legend.fontsize\"] = 7.5 # control legend size, I set it to be slightly smaller than title/axes label\n",
    "# plt.rcParams[\"legend.facecolor\"] = (0.9, 0.9, 0.9) # legend background color\n",
    "# plt.rcParams[\"legend.edgecolor\"] = (0, 0, 0) # legend border line color\n",
    "# plt.rcParams[\"legend.frameon\"] = True # whether or not to draw a border around legend\n",
    "# plt.rcParams[\"legend.framealpha\"] = 0.1 # legend background transparency\n",
    "plt.rcParams[\"legend.loc\"] = \"best\" # default legend location\n",
    "plt.rcParams[\"legend.handletextpad\"] = 0.8  # Horizontal space between legend point and text (default 0.8)\n",
    "plt.rcParams[\"legend.labelspacing\"] = 0.6  # Vertical space between legend entries (default 0.5)\n",
    "# plt.rcParams[\"legend.columnspacing\"] = 2.0  # Space between columns in multi-column legends\n",
    "# plt.rcParams[\"legend.borderpad\"] = 1.0  # Space between legend content and the box\n",
    "# plt.rcParams[\"legend.handlelength\"] = 2.0  # Length of legend marker lines\n",
    "\n",
    "plt.rcParams[\"lines.linewidth\"] = 1\n",
    "plt.rcParams[\"lines.markersize\"] = 6 #data point size\n",
    "\n",
    "# CHOOSE NICE COLOR FOR DARK MARKER EDGEWIDTH FROM \"dodgerblue\",\"mediumseagreen\",\"crimson\",\"mediumpurple\",\"slateblue\",\"darkorange\",\"peru\",\"goldenrod\"\n",
    "plt.rcParams[\"lines.linewidth\"] = 1\n",
    "plt.rcParams[\"lines.markersize\"] = 6 #data point size\n",
    "plt.rcParams[\"lines.markeredgewidth\"] = 1.5 # width of the edge of the marker\n",
    "plt.rcParams[\"lines.markeredgecolor\"] = \"black\" # color of the edge of the marker\n",
    "plt.rcParams[\"lines.markerfacecolor\"] = \"dodgerblue\" # color of the inside of the marker\n",
    "plt.rcParams[\"lines.marker\"] = \"o\" # marker type, see https://matplotlib.org/stable/api/markers_api.html for all options\n",
    "plt.rcParams[\"lines.color\"] = \"black\" # color of the line\n",
    "# # CHOOSE NICE COLOR FOR DARK MARKER EDGEWIDTH FROM \"dodgerblue\",\"mediumseagreen\",\"crimson\",\"mediumpurple\",\"slateblue\",\"darkorange\",\"peru\",\"goldenrod\"\n",
    "\n",
    "\n",
    "plt.rcParams[\"grid.linestyle\"] = \"--\"\n",
    "plt.rcParams['axes.grid'] = True\n",
    "# plt.rcParams[\"grid.linewidth\"] = 0.7\n",
    "\n",
    "# plt.rcParams[\"xtick.major.pad\"] = 4.0 # distance between xticks dashes and xaxis numbers\n",
    "# plt.rcParams[\"xtick.major.size\"] = 3.0\n",
    "# plt.rcParams[\"xtick.major.width\"] = 0.7\n",
    "# plt.rcParams[\"ytick.major.pad\"] = 4.0 # distance between yticks dashes and yaxis numbers\n",
    "# plt.rcParams[\"ytick.major.size\"] = 3.0\n",
    "# plt.rcParams[\"ytick.major.width\"] = 0.7\n"
   ]
  },
  {
   "cell_type": "code",
   "execution_count": 6,
   "id": "a70b026a",
   "metadata": {},
   "outputs": [],
   "source": [
    "def number_of_atoms(photodiode_voltage_in_mV):\n",
    "    P_v = photodiode_voltage_in_mV * 1e-3 # V #Photodiode signal\n",
    "    P_r = 680*10**(3) # ohm\n",
    "    Respons = 0.15\n",
    "    c = 299792458 #m/s\n",
    "    h = 6.62607015*10**(-34)# Joule*second\n",
    "    wavelength = 460.862022*10**(-9)\n",
    "    f = c/wavelength# m/s\n",
    "    gamma = 2*np.pi*30.41*10**(6) #The natural linewidth of the transition\n",
    "    I_Isat = 0.9\n",
    "    detune = -60e6 #Hz detuning of the 3D MOT beam\n",
    "\n",
    "\n",
    "    P_I = P_v/P_r\n",
    "    P_P = P_I/Respons\n",
    "    E = h*f \n",
    "    r_p=P_P/E\n",
    "    R = gamma/2*I_Isat/(1+I_Isat+4*detune**2/gamma**2)\n",
    "    N_pd = r_p/R \n",
    "\n",
    "    r_sqre = (12.7*10**(-3)/2)**2\n",
    "    d = 0.15\n",
    "\n",
    "    A = np.pi*r_sqre\n",
    "    Omega = A/d**2\n",
    "\n",
    "\n",
    "    N_r = N_pd*4*np.pi/Omega\n",
    "\n",
    "    return N_r"
   ]
  },
  {
   "cell_type": "code",
   "execution_count": 8,
   "id": "f3d03652",
   "metadata": {},
   "outputs": [
    {
     "data": {
      "image/png": "[encoded data removed]",
      "text/plain": [
       "<Figure size 590x250 with 1 Axes>"
      ]
     },
     "metadata": {},
     "output_type": "display_data"
    }
   ],
   "source": [
    "plt.plot(df.iloc[:,0],[number_of_atoms(i)/1e7 for i in y_new],'ko-')\n",
    "# plt.xticks([100,150,200,250,300])\n",
    "\n",
    "plt.xlabel('3D MOT Beam Power (mW)')\n",
    "plt.ylabel(r\"Atom Number ($\\times$10$^7$)\")\n",
    "\n",
    "# plt.savefig('Push_Power_Brightness_Signal.pdf', dpi=300)\n",
    "plt.savefig('3D_Power_Brightness_Signal.pdf', dpi=300)"
   ]
  },
  {
   "cell_type": "code",
   "execution_count": null,
   "id": "db8b6eb2",
   "metadata": {},
   "outputs": [],
   "source": []
  },
  {
   "cell_type": "code",
   "execution_count": null,
   "id": "cd840fcd",
   "metadata": {},
   "outputs": [],
   "source": []
  },
  {
   "cell_type": "code",
   "execution_count": null,
   "id": "35b9eacc",
   "metadata": {},
   "outputs": [],
   "source": []
  },
  {
   "cell_type": "code",
   "execution_count": null,
   "id": "c1162810",
   "metadata": {},
   "outputs": [],
   "source": []
  },
  {
   "cell_type": "code",
   "execution_count": null,
   "id": "7cbc32cf",
   "metadata": {},
   "outputs": [],
   "source": []
  },
  {
   "cell_type": "code",
   "execution_count": 5,
   "id": "18a0776d",
   "metadata": {},
   "outputs": [
    {
     "name": "stdout",
     "output_type": "stream",
     "text": [
      "Initialising plotting style...\n",
      "Success! Plotting style initialised.\n"
     ]
    }
   ],
   "source": [
    "## On your .ipynb, import this plotting_style by adding in and uncommenting the following lines:\n",
    "\n",
    "import matplotlib.pyplot as plt\n",
    "import sys\n",
    "sys.path.append('C:/Users/Michael/Dropbox/AION/Projects')  # Replace with the relevant path that contains this script\n",
    "from plotting_style import set_plotting_style\n",
    "set_plotting_style()"
   ]
  },
  {
   "cell_type": "code",
   "execution_count": 7,
   "id": "58ff438a",
   "metadata": {},
   "outputs": [
    {
     "data": {
      "image/png": "[encoded data removed]",
      "text/plain": [
       "<Figure size 432x288 with 1 Axes>"
      ]
     },
     "metadata": {
      "needs_background": "light"
     },
     "output_type": "display_data"
    }
   ],
   "source": [
    "# plt.figure(figsize=(8,6))\n",
    "plt.plot(df.iloc[:,0],y_new)\n",
    "plt.scatter(df.iloc[:,0],y_new, label=\"Number of Atoms in the 3D MOT\")\n",
    "\n",
    "#plt.scatter(locked_resistance,locked_current,c='k',s=2,label='Locked')\n",
    "# plt.legend()\n",
    "plt.xlabel('3D MOT Beam Power (mW)')\n",
    "plt.ylabel(\"3D MOT Fluorescence (mV)\")\n",
    "# plt.title('The Maximum Number of Atoms in the 3D MOT against Different 3D MOT Beam Powers')\n",
    "\n",
    "# plt.show()\n",
    "\n",
    "plt.savefig('3D_Power_Brightness_Signal.png', dpi=300, bbox_inches='tight')\n",
    "plt.savefig('3D_Power_Brightness_Signal.pdf', dpi=300, bbox_inches='tight')"
   ]
  },
  {
   "cell_type": "code",
   "execution_count": null,
   "id": "20ac1b91",
   "metadata": {},
   "outputs": [],
   "source": []
  },
  {
   "cell_type": "code",
   "execution_count": null,
   "id": "f74bf38f",
   "metadata": {},
   "outputs": [],
   "source": []
  }
 ],
 "metadata": {
  "kernelspec": {
   "display_name": "base",
   "language": "python",
   "name": "python3"
  },
  "language_info": {
   "codemirror_mode": {
    "name": "ipython",
    "version": 3
   },
   "file_extension": ".py",
   "mimetype": "text/x-python",
   "name": "python",
   "nbconvert_exporter": "python",
   "pygments_lexer": "ipython3",
   "version": "3.12.7"
  }
 },
 "nbformat": 4,
 "nbformat_minor": 5
}
