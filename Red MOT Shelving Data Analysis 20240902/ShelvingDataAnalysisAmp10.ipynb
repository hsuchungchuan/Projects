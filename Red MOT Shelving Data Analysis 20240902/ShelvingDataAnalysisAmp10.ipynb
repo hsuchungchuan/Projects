{
 "cells": [
  {
   "cell_type": "code",
   "execution_count": 1,
   "metadata": {},
   "outputs": [
    {
     "data": {
      "application/vnd.jupyter.widget-view+json": {
       "model_id": "24f4659abc904ec487489dfecb087c08",
       "version_major": 2,
       "version_minor": 0
      },
      "text/plain": [
       "  0%|          | 0/9 [00:00<?, ?it/s]"
      ]
     },
     "metadata": {},
     "output_type": "display_data"
    },
    {
     "data": {
      "application/vnd.jupyter.widget-view+json": {
       "model_id": "88aeafe1939c4309a501f0984a346870",
       "version_major": 2,
       "version_minor": 0
      },
      "text/plain": [
       "  0%|          | 0/11 [00:00<?, ?it/s]"
      ]
     },
     "metadata": {},
     "output_type": "display_data"
    },
    {
     "name": "stdout",
     "output_type": "stream",
     "text": [
      "Z:/AION/Data/2024/08/29/shelving_DPAOM_amp10/shelving1/shelving1_01.csv\n"
     ]
    },
    {
     "ename": "NameError",
     "evalue": "name 'ShelvingAnalysis' is not defined",
     "output_type": "error",
     "traceback": [
      "\u001b[1;31m---------------------------------------------------------------------------\u001b[0m",
      "\u001b[1;31mNameError\u001b[0m                                 Traceback (most recent call last)",
      "\u001b[1;32m~\\AppData\\Local\\Temp/ipykernel_31988/3225592243.py\u001b[0m in \u001b[0;36m<module>\u001b[1;34m\u001b[0m\n\u001b[0;32m     20\u001b[0m         \u001b[0mprint\u001b[0m\u001b[1;33m(\u001b[0m\u001b[0mfile_path\u001b[0m\u001b[1;33m)\u001b[0m\u001b[1;33m\u001b[0m\u001b[1;33m\u001b[0m\u001b[0m\n\u001b[0;32m     21\u001b[0m \u001b[1;33m\u001b[0m\u001b[0m\n\u001b[1;32m---> 22\u001b[1;33m         \u001b[0mShelvingAnalysisInstance\u001b[0m \u001b[1;33m=\u001b[0m \u001b[0mShelvingAnalysis\u001b[0m\u001b[1;33m(\u001b[0m\u001b[0mfile_path\u001b[0m\u001b[1;33m)\u001b[0m\u001b[1;33m\u001b[0m\u001b[1;33m\u001b[0m\u001b[0m\n\u001b[0m\u001b[0;32m     23\u001b[0m         \u001b[0mShelvingAnalysisInstance\u001b[0m\u001b[1;33m.\u001b[0m\u001b[0mextract_data\u001b[0m\u001b[1;33m(\u001b[0m\u001b[1;33m)\u001b[0m\u001b[1;33m\u001b[0m\u001b[1;33m\u001b[0m\u001b[0m\n\u001b[0;32m     24\u001b[0m         \u001b[0mShelvingAnalysisInstance\u001b[0m\u001b[1;33m.\u001b[0m\u001b[0mextract_ROI_peaks\u001b[0m\u001b[1;33m(\u001b[0m\u001b[0mplot\u001b[0m\u001b[1;33m=\u001b[0m\u001b[1;32mTrue\u001b[0m\u001b[1;33m)\u001b[0m\u001b[1;33m\u001b[0m\u001b[1;33m\u001b[0m\u001b[0m\n",
      "\u001b[1;31mNameError\u001b[0m: name 'ShelvingAnalysis' is not defined"
     ]
    }
   ],
   "source": [
    "import numpy as np\n",
    "import matplotlib.pyplot as plt\n",
    "import matplotlib as mpl\n",
    "import pandas as pd\n",
    "from scipy.signal import find_peaks\n",
    "from ShelvingAnalysis import ShelvingAnalysis\n",
    "from tqdm.notebook import tqdm\n",
    "\n",
    "ShelvingIntensityAverageArray = []\n",
    "ShelvingIntensityUncertaintyArray = []\n",
    "\n",
    "for j in tqdm(range(1,10)):\n",
    "    main_directory_path = \"Z:/AION/Data/2024/08/29/\"\n",
    "    sub_directory_path = \"shelving_DPAOM_amp10/\"\n",
    "    dataset_path = \"shelving\" + str(j)+ \"/\"\n",
    "\n",
    "    for i in tqdm(range(1,12)):\n",
    "        if i < 10:\n",
    "            data_path = \"shelving\"+ str(j) + \"_0\" + str(i) + \".csv\"\n",
    "            file_path = main_directory_path + sub_directory_path + dataset_path + data_path\n",
    "        \n",
    "        else:\n",
    "            data_path = \"shelving\" + str(j) +\"_\" + str(i) + \".csv\"\n",
    "            file_path = main_directory_path + sub_directory_path + dataset_path + data_path\n",
    "\n",
    "        print(file_path)\n",
    "\n",
    "        ShelvingAnalysisInstance = ShelvingAnalysis(file_path)\n",
    "        ShelvingAnalysisInstance.extract_data()\n",
    "        ShelvingAnalysisInstance.extract_ROI_peaks(plot=True)\n",
    "        shelving_intensity_avg, shelving_intensity_std = ShelvingAnalysisInstance.extract_shelving_intensity()\n",
    "\n",
    "        ShelvingIntensityAverageArray.append(shelving_intensity_avg)\n",
    "        ShelvingIntensityUncertaintyArray.append(shelving_intensity_std)\n"
   ]
  },
  {
   "cell_type": "code",
   "execution_count": null,
   "metadata": {},
   "outputs": [],
   "source": []
  }
 ],
 "metadata": {
  "kernelspec": {
   "display_name": "base",
   "language": "python",
   "name": "python3"
  },
  "language_info": {
   "codemirror_mode": {
    "name": "ipython",
    "version": 3
   },
   "file_extension": ".py",
   "mimetype": "text/x-python",
   "name": "python",
   "nbconvert_exporter": "python",
   "pygments_lexer": "ipython3",
   "version": "3.9.7"
  }
 },
 "nbformat": 4,
 "nbformat_minor": 2
}
