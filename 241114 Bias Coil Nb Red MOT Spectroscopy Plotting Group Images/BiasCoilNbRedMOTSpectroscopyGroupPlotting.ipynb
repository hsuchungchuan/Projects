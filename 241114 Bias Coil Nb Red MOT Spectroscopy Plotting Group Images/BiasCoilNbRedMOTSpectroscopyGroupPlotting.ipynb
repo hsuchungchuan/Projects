{
 "cells": [
  {
   "cell_type": "code",
   "execution_count": 3,
   "metadata": {},
   "outputs": [
    {
     "name": "stdout",
     "output_type": "stream",
     "text": [
      " Dataset: horizontal camera bg\n",
      " Dataset: horizontal camera blue mot\n",
      " Dataset: horizontal camera red mot\n",
      " Dataset: parameters\n",
      " Dataset: vertical camera bg\n",
      " Dataset: vertical camera blue mot\n",
      " Dataset: vertical camera red mot\n"
     ]
    }
   ],
   "source": [
    "import h5py\n",
    "\n",
    "# Open the HDF5 file and inspect the structure\n",
    "with h5py.File(\"Z:/AION/Data/2024/11/13/nb_0A_all_bias_0A/data_08_01_13_13_11_2024.h5\", 'r') as f:\n",
    "    def print_hdf5_structure(group, level=0):\n",
    "        for key in group.keys():\n",
    "            if isinstance(group[key], h5py.Group):\n",
    "                print(\" \" * level, \"Group:\", key)\n",
    "                print_hdf5_structure(group[key], level + 2)\n",
    "            else:\n",
    "                print(\" \" * level, \"Dataset:\", key)\n",
    "\n",
    "    print_hdf5_structure(f)"
   ]
  },
  {
   "cell_type": "code",
   "execution_count": 5,
   "metadata": {},
   "outputs": [
    {
     "name": "stdout",
     "output_type": "stream",
     "text": [
      "Parameters data as dictionary: {'sequence_parameters': {'time_of_flight': 0.0, 'sequence_start_dead_time': 3.0, 'sequence_end_dead_time': 3.0}, 'blue_phase_ramping': {'blue_phase_nominal_frequency': 125000000.0, 'blue_phase_ramping_duration': 0.2, 'blue_phase_ramping_detuning_start': 0.0, 'blue_phase_ramping_detuning_end': 0.0, 'blue_phase_ramping_amplitude_start': 1.0, 'blue_phase_ramping_amplitude_end': 0.0, 'blue_phase_nominal_frequency_reset': 125000000.0, 'blue_ramping_amplitude_reset': 1.0, 'blue_phase_ramping_Bfield_start': 100.0, 'blue_phase_ramping_Bfield_end': 100.0, 'blue_phase_ramping_Bfield_voltage': 10.0}, 'broadband_fixed_phase': {'broadband_fixed_phase_duration': 0.7, 'broadband_fixed_phase_central_frequency': 349400000.0, 'broadband_fixed_phase_modulation_width': 5000000.0, 'broadband_fixed_phase_Bfield': 18.0, 'broadband_fixed_phase_dpaom_amplitude': 1.0, 'broadband_fixed_phase_dpaom_ramping_rate': 150000000000.0, 'broadband_fixed_phase_dpaom_ramping_mode': 1, 'broadband_fixed_phase_dpaom_ramping_frequency': 30000.0, 'broadband_fixed_phase_Bfield_voltage': 4.5, 'broadband_fixed_phase_frequency_low': 347100000.0, 'broadband_fixed_phase_frequency_high': 351100000.0, 'broadband_if_scan_low_frequency': False, 'broadband_if_scan_high_frequency': False}, 'broadband_fixed_phaseII': {'broadband_fixed_phaseII_duration': 0.7, 'broadband_fixed_phaseII_central_frequency': 349400000.0, 'broadband_fixed_phaseII_modulation_width': 5000000.0, 'broadband_fixed_phaseII_Bfield': 18.0, 'broadband_fixed_phaseII_dpaom_amplitude': 0.7, 'broadband_fixed_phaseII_dpaom_ramping_rate': 150000000000.0, 'broadband_fixed_phaseII_dpaom_ramping_mode': 1, 'broadband_fixed_phaseII_dpaom_ramping_frequency': 30000.0, 'broadband_fixed_phaseII_Bfield_voltage': 4.5}, 'broadband_cone_phase_ramping': 'no_broadband_cone', 'narrowband_fixed_phase_single': {'narrowband_fixed_phase_duration': 0.03, 'narrowband_fixed_phase_frequency': 346600000.0, 'narrowband_fixed_phase_Bfield': 0.0, 'narrowband_fixed_phase_dpaom_amplitude': 1.0, 'narrowband_fixed_phase_Bfield_voltage': 4.5}, 'narrowband_capture_phase_ramping': 'no_narrowband_capture', 'broadband_skewedcone_phase_ramping': 'no_broadband_skewedcone', 'red_mot_constants': {'blue_mot_time': 4.0, 'mirny_frequency': 460000000.0, 'red_mot_Bfield_voltage': 2.7, 'red_dpaom_frequency_default': 349400000.0, 'red_dpaom_amplitude_default': 1.0, 'blue_mot_insitu_exposure_time': 1000, 'tof_mot_exposure_time': 3000, 'red_mot_shelving_dpaom_f_min': 346900000.0, 'red_mot_shelving_dpaom_f_max': 351900000.0, 'red_mot_shelving_dpaom_df_dt': 150000000000.0, 'red_mot_shelving_dpaom_mode': 1}, 'other_comments': 'no_comments'}\n"
     ]
    }
   ],
   "source": [
    "import h5py\n",
    "import json  # Just in case the data is in JSON format\n",
    "\n",
    "# Open the HDF5 file\n",
    "with h5py.File(\"Z:/AION/Data/2024/11/13/nb_0A_all_bias_0A/data_08_01_13_13_11_2024.h5\", 'r') as f:\n",
    "    # Load the 'parameters' dataset\n",
    "    parameters_data = f['parameters'][()]\n",
    "    \n",
    "    # Check the data type and content\n",
    "    if isinstance(parameters_data, bytes):  # Likely a JSON string if it's in bytes\n",
    "        parameters_dict = json.loads(parameters_data.decode('utf-8'))\n",
    "        print(\"Parameters data as dictionary:\", parameters_dict)\n",
    "    else:\n",
    "        print(\"Parameters data:\", parameters_data)"
   ]
  },
  {
   "cell_type": "code",
   "execution_count": 6,
   "metadata": {},
   "outputs": [
    {
     "name": "stdout",
     "output_type": "stream",
     "text": [
      "narrowband_fixed_phase_frequency: 346600000.0\n"
     ]
    }
   ],
   "source": [
    "# Assuming 'parameters_dict' is already loaded from the previous step\n",
    "narrowband_fixed_phase_frequency = parameters_dict['narrowband_fixed_phase_single']['narrowband_fixed_phase_frequency']\n",
    "print(\"narrowband_fixed_phase_frequency:\", narrowband_fixed_phase_frequency)\n"
   ]
  },
  {
   "cell_type": "code",
   "execution_count": 8,
   "metadata": {},
   "outputs": [
    {
     "name": "stdout",
     "output_type": "stream",
     "text": [
      "narrowband_fixed_phase_frequency: 346600000.0\n"
     ]
    }
   ],
   "source": [
    "import h5py\n",
    "import json\n",
    "\n",
    "def get_narrowband_fixed_phase_frequency(file_path):\n",
    "    \"\"\"\n",
    "    Extracts the 'narrowband_fixed_phase_frequency' parameter from the specified HDF5 file.\n",
    "\n",
    "    Parameters:\n",
    "        file_path (str): Path to the HDF5 file.\n",
    "\n",
    "    Returns:\n",
    "        float: The value of 'narrowband_fixed_phase_frequency', or None if not found.\n",
    "    \"\"\"\n",
    "    try:\n",
    "        with h5py.File(file_path, 'r') as f:\n",
    "            # Load the 'parameters' dataset\n",
    "            parameters_data = f['parameters'][()]\n",
    "            \n",
    "            # Decode if necessary\n",
    "            if isinstance(parameters_data, bytes):\n",
    "                parameters_dict = json.loads(parameters_data.decode('utf-8'))\n",
    "            else:\n",
    "                parameters_dict = parameters_data\n",
    "\n",
    "            # Access 'narrowband_fixed_phase_frequency'\n",
    "            return parameters_dict['narrowband_fixed_phase_single']['narrowband_fixed_phase_frequency']\n",
    "\n",
    "    except KeyError as e:\n",
    "        print(f\"KeyError: {e}. Please check the structure of the HDF5 file.\")\n",
    "        return None\n",
    "    except Exception as e:\n",
    "        print(f\"An error occurred: {e}\")\n",
    "        return None\n",
    "\n",
    "# Example usage\n",
    "file_path = \"Z:/AION/Data/2024/11/13/nb_0A_all_bias_0A/data_08_01_13_13_11_2024.h5\"  # Replace with your actual file path\n",
    "frequency = get_narrowband_fixed_phase_frequency(file_path)\n",
    "if frequency is not None:\n",
    "    print(\"narrowband_fixed_phase_frequency:\", frequency)"
   ]
  },
  {
   "cell_type": "code",
   "execution_count": null,
   "metadata": {},
   "outputs": [],
   "source": []
  }
 ],
 "metadata": {
  "kernelspec": {
   "display_name": "base",
   "language": "python",
   "name": "python3"
  },
  "language_info": {
   "codemirror_mode": {
    "name": "ipython",
    "version": 3
   },
   "file_extension": ".py",
   "mimetype": "text/x-python",
   "name": "python",
   "nbconvert_exporter": "python",
   "pygments_lexer": "ipython3",
   "version": "3.9.7"
  }
 },
 "nbformat": 4,
 "nbformat_minor": 2
}
