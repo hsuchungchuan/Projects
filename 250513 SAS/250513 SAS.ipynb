{
 "cells": [
  {
   "cell_type": "code",
   "execution_count": 4,
   "id": "c6bf7e67",
   "metadata": {},
   "outputs": [],
   "source": [
    "import pandas as pd\n",
    "import numpy as np\n",
    "import matplotlib.pyplot as plt"
   ]
  },
  {
   "cell_type": "code",
   "execution_count": 5,
   "id": "e36dafc2",
   "metadata": {},
   "outputs": [],
   "source": [
    "wm = pd.read_excel('wm.xlsx')"
   ]
  },
  {
   "cell_type": "code",
   "execution_count": 6,
   "id": "f8e3c0d4",
   "metadata": {},
   "outputs": [
    {
     "data": {
      "application/vnd.microsoft.datawrangler.viewer.v0+json": {
       "columns": [
        {
         "name": "index",
         "rawType": "int64",
         "type": "integer"
        },
        {
         "name": "1835812.971",
         "rawType": "float64",
         "type": "float"
        },
        {
         "name": "780.2463517",
         "rawType": "float64",
         "type": "float"
        },
        {
         "name": "Unnamed: 2",
         "rawType": "float64",
         "type": "float"
        },
        {
         "name": "nan",
         "rawType": "float64",
         "type": "float"
        }
       ],
       "conversionMethod": "pd.DataFrame",
       "ref": "e7839a6e-1bfb-47f5-bc31-465897922985",
       "rows": [
        [
         "0",
         "1835830.9931",
         null,
         "460.86182004",
         "650504.0013381448"
        ],
        [
         "1",
         "1835906.5454",
         "780.24635173",
         null,
         null
        ],
        [
         "2",
         "1835924.9153",
         null,
         "460.86181266",
         "650504.0117549757"
        ],
        [
         "3",
         "1836012.3078",
         "780.24635172",
         null,
         null
        ],
        [
         "4",
         "1836030.5189",
         null,
         "460.86180471",
         "650504.0229763588"
        ],
        [
         "5",
         "1836105.9014",
         "780.2463517",
         null,
         null
        ],
        [
         "6",
         "1836124.3662",
         null,
         "460.86179628",
         "650504.0348752597"
        ],
        [
         "7",
         "1836203.4576",
         "780.24635163",
         null,
         null
        ],
        [
         "8",
         "1836221.6033",
         null,
         "460.86178794",
         "650504.0466471268"
        ],
        [
         "9",
         "1836297.0749",
         "780.24635147",
         null,
         null
        ],
        [
         "10",
         "1836315.2063",
         null,
         "460.86178001",
         "650504.0578402812"
        ],
        [
         "11",
         "1836390.6628",
         "780.24635158",
         null,
         null
        ],
        [
         "12",
         "1836408.9709",
         null,
         "460.86177242",
         "650504.0685535277"
        ],
        [
         "13",
         "1836484.3006",
         "780.24635165",
         null,
         null
        ],
        [
         "14",
         "1836502.3618",
         null,
         "460.8617646",
         "650504.0795914185"
        ],
        [
         "15",
         "1836577.8434",
         "780.24635155",
         null,
         null
        ],
        [
         "16",
         "1836671.3938",
         "780.24635155",
         null,
         null
        ],
        [
         "17",
         "1836689.5495",
         null,
         "460.86175232",
         "650504.0969245777"
        ],
        [
         "18",
         "1836764.9981",
         "780.24635146",
         null,
         null
        ],
        [
         "19",
         "1836783.0951",
         null,
         "460.86174023",
         "650504.1139895536"
        ],
        [
         "20",
         "1836858.6583",
         "780.24635149",
         null,
         null
        ],
        [
         "21",
         "1836876.5928",
         null,
         "460.86173258",
         "650504.1247874917"
        ],
        [
         "22",
         "1836952.1754",
         "780.24635159",
         null,
         null
        ],
        [
         "23",
         "1836970.201",
         null,
         "460.86172488",
         "650504.135656005"
        ],
        [
         "24",
         "1837045.6622",
         "780.24635161",
         null,
         null
        ],
        [
         "25",
         "1837063.8596",
         null,
         "460.86171672",
         "650504.1471738064"
        ],
        [
         "26",
         "1837139.3754",
         "780.24635167",
         null,
         null
        ],
        [
         "27",
         "1837157.3876",
         null,
         "460.86170847",
         "650504.158818643"
        ],
        [
         "28",
         "1837232.8923",
         "780.24635165",
         null,
         null
        ],
        [
         "29",
         "1837250.9542",
         null,
         "460.86170043",
         "650504.1701670658"
        ],
        [
         "30",
         "1837326.4381",
         "780.2463515",
         null,
         null
        ],
        [
         "31",
         "1837344.8087",
         null,
         "460.86169235",
         "650504.1815719488"
        ],
        [
         "32",
         "1837420.0312",
         "780.24635146",
         null,
         null
        ],
        [
         "33",
         "1837438.1002",
         null,
         "460.86168433",
         "650504.1928921425"
        ],
        [
         "34",
         "1837513.6016",
         "780.24635166",
         null,
         null
        ],
        [
         "35",
         "1837531.6543",
         null,
         "460.86167606",
         "650504.2045652105"
        ],
        [
         "36",
         "1837607.1969",
         "780.24635172",
         null,
         null
        ],
        [
         "37",
         "1837625.459",
         null,
         "460.86166775",
         "650504.2162947387"
        ],
        [
         "38",
         "1837700.7499",
         "780.24635155",
         null,
         null
        ],
        [
         "39",
         "1837718.8568",
         null,
         "460.86165957",
         "650504.227840773"
        ],
        [
         "40",
         "1837794.3245",
         "780.2463515",
         null,
         null
        ],
        [
         "41",
         "1837812.3703",
         null,
         "460.86165162",
         "650504.2390621635"
        ],
        [
         "42",
         "1837888.0074",
         "780.24635151",
         null,
         null
        ],
        [
         "43",
         "1837905.9993",
         null,
         "460.86164323",
         "650504.2509046126"
        ],
        [
         "44",
         "1837981.5038",
         "780.24635163",
         null,
         null
        ],
        [
         "45",
         "1837999.5817",
         null,
         "460.86163493",
         "650504.2626200276"
        ],
        [
         "46",
         "1838075.1059",
         "780.24635157",
         null,
         null
        ],
        [
         "47",
         "1838093.1785",
         null,
         "460.86162699",
         "650504.2738273045"
        ],
        [
         "48",
         "1838168.5544",
         "780.24635157",
         null,
         null
        ],
        [
         "49",
         "1838186.7182",
         null,
         "460.86161885",
         "650504.2853168808"
        ]
       ],
       "shape": {
        "columns": 4,
        "rows": 8269
       }
      },
      "text/html": [
       "<div>\n",
       "<style scoped>\n",
       "    .dataframe tbody tr th:only-of-type {\n",
       "        vertical-align: middle;\n",
       "    }\n",
       "\n",
       "    .dataframe tbody tr th {\n",
       "        vertical-align: top;\n",
       "    }\n",
       "\n",
       "    .dataframe thead th {\n",
       "        text-align: right;\n",
       "    }\n",
       "</style>\n",
       "<table border=\"1\" class=\"dataframe\">\n",
       "  <thead>\n",
       "    <tr style=\"text-align: right;\">\n",
       "      <th></th>\n",
       "      <th>1835812.971</th>\n",
       "      <th>780.246352</th>\n",
       "      <th>Unnamed: 2</th>\n",
       "      <th>NaN</th>\n",
       "    </tr>\n",
       "  </thead>\n",
       "  <tbody>\n",
       "    <tr>\n",
       "      <th>0</th>\n",
       "      <td>1.835831e+06</td>\n",
       "      <td>NaN</td>\n",
       "      <td>460.861820</td>\n",
       "      <td>650504.001338</td>\n",
       "    </tr>\n",
       "    <tr>\n",
       "      <th>1</th>\n",
       "      <td>1.835907e+06</td>\n",
       "      <td>780.246352</td>\n",
       "      <td>NaN</td>\n",
       "      <td>NaN</td>\n",
       "    </tr>\n",
       "    <tr>\n",
       "      <th>2</th>\n",
       "      <td>1.835925e+06</td>\n",
       "      <td>NaN</td>\n",
       "      <td>460.861813</td>\n",
       "      <td>650504.011755</td>\n",
       "    </tr>\n",
       "    <tr>\n",
       "      <th>3</th>\n",
       "      <td>1.836012e+06</td>\n",
       "      <td>780.246352</td>\n",
       "      <td>NaN</td>\n",
       "      <td>NaN</td>\n",
       "    </tr>\n",
       "    <tr>\n",
       "      <th>4</th>\n",
       "      <td>1.836031e+06</td>\n",
       "      <td>NaN</td>\n",
       "      <td>460.861805</td>\n",
       "      <td>650504.022976</td>\n",
       "    </tr>\n",
       "    <tr>\n",
       "      <th>...</th>\n",
       "      <td>...</td>\n",
       "      <td>...</td>\n",
       "      <td>...</td>\n",
       "      <td>...</td>\n",
       "    </tr>\n",
       "    <tr>\n",
       "      <th>8264</th>\n",
       "      <td>2.226001e+06</td>\n",
       "      <td>NaN</td>\n",
       "      <td>460.862170</td>\n",
       "      <td>650503.507061</td>\n",
       "    </tr>\n",
       "    <tr>\n",
       "      <th>8265</th>\n",
       "      <td>2.226078e+06</td>\n",
       "      <td>780.246352</td>\n",
       "      <td>NaN</td>\n",
       "      <td>NaN</td>\n",
       "    </tr>\n",
       "    <tr>\n",
       "      <th>8266</th>\n",
       "      <td>2.226095e+06</td>\n",
       "      <td>NaN</td>\n",
       "      <td>460.862162</td>\n",
       "      <td>650503.519031</td>\n",
       "    </tr>\n",
       "    <tr>\n",
       "      <th>8267</th>\n",
       "      <td>2.226172e+06</td>\n",
       "      <td>780.246352</td>\n",
       "      <td>NaN</td>\n",
       "      <td>NaN</td>\n",
       "    </tr>\n",
       "    <tr>\n",
       "      <th>8268</th>\n",
       "      <td>2.226190e+06</td>\n",
       "      <td>NaN</td>\n",
       "      <td>460.862153</td>\n",
       "      <td>650503.531875</td>\n",
       "    </tr>\n",
       "  </tbody>\n",
       "</table>\n",
       "<p>8269 rows × 4 columns</p>\n",
       "</div>"
      ],
      "text/plain": [
       "       1835812.971  780.246352  Unnamed: 2            NaN\n",
       "0     1.835831e+06         NaN  460.861820  650504.001338\n",
       "1     1.835907e+06  780.246352         NaN            NaN\n",
       "2     1.835925e+06         NaN  460.861813  650504.011755\n",
       "3     1.836012e+06  780.246352         NaN            NaN\n",
       "4     1.836031e+06         NaN  460.861805  650504.022976\n",
       "...            ...         ...         ...            ...\n",
       "8264  2.226001e+06         NaN  460.862170  650503.507061\n",
       "8265  2.226078e+06  780.246352         NaN            NaN\n",
       "8266  2.226095e+06         NaN  460.862162  650503.519031\n",
       "8267  2.226172e+06  780.246352         NaN            NaN\n",
       "8268  2.226190e+06         NaN  460.862153  650503.531875\n",
       "\n",
       "[8269 rows x 4 columns]"
      ]
     },
     "execution_count": 6,
     "metadata": {},
     "output_type": "execute_result"
    }
   ],
   "source": [
    "wm"
   ]
  },
  {
   "cell_type": "code",
   "execution_count": 7,
   "id": "7e83e87b",
   "metadata": {},
   "outputs": [
    {
     "data": {
      "application/vnd.microsoft.datawrangler.viewer.v0+json": {
       "columns": [
        {
         "name": "index",
         "rawType": "int64",
         "type": "integer"
        },
        {
         "name": "1835812.971",
         "rawType": "float64",
         "type": "float"
        },
        {
         "name": "nan",
         "rawType": "float64",
         "type": "float"
        }
       ],
       "conversionMethod": "pd.DataFrame",
       "ref": "4091d091-1549-49f1-bf1f-db1a0497737a",
       "rows": [
        [
         "0",
         "1835830.9931",
         "650504.0013381448"
        ],
        [
         "2",
         "1835924.9153",
         "650504.0117549757"
        ],
        [
         "4",
         "1836030.5189",
         "650504.0229763588"
        ],
        [
         "6",
         "1836124.3662",
         "650504.0348752597"
        ],
        [
         "8",
         "1836221.6033",
         "650504.0466471268"
        ],
        [
         "10",
         "1836315.2063",
         "650504.0578402812"
        ],
        [
         "12",
         "1836408.9709",
         "650504.0685535277"
        ],
        [
         "14",
         "1836502.3618",
         "650504.0795914185"
        ],
        [
         "17",
         "1836689.5495",
         "650504.0969245777"
        ],
        [
         "19",
         "1836783.0951",
         "650504.1139895536"
        ],
        [
         "21",
         "1836876.5928",
         "650504.1247874917"
        ],
        [
         "23",
         "1836970.201",
         "650504.135656005"
        ],
        [
         "25",
         "1837063.8596",
         "650504.1471738064"
        ],
        [
         "27",
         "1837157.3876",
         "650504.158818643"
        ],
        [
         "29",
         "1837250.9542",
         "650504.1701670658"
        ],
        [
         "31",
         "1837344.8087",
         "650504.1815719488"
        ],
        [
         "33",
         "1837438.1002",
         "650504.1928921425"
        ],
        [
         "35",
         "1837531.6543",
         "650504.2045652105"
        ],
        [
         "37",
         "1837625.459",
         "650504.2162947387"
        ],
        [
         "39",
         "1837718.8568",
         "650504.227840773"
        ],
        [
         "41",
         "1837812.3703",
         "650504.2390621635"
        ],
        [
         "43",
         "1837905.9993",
         "650504.2509046126"
        ],
        [
         "45",
         "1837999.5817",
         "650504.2626200276"
        ],
        [
         "47",
         "1838093.1785",
         "650504.2738273045"
        ],
        [
         "49",
         "1838186.7182",
         "650504.2853168808"
        ],
        [
         "51",
         "1838280.2771",
         "650504.2966935381"
        ],
        [
         "53",
         "1838376.0801",
         "650504.3082113452"
        ],
        [
         "55",
         "1838467.5147",
         "650504.3197714976"
        ],
        [
         "57",
         "1838560.9877",
         "650504.330752937"
        ],
        [
         "59",
         "1838654.5867",
         "650504.3420307911"
        ],
        [
         "61",
         "1838748.1257",
         "650504.3531816108"
        ],
        [
         "63",
         "1838842.1686",
         "650504.3649252594"
        ],
        [
         "65",
         "1838935.2678",
         "650504.3767112532"
        ],
        [
         "67",
         "1839028.8317",
         "650504.3883984428"
        ],
        [
         "69",
         "1839122.5899",
         "650504.4000997477"
        ],
        [
         "71",
         "1839216.0087",
         "650504.4112787994"
        ],
        [
         "73",
         "1839309.6544",
         "650504.4226695759"
        ],
        [
         "75",
         "1839403.1432",
         "650504.4337639385"
        ],
        [
         "77",
         "1839496.8564",
         "650504.4450135662"
        ],
        [
         "79",
         "1839590.3607",
         "650504.4562208493"
        ],
        [
         "81",
         "1839683.8894",
         "650504.4679645016"
        ],
        [
         "83",
         "1839777.4649",
         "650504.4796375794"
        ],
        [
         "85",
         "1839871.1608",
         "650504.4918329115"
        ],
        [
         "87",
         "1839965.4086",
         "650504.5039435542"
        ],
        [
         "89",
         "1840058.9127",
         "650504.5153766789"
        ],
        [
         "91",
         "1840153.8934",
         "650504.527247368"
        ],
        [
         "93",
         "1840247.496",
         "650504.5390615977"
        ],
        [
         "95",
         "1840351.1306",
         "650504.5513275069"
        ],
        [
         "97",
         "1840437.1862",
         "650504.5630005877"
        ],
        [
         "99",
         "1840530.1364",
         "650504.5661482264"
        ]
       ],
       "shape": {
        "columns": 2,
        "rows": 4136
       }
      },
      "text/html": [
       "<div>\n",
       "<style scoped>\n",
       "    .dataframe tbody tr th:only-of-type {\n",
       "        vertical-align: middle;\n",
       "    }\n",
       "\n",
       "    .dataframe tbody tr th {\n",
       "        vertical-align: top;\n",
       "    }\n",
       "\n",
       "    .dataframe thead th {\n",
       "        text-align: right;\n",
       "    }\n",
       "</style>\n",
       "<table border=\"1\" class=\"dataframe\">\n",
       "  <thead>\n",
       "    <tr style=\"text-align: right;\">\n",
       "      <th></th>\n",
       "      <th>1835812.971</th>\n",
       "      <th>NaN</th>\n",
       "    </tr>\n",
       "  </thead>\n",
       "  <tbody>\n",
       "    <tr>\n",
       "      <th>0</th>\n",
       "      <td>1.835831e+06</td>\n",
       "      <td>650504.001338</td>\n",
       "    </tr>\n",
       "    <tr>\n",
       "      <th>2</th>\n",
       "      <td>1.835925e+06</td>\n",
       "      <td>650504.011755</td>\n",
       "    </tr>\n",
       "    <tr>\n",
       "      <th>4</th>\n",
       "      <td>1.836031e+06</td>\n",
       "      <td>650504.022976</td>\n",
       "    </tr>\n",
       "    <tr>\n",
       "      <th>6</th>\n",
       "      <td>1.836124e+06</td>\n",
       "      <td>650504.034875</td>\n",
       "    </tr>\n",
       "    <tr>\n",
       "      <th>8</th>\n",
       "      <td>1.836222e+06</td>\n",
       "      <td>650504.046647</td>\n",
       "    </tr>\n",
       "    <tr>\n",
       "      <th>...</th>\n",
       "      <td>...</td>\n",
       "      <td>...</td>\n",
       "    </tr>\n",
       "    <tr>\n",
       "      <th>8260</th>\n",
       "      <td>2.225812e+06</td>\n",
       "      <td>650503.482586</td>\n",
       "    </tr>\n",
       "    <tr>\n",
       "      <th>8262</th>\n",
       "      <td>2.225906e+06</td>\n",
       "      <td>650503.495304</td>\n",
       "    </tr>\n",
       "    <tr>\n",
       "      <th>8264</th>\n",
       "      <td>2.226001e+06</td>\n",
       "      <td>650503.507061</td>\n",
       "    </tr>\n",
       "    <tr>\n",
       "      <th>8266</th>\n",
       "      <td>2.226095e+06</td>\n",
       "      <td>650503.519031</td>\n",
       "    </tr>\n",
       "    <tr>\n",
       "      <th>8268</th>\n",
       "      <td>2.226190e+06</td>\n",
       "      <td>650503.531875</td>\n",
       "    </tr>\n",
       "  </tbody>\n",
       "</table>\n",
       "<p>4136 rows × 2 columns</p>\n",
       "</div>"
      ],
      "text/plain": [
       "       1835812.971            NaN\n",
       "0     1.835831e+06  650504.001338\n",
       "2     1.835925e+06  650504.011755\n",
       "4     1.836031e+06  650504.022976\n",
       "6     1.836124e+06  650504.034875\n",
       "8     1.836222e+06  650504.046647\n",
       "...            ...            ...\n",
       "8260  2.225812e+06  650503.482586\n",
       "8262  2.225906e+06  650503.495304\n",
       "8264  2.226001e+06  650503.507061\n",
       "8266  2.226095e+06  650503.519031\n",
       "8268  2.226190e+06  650503.531875\n",
       "\n",
       "[4136 rows x 2 columns]"
      ]
     },
     "execution_count": 7,
     "metadata": {},
     "output_type": "execute_result"
    }
   ],
   "source": [
    "# Extract the first and final columns, dropping rows where the final column is NaN\n",
    "first_col = wm.iloc[:, 0]\n",
    "final_col = wm.iloc[:, -1]\n",
    "filtered = wm[[wm.columns[0], wm.columns[-1]]].dropna(subset=[wm.columns[-1]])\n",
    "filtered"
   ]
  },
  {
   "cell_type": "code",
   "execution_count": 8,
   "id": "10896d62",
   "metadata": {},
   "outputs": [
    {
     "data": {
      "text/plain": [
       "<matplotlib.collections.PathCollection at 0x13a46e570>"
      ]
     },
     "execution_count": 8,
     "metadata": {},
     "output_type": "execute_result"
    },
    {
     "data": {
      "image/png": "[encoded data removed]",
      "text/plain": [
       "<Figure size 1200x600 with 1 Axes>"
      ]
     },
     "metadata": {},
     "output_type": "display_data"
    }
   ],
   "source": [
    "time = filtered.iloc[:, 0]\n",
    "frequency = filtered.iloc[:, -1]\n",
    "# Create a scatter plot of the data\n",
    "plt.figure(figsize=(12, 6))\n",
    "plt.scatter(time, frequency, color='blue', label='Data Points')"
   ]
  },
  {
   "cell_type": "code",
   "execution_count": 26,
   "id": "41e8b0bf",
   "metadata": {},
   "outputs": [],
   "source": [
    "csv1 = pd.read_csv('20240909rrrrrr-0002dedededede-0002dd_1.csv',header=1)\n",
    "csv2 = pd.read_csv('20240909rrrrrr-0002dedededede-0002dd_2.csv',header=1)\n",
    "csv3 = pd.read_csv('20240909rrrrrr-0002dedededede-0002dd_3.csv',header=1)"
   ]
  },
  {
   "cell_type": "code",
   "execution_count": 27,
   "id": "1d6bb12d",
   "metadata": {},
   "outputs": [
    {
     "data": {
      "application/vnd.microsoft.datawrangler.viewer.v0+json": {
       "columns": [
        {
         "name": "index",
         "rawType": "int64",
         "type": "integer"
        },
        {
         "name": "(s)",
         "rawType": "float64",
         "type": "float"
        },
        {
         "name": "(V)",
         "rawType": "float64",
         "type": "float"
        },
        {
         "name": "(mV)",
         "rawType": "float64",
         "type": "float"
        }
       ],
       "conversionMethod": "pd.DataFrame",
       "ref": "0b0393bb-5bf6-4a92-b094-cf2bb5338be0",
       "rows": [
        [
         "0",
         "0.0",
         "-0.4229865",
         "12.07617"
        ],
        [
         "1",
         "0.0005",
         "-0.4217658",
         "12.13416"
        ],
        [
         "2",
         "0.001",
         "-0.4229865",
         "13.00089"
        ],
        [
         "3",
         "0.0015",
         "-0.4217658",
         "12.48207"
        ],
        [
         "4",
         "0.002",
         "-0.4206061",
         "12.48207"
        ],
        [
         "5",
         "0.0025",
         "-0.4217658",
         "13.34574"
        ],
        [
         "6",
         "0.003",
         "-0.4217658",
         "14.21247"
        ],
        [
         "7",
         "0.0035",
         "-0.4229865",
         "11.3834"
        ],
        [
         "8",
         "0.004",
         "-0.4217658",
         "13.46171"
        ],
        [
         "9",
         "0.0045",
         "-0.4217658",
         "12.65297"
        ],
        [
         "10",
         "0.005",
         "-0.4217658",
         "11.2125"
        ],
        [
         "11",
         "0.0055",
         "-0.4217658",
         "10.34577"
        ],
        [
         "12",
         "0.006",
         "-0.4229865",
         "11.3834"
        ],
        [
         "13",
         "0.0065",
         "-0.4229865",
         "10.40376"
        ],
        [
         "14",
         "0.007",
         "-0.4217658",
         "11.84729"
        ],
        [
         "15",
         "0.0075",
         "-0.4217658",
         "12.59499"
        ],
        [
         "16",
         "0.008",
         "-0.4217658",
         "12.07617"
        ],
        [
         "17",
         "0.0085",
         "-0.4217658",
         "13.80657"
        ],
        [
         "18",
         "0.009",
         "-0.4217658",
         "10.6357"
        ],
        [
         "19",
         "0.0095",
         "-0.4206061",
         "13.11686"
        ],
        [
         "20",
         "0.01",
         "-0.4217658",
         "13.17179"
        ],
        [
         "21",
         "0.0105",
         "-0.4206061",
         "11.44139"
        ],
        [
         "22",
         "0.011",
         "-0.4206061",
         "11.90222"
        ],
        [
         "23",
         "0.0115",
         "-0.4217658",
         "11.90222"
        ],
        [
         "24",
         "0.012",
         "-0.4206061",
         "10.69063"
        ],
        [
         "25",
         "0.0125",
         "-0.4217658",
         "11.15452"
        ],
        [
         "26",
         "0.013",
         "-0.4217658",
         "10.05585"
        ],
        [
         "27",
         "0.0135",
         "-0.4217658",
         "12.71096"
        ],
        [
         "28",
         "0.014",
         "-0.4217658",
         "10.92257"
        ],
        [
         "29",
         "0.0145",
         "-0.4206061",
         "10.28779"
        ],
        [
         "30",
         "0.015",
         "-0.4217658",
         "9.018219"
        ],
        [
         "31",
         "0.0155",
         "-0.4217658",
         "12.13416"
        ],
        [
         "32",
         "0.016",
         "-0.4217658",
         "10.05585"
        ],
        [
         "33",
         "0.0165",
         "-0.4229865",
         "10.11383"
        ],
        [
         "34",
         "0.017",
         "-0.4206061",
         "11.90222"
        ],
        [
         "35",
         "0.0175",
         "-0.4206061",
         "12.01819"
        ],
        [
         "36",
         "0.018",
         "-0.4206061",
         "11.09653"
        ],
        [
         "37",
         "0.0185",
         "-0.4229865",
         "12.13416"
        ],
        [
         "38",
         "0.019",
         "-0.4217658",
         "11.2125"
        ],
        [
         "39",
         "0.0195",
         "-0.4217658",
         "11.03854"
        ],
        [
         "40",
         "0.02",
         "-0.4206061",
         "13.57768"
        ],
        [
         "41",
         "0.0205",
         "-0.4206061",
         "10.34577"
        ],
        [
         "42",
         "0.021",
         "-0.4194464",
         "14.03851"
        ],
        [
         "43",
         "0.0215",
         "-0.4217658",
         "13.63567"
        ],
        [
         "44",
         "0.022",
         "-0.4206061",
         "12.59499"
        ],
        [
         "45",
         "0.0225",
         "-0.4206061",
         "12.19214"
        ],
        [
         "46",
         "0.023",
         "-0.4206061",
         "13.75164"
        ],
        [
         "47",
         "0.0235",
         "-0.4217658",
         "10.40376"
        ],
        [
         "48",
         "0.024",
         "-0.4206061",
         "12.25013"
        ],
        [
         "49",
         "0.0245",
         "-0.4194464",
         "11.03854"
        ]
       ],
       "shape": {
        "columns": 3,
        "rows": 100004
       }
      },
      "text/html": [
       "<div>\n",
       "<style scoped>\n",
       "    .dataframe tbody tr th:only-of-type {\n",
       "        vertical-align: middle;\n",
       "    }\n",
       "\n",
       "    .dataframe tbody tr th {\n",
       "        vertical-align: top;\n",
       "    }\n",
       "\n",
       "    .dataframe thead th {\n",
       "        text-align: right;\n",
       "    }\n",
       "</style>\n",
       "<table border=\"1\" class=\"dataframe\">\n",
       "  <thead>\n",
       "    <tr style=\"text-align: right;\">\n",
       "      <th></th>\n",
       "      <th>(s)</th>\n",
       "      <th>(V)</th>\n",
       "      <th>(mV)</th>\n",
       "    </tr>\n",
       "  </thead>\n",
       "  <tbody>\n",
       "    <tr>\n",
       "      <th>0</th>\n",
       "      <td>0.000000</td>\n",
       "      <td>-0.422986</td>\n",
       "      <td>12.07617</td>\n",
       "    </tr>\n",
       "    <tr>\n",
       "      <th>1</th>\n",
       "      <td>0.000500</td>\n",
       "      <td>-0.421766</td>\n",
       "      <td>12.13416</td>\n",
       "    </tr>\n",
       "    <tr>\n",
       "      <th>2</th>\n",
       "      <td>0.001000</td>\n",
       "      <td>-0.422986</td>\n",
       "      <td>13.00089</td>\n",
       "    </tr>\n",
       "    <tr>\n",
       "      <th>3</th>\n",
       "      <td>0.001500</td>\n",
       "      <td>-0.421766</td>\n",
       "      <td>12.48207</td>\n",
       "    </tr>\n",
       "    <tr>\n",
       "      <th>4</th>\n",
       "      <td>0.002000</td>\n",
       "      <td>-0.420606</td>\n",
       "      <td>12.48207</td>\n",
       "    </tr>\n",
       "    <tr>\n",
       "      <th>...</th>\n",
       "      <td>...</td>\n",
       "      <td>...</td>\n",
       "      <td>...</td>\n",
       "    </tr>\n",
       "    <tr>\n",
       "      <th>99999</th>\n",
       "      <td>49.999502</td>\n",
       "      <td>0.038331</td>\n",
       "      <td>14.21247</td>\n",
       "    </tr>\n",
       "    <tr>\n",
       "      <th>100000</th>\n",
       "      <td>50.000002</td>\n",
       "      <td>0.037111</td>\n",
       "      <td>16.69362</td>\n",
       "    </tr>\n",
       "    <tr>\n",
       "      <th>100001</th>\n",
       "      <td>50.000502</td>\n",
       "      <td>0.038331</td>\n",
       "      <td>16.23280</td>\n",
       "    </tr>\n",
       "    <tr>\n",
       "      <th>100002</th>\n",
       "      <td>50.001002</td>\n",
       "      <td>0.037111</td>\n",
       "      <td>16.23280</td>\n",
       "    </tr>\n",
       "    <tr>\n",
       "      <th>100003</th>\n",
       "      <td>50.001502</td>\n",
       "      <td>0.037111</td>\n",
       "      <td>14.55733</td>\n",
       "    </tr>\n",
       "  </tbody>\n",
       "</table>\n",
       "<p>100004 rows × 3 columns</p>\n",
       "</div>"
      ],
      "text/plain": [
       "              (s)       (V)      (mV)\n",
       "0        0.000000 -0.422986  12.07617\n",
       "1        0.000500 -0.421766  12.13416\n",
       "2        0.001000 -0.422986  13.00089\n",
       "3        0.001500 -0.421766  12.48207\n",
       "4        0.002000 -0.420606  12.48207\n",
       "...           ...       ...       ...\n",
       "99999   49.999502  0.038331  14.21247\n",
       "100000  50.000002  0.037111  16.69362\n",
       "100001  50.000502  0.038331  16.23280\n",
       "100002  50.001002  0.037111  16.23280\n",
       "100003  50.001502  0.037111  14.55733\n",
       "\n",
       "[100004 rows x 3 columns]"
      ]
     },
     "execution_count": 27,
     "metadata": {},
     "output_type": "execute_result"
    }
   ],
   "source": [
    "csv1"
   ]
  },
  {
   "cell_type": "code",
   "execution_count": null,
   "id": "91565e66",
   "metadata": {},
   "outputs": [],
   "source": [
    "time_1 = csv1.iloc[:, 0].astype(float)\n",
    "channel_a_1 = csv1.iloc[:, 1].astype(float)\n",
    "channel_b_1 = csv1.iloc[:, 2].astype(float)"
   ]
  },
  {
   "cell_type": "code",
   "execution_count": 46,
   "id": "8826753d",
   "metadata": {},
   "outputs": [
    {
     "data": {
      "text/plain": [
       "([<matplotlib.axis.YTick at 0x169932060>,\n",
       "  <matplotlib.axis.YTick at 0x1492424b0>,\n",
       "  <matplotlib.axis.YTick at 0x1492e6870>,\n",
       "  <matplotlib.axis.YTick at 0x149354380>,\n",
       "  <matplotlib.axis.YTick at 0x149354c80>,\n",
       "  <matplotlib.axis.YTick at 0x149355670>,\n",
       "  <matplotlib.axis.YTick at 0x149331b50>,\n",
       "  <matplotlib.axis.YTick at 0x149354f50>,\n",
       "  <matplotlib.axis.YTick at 0x149356150>,\n",
       "  <matplotlib.axis.YTick at 0x149356810>],\n",
       " [Text(0, -12.21656, '−12.22'),\n",
       "  Text(0, -5.8049599999999995, '−5.80'),\n",
       "  Text(0, 0.6066400000000005, '0.61'),\n",
       "  Text(0, 7.0182400000000005, '7.02'),\n",
       "  Text(0, 13.42984, '13.43'),\n",
       "  Text(0, 19.84144, '19.84'),\n",
       "  Text(0, 26.25304, '26.25'),\n",
       "  Text(0, 32.66464, '32.66'),\n",
       "  Text(0, 39.07624, '39.08'),\n",
       "  Text(0, 45.48784, '45.49')])"
      ]
     },
     "execution_count": 46,
     "metadata": {},
     "output_type": "execute_result"
    },
    {
     "data": {
      "image/png": "[encoded data removed]",
      "text/plain": [
       "<Figure size 1200x600 with 1 Axes>"
      ]
     },
     "metadata": {},
     "output_type": "display_data"
    }
   ],
   "source": [
    "plt.figure(figsize=(12, 6))\n",
    "step = 1\n",
    "plt.plot(time_1[::step], channel_a_1[::step]*50+20, label='Scan', color='blue')\n",
    "plt.plot(time_1[::step], channel_b_1[::step], label='Photodiode', color='red')\n",
    "plt.legend()\n",
    "\n",
    "# Set fewer ticks\n",
    "max_xticks = 10\n",
    "max_yticks = 10\n",
    "plt.xticks(np.linspace(time_1.min(), time_1.max(), max_xticks))\n",
    "plt.yticks(np.linspace(min(channel_a_1.min(), channel_b_1.min()), \n",
    "                       max(channel_a_1.max(), channel_b_1.max()), max_yticks))"
   ]
  },
  {
   "cell_type": "code",
   "execution_count": null,
   "id": "0407ff2a",
   "metadata": {},
   "outputs": [],
   "source": []
  },
  {
   "cell_type": "code",
   "execution_count": null,
   "id": "e3782a97",
   "metadata": {},
   "outputs": [],
   "source": []
  },
  {
   "cell_type": "code",
   "execution_count": null,
   "id": "316eab0f",
   "metadata": {},
   "outputs": [],
   "source": []
  },
  {
   "cell_type": "code",
   "execution_count": null,
   "id": "88156507",
   "metadata": {},
   "outputs": [],
   "source": []
  },
  {
   "cell_type": "code",
   "execution_count": null,
   "id": "99ebcdb9",
   "metadata": {},
   "outputs": [],
   "source": []
  },
  {
   "cell_type": "code",
   "execution_count": null,
   "id": "ae22a067",
   "metadata": {},
   "outputs": [],
   "source": []
  },
  {
   "cell_type": "code",
   "execution_count": null,
   "id": "c03fcba4",
   "metadata": {},
   "outputs": [],
   "source": []
  },
  {
   "cell_type": "code",
   "execution_count": null,
   "id": "9ed5a1d7",
   "metadata": {},
   "outputs": [],
   "source": []
  },
  {
   "cell_type": "code",
   "execution_count": null,
   "id": "e8fada54",
   "metadata": {},
   "outputs": [],
   "source": []
  },
  {
   "cell_type": "code",
   "execution_count": null,
   "id": "941bc3e7",
   "metadata": {},
   "outputs": [],
   "source": []
  },
  {
   "cell_type": "code",
   "execution_count": null,
   "id": "9e5fd149",
   "metadata": {},
   "outputs": [],
   "source": []
  },
  {
   "cell_type": "code",
   "execution_count": null,
   "id": "bb69e654",
   "metadata": {},
   "outputs": [],
   "source": []
  }
 ],
 "metadata": {
  "kernelspec": {
   "display_name": "base",
   "language": "python",
   "name": "python3"
  },
  "language_info": {
   "codemirror_mode": {
    "name": "ipython",
    "version": 3
   },
   "file_extension": ".py",
   "mimetype": "text/x-python",
   "name": "python",
   "nbconvert_exporter": "python",
   "pygments_lexer": "ipython3",
   "version": "3.12.7"
  }
 },
 "nbformat": 4,
 "nbformat_minor": 5
}
