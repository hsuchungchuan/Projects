{
 "cells": [
  {
   "cell_type": "code",
   "execution_count": 1,
   "id": "49f6b3fc",
   "metadata": {},
   "outputs": [],
   "source": [
    "import pandas as pd\n",
    "import numpy as np\n",
    "import matplotlib.pyplot as plt\n",
    "import matplotlib as mpl\n",
    "import time as time"
   ]
  },
  {
   "cell_type": "code",
   "execution_count": 2,
   "id": "b58845d3",
   "metadata": {},
   "outputs": [],
   "source": [
    "plt.rcParams['text.usetex'] = True\n",
    "plt.rcParams['font.size'] = 18\n",
    "plt.rcParams['legend.fontsize'] = 18\n",
    "plt.rcParams['xtick.direction'] = 'out'\n",
    "plt.rcParams['ytick.direction'] = 'out'\n",
    "plt.rcParams['xtick.major.size'] = 5.0\n",
    "plt.rcParams['xtick.minor.size'] = 3.0\n",
    "plt.rcParams['ytick.major.size'] = 5.0\n",
    "plt.rcParams['ytick.minor.size'] = 3.0\n",
    "plt.rcParams['legend.handlelength'] = 1.0"
   ]
  },
  {
   "cell_type": "code",
   "execution_count": 3,
   "id": "c409488c",
   "metadata": {},
   "outputs": [],
   "source": [
    "filename = '19.10.2022, 15.53,  434.92596121 THz.xlsx'\n",
    "sheetname = '19.10.2022, 15.53,  434.9259612'\n",
    "row_start = 41\n",
    "row_end = 25245\n",
    "\n",
    "df = pd.read_excel(filename,sheet_name=sheetname,header=int(row_start)-2,nrows=int(row_end)-int(row_start)+1)"
   ]
  },
  {
   "cell_type": "code",
   "execution_count": 4,
   "id": "461a36c0",
   "metadata": {},
   "outputs": [
    {
     "data": {
      "application/vnd.microsoft.datawrangler.viewer.v0+json": {
       "columns": [
        {
         "name": "index",
         "rawType": "int64",
         "type": "integer"
        },
        {
         "name": "Time  [ms]",
         "rawType": "float64",
         "type": "float"
        },
        {
         "name": "Signal 7  Wavelength, vac.  [nm]",
         "rawType": "float64",
         "type": "float"
        },
        {
         "name": "Unnamed: 2",
         "rawType": "float64",
         "type": "float"
        },
        {
         "name": "Unnamed: 3",
         "rawType": "float64",
         "type": "float"
        },
        {
         "name": "Unnamed: 4",
         "rawType": "float64",
         "type": "float"
        }
       ],
       "conversionMethod": "pd.DataFrame",
       "ref": "f0f537bc-450c-4d5e-9a1c-11fa9279d04e",
       "rows": [
        [
         "0",
         "987.1927",
         "689.29562123",
         null,
         null,
         null
        ],
        [
         "1",
         "1974.1316",
         "689.2956219",
         null,
         null,
         null
        ],
        [
         "2",
         "2961.2186",
         "689.29562258",
         null,
         null,
         null
        ],
        [
         "3",
         "3948.3945",
         "689.29562257",
         null,
         null,
         null
        ],
        [
         "4",
         "4935.3762",
         "689.29562279",
         null,
         null,
         null
        ],
        [
         "5",
         "5922.5749",
         "689.29562394",
         null,
         null,
         null
        ],
        [
         "6",
         "6909.5752",
         "689.29562528",
         null,
         null,
         null
        ],
        [
         "7",
         "7896.6336",
         "689.29562687",
         null,
         null,
         null
        ],
        [
         "8",
         "8883.8332",
         "689.29562732",
         null,
         null,
         null
        ],
        [
         "9",
         "9870.8632",
         "689.29562837",
         null,
         null,
         null
        ],
        [
         "10",
         "10858.0795",
         "689.29562871",
         null,
         null,
         null
        ],
        [
         "11",
         "11845.0455",
         "689.29562939",
         null,
         null,
         null
        ],
        [
         "12",
         "12831.8988",
         "689.29562954",
         null,
         null,
         null
        ],
        [
         "13",
         "13819.026",
         "689.29562973",
         null,
         null,
         null
        ],
        [
         "14",
         "14806.1692",
         "689.29562958",
         null,
         null,
         null
        ],
        [
         "15",
         "15793.1535",
         "689.29563048",
         null,
         null,
         null
        ],
        [
         "16",
         "16780.451",
         "689.29563185",
         null,
         null,
         null
        ],
        [
         "17",
         "17767.4538",
         "689.29563288",
         null,
         null,
         null
        ],
        [
         "18",
         "18754.6035",
         "689.29563365",
         null,
         null,
         null
        ],
        [
         "19",
         "19741.5392",
         "689.29563535",
         null,
         null,
         null
        ],
        [
         "20",
         "20728.8495",
         "689.29563626",
         null,
         null,
         null
        ],
        [
         "21",
         "21715.6202",
         "689.29563794",
         null,
         null,
         null
        ],
        [
         "22",
         "22702.8316",
         "689.29563869",
         null,
         null,
         null
        ],
        [
         "23",
         "23689.8271",
         "689.2956392",
         null,
         null,
         null
        ],
        [
         "24",
         "24676.8696",
         "689.29563921",
         null,
         null,
         null
        ],
        [
         "25",
         "25663.9782",
         "689.29563973",
         null,
         null,
         null
        ],
        [
         "26",
         "26651.2027",
         "689.29563938",
         null,
         null,
         null
        ],
        [
         "27",
         "27638.3163",
         "689.29563913",
         null,
         null,
         null
        ],
        [
         "28",
         "28625.2034",
         "689.29563861",
         null,
         null,
         null
        ],
        [
         "29",
         "29612.3275",
         "689.29563726",
         null,
         null,
         null
        ],
        [
         "30",
         "30599.4534",
         "689.2956363",
         null,
         null,
         null
        ],
        [
         "31",
         "31586.582",
         "689.29563613",
         null,
         null,
         null
        ],
        [
         "32",
         "32573.6004",
         "689.29563605",
         null,
         null,
         null
        ],
        [
         "33",
         "33560.6111",
         "689.29563623",
         null,
         null,
         null
        ],
        [
         "34",
         "34547.6982",
         "689.29563576",
         null,
         null,
         null
        ],
        [
         "35",
         "35534.8317",
         "689.29563561",
         null,
         null,
         null
        ],
        [
         "36",
         "36521.8271",
         "689.29563564",
         null,
         null,
         null
        ],
        [
         "37",
         "37508.9546",
         "689.29563553",
         null,
         null,
         null
        ],
        [
         "38",
         "38496.1287",
         "689.29563585",
         null,
         null,
         null
        ],
        [
         "39",
         "39483.0734",
         "689.29563488",
         null,
         null,
         null
        ],
        [
         "40",
         "40470.3323",
         "689.29563514",
         null,
         null,
         null
        ],
        [
         "41",
         "41457.2809",
         "689.29563569",
         null,
         null,
         null
        ],
        [
         "42",
         "42444.421",
         "689.29563574",
         null,
         null,
         null
        ],
        [
         "43",
         "43431.2932",
         "689.29563633",
         null,
         null,
         null
        ],
        [
         "44",
         "44418.4757",
         "689.29563501",
         null,
         null,
         null
        ],
        [
         "45",
         "45405.4978",
         "689.29563639",
         null,
         null,
         null
        ],
        [
         "46",
         "46392.7029",
         "689.29563617",
         null,
         null,
         null
        ],
        [
         "47",
         "47379.7083",
         "689.29563411",
         null,
         null,
         null
        ],
        [
         "48",
         "48366.7276",
         "689.29563381",
         null,
         null,
         null
        ],
        [
         "49",
         "49353.7857",
         "689.29563255",
         null,
         null,
         null
        ]
       ],
       "shape": {
        "columns": 5,
        "rows": 25205
       }
      },
      "text/html": [
       "<div>\n",
       "<style scoped>\n",
       "    .dataframe tbody tr th:only-of-type {\n",
       "        vertical-align: middle;\n",
       "    }\n",
       "\n",
       "    .dataframe tbody tr th {\n",
       "        vertical-align: top;\n",
       "    }\n",
       "\n",
       "    .dataframe thead th {\n",
       "        text-align: right;\n",
       "    }\n",
       "</style>\n",
       "<table border=\"1\" class=\"dataframe\">\n",
       "  <thead>\n",
       "    <tr style=\"text-align: right;\">\n",
       "      <th></th>\n",
       "      <th>Time  [ms]</th>\n",
       "      <th>Signal 7  Wavelength, vac.  [nm]</th>\n",
       "      <th>Unnamed: 2</th>\n",
       "      <th>Unnamed: 3</th>\n",
       "      <th>Unnamed: 4</th>\n",
       "    </tr>\n",
       "  </thead>\n",
       "  <tbody>\n",
       "    <tr>\n",
       "      <th>0</th>\n",
       "      <td>9.871927e+02</td>\n",
       "      <td>689.295621</td>\n",
       "      <td>NaN</td>\n",
       "      <td>NaN</td>\n",
       "      <td>NaN</td>\n",
       "    </tr>\n",
       "    <tr>\n",
       "      <th>1</th>\n",
       "      <td>1.974132e+03</td>\n",
       "      <td>689.295622</td>\n",
       "      <td>NaN</td>\n",
       "      <td>NaN</td>\n",
       "      <td>NaN</td>\n",
       "    </tr>\n",
       "    <tr>\n",
       "      <th>2</th>\n",
       "      <td>2.961219e+03</td>\n",
       "      <td>689.295623</td>\n",
       "      <td>NaN</td>\n",
       "      <td>NaN</td>\n",
       "      <td>NaN</td>\n",
       "    </tr>\n",
       "    <tr>\n",
       "      <th>3</th>\n",
       "      <td>3.948394e+03</td>\n",
       "      <td>689.295623</td>\n",
       "      <td>NaN</td>\n",
       "      <td>NaN</td>\n",
       "      <td>NaN</td>\n",
       "    </tr>\n",
       "    <tr>\n",
       "      <th>4</th>\n",
       "      <td>4.935376e+03</td>\n",
       "      <td>689.295623</td>\n",
       "      <td>NaN</td>\n",
       "      <td>NaN</td>\n",
       "      <td>NaN</td>\n",
       "    </tr>\n",
       "    <tr>\n",
       "      <th>...</th>\n",
       "      <td>...</td>\n",
       "      <td>...</td>\n",
       "      <td>...</td>\n",
       "      <td>...</td>\n",
       "      <td>...</td>\n",
       "    </tr>\n",
       "    <tr>\n",
       "      <th>25200</th>\n",
       "      <td>9.738207e+06</td>\n",
       "      <td>689.295389</td>\n",
       "      <td>NaN</td>\n",
       "      <td>NaN</td>\n",
       "      <td>NaN</td>\n",
       "    </tr>\n",
       "    <tr>\n",
       "      <th>25201</th>\n",
       "      <td>9.738357e+06</td>\n",
       "      <td>689.295389</td>\n",
       "      <td>NaN</td>\n",
       "      <td>NaN</td>\n",
       "      <td>NaN</td>\n",
       "    </tr>\n",
       "    <tr>\n",
       "      <th>25202</th>\n",
       "      <td>9.738507e+06</td>\n",
       "      <td>689.295389</td>\n",
       "      <td>NaN</td>\n",
       "      <td>NaN</td>\n",
       "      <td>NaN</td>\n",
       "    </tr>\n",
       "    <tr>\n",
       "      <th>25203</th>\n",
       "      <td>9.738657e+06</td>\n",
       "      <td>689.295389</td>\n",
       "      <td>NaN</td>\n",
       "      <td>NaN</td>\n",
       "      <td>NaN</td>\n",
       "    </tr>\n",
       "    <tr>\n",
       "      <th>25204</th>\n",
       "      <td>9.738807e+06</td>\n",
       "      <td>689.295389</td>\n",
       "      <td>NaN</td>\n",
       "      <td>NaN</td>\n",
       "      <td>NaN</td>\n",
       "    </tr>\n",
       "  </tbody>\n",
       "</table>\n",
       "<p>25205 rows × 5 columns</p>\n",
       "</div>"
      ],
      "text/plain": [
       "         Time  [ms]  Signal 7  Wavelength, vac.  [nm]  Unnamed: 2  Unnamed: 3  \\\n",
       "0      9.871927e+02                        689.295621         NaN         NaN   \n",
       "1      1.974132e+03                        689.295622         NaN         NaN   \n",
       "2      2.961219e+03                        689.295623         NaN         NaN   \n",
       "3      3.948394e+03                        689.295623         NaN         NaN   \n",
       "4      4.935376e+03                        689.295623         NaN         NaN   \n",
       "...             ...                               ...         ...         ...   \n",
       "25200  9.738207e+06                        689.295389         NaN         NaN   \n",
       "25201  9.738357e+06                        689.295389         NaN         NaN   \n",
       "25202  9.738507e+06                        689.295389         NaN         NaN   \n",
       "25203  9.738657e+06                        689.295389         NaN         NaN   \n",
       "25204  9.738807e+06                        689.295389         NaN         NaN   \n",
       "\n",
       "       Unnamed: 4  \n",
       "0             NaN  \n",
       "1             NaN  \n",
       "2             NaN  \n",
       "3             NaN  \n",
       "4             NaN  \n",
       "...           ...  \n",
       "25200         NaN  \n",
       "25201         NaN  \n",
       "25202         NaN  \n",
       "25203         NaN  \n",
       "25204         NaN  \n",
       "\n",
       "[25205 rows x 5 columns]"
      ]
     },
     "execution_count": 4,
     "metadata": {},
     "output_type": "execute_result"
    }
   ],
   "source": [
    "df"
   ]
  },
  {
   "cell_type": "code",
   "execution_count": 5,
   "id": "8dfe0975",
   "metadata": {},
   "outputs": [
    {
     "data": {
      "application/vnd.microsoft.datawrangler.viewer.v0+json": {
       "columns": [
        {
         "name": "index",
         "rawType": "int64",
         "type": "integer"
        },
        {
         "name": "time / ms",
         "rawType": "float64",
         "type": "float"
        },
        {
         "name": "wavelength / nm",
         "rawType": "float64",
         "type": "float"
        },
        {
         "name": "a",
         "rawType": "float64",
         "type": "float"
        },
        {
         "name": "b",
         "rawType": "float64",
         "type": "float"
        },
        {
         "name": "c",
         "rawType": "float64",
         "type": "float"
        }
       ],
       "conversionMethod": "pd.DataFrame",
       "ref": "89c69f88-65be-4c04-ae64-81d59cca946b",
       "rows": [
        [
         "0",
         "987.1927",
         "689.29562123",
         null,
         null,
         null
        ],
        [
         "1",
         "1974.1316",
         "689.2956219",
         null,
         null,
         null
        ],
        [
         "2",
         "2961.2186",
         "689.29562258",
         null,
         null,
         null
        ],
        [
         "3",
         "3948.3945",
         "689.29562257",
         null,
         null,
         null
        ],
        [
         "4",
         "4935.3762",
         "689.29562279",
         null,
         null,
         null
        ],
        [
         "5",
         "5922.5749",
         "689.29562394",
         null,
         null,
         null
        ],
        [
         "6",
         "6909.5752",
         "689.29562528",
         null,
         null,
         null
        ],
        [
         "7",
         "7896.6336",
         "689.29562687",
         null,
         null,
         null
        ],
        [
         "8",
         "8883.8332",
         "689.29562732",
         null,
         null,
         null
        ],
        [
         "9",
         "9870.8632",
         "689.29562837",
         null,
         null,
         null
        ],
        [
         "10",
         "10858.0795",
         "689.29562871",
         null,
         null,
         null
        ],
        [
         "11",
         "11845.0455",
         "689.29562939",
         null,
         null,
         null
        ],
        [
         "12",
         "12831.8988",
         "689.29562954",
         null,
         null,
         null
        ],
        [
         "13",
         "13819.026",
         "689.29562973",
         null,
         null,
         null
        ],
        [
         "14",
         "14806.1692",
         "689.29562958",
         null,
         null,
         null
        ],
        [
         "15",
         "15793.1535",
         "689.29563048",
         null,
         null,
         null
        ],
        [
         "16",
         "16780.451",
         "689.29563185",
         null,
         null,
         null
        ],
        [
         "17",
         "17767.4538",
         "689.29563288",
         null,
         null,
         null
        ],
        [
         "18",
         "18754.6035",
         "689.29563365",
         null,
         null,
         null
        ],
        [
         "19",
         "19741.5392",
         "689.29563535",
         null,
         null,
         null
        ],
        [
         "20",
         "20728.8495",
         "689.29563626",
         null,
         null,
         null
        ],
        [
         "21",
         "21715.6202",
         "689.29563794",
         null,
         null,
         null
        ],
        [
         "22",
         "22702.8316",
         "689.29563869",
         null,
         null,
         null
        ],
        [
         "23",
         "23689.8271",
         "689.2956392",
         null,
         null,
         null
        ],
        [
         "24",
         "24676.8696",
         "689.29563921",
         null,
         null,
         null
        ],
        [
         "25",
         "25663.9782",
         "689.29563973",
         null,
         null,
         null
        ],
        [
         "26",
         "26651.2027",
         "689.29563938",
         null,
         null,
         null
        ],
        [
         "27",
         "27638.3163",
         "689.29563913",
         null,
         null,
         null
        ],
        [
         "28",
         "28625.2034",
         "689.29563861",
         null,
         null,
         null
        ],
        [
         "29",
         "29612.3275",
         "689.29563726",
         null,
         null,
         null
        ],
        [
         "30",
         "30599.4534",
         "689.2956363",
         null,
         null,
         null
        ],
        [
         "31",
         "31586.582",
         "689.29563613",
         null,
         null,
         null
        ],
        [
         "32",
         "32573.6004",
         "689.29563605",
         null,
         null,
         null
        ],
        [
         "33",
         "33560.6111",
         "689.29563623",
         null,
         null,
         null
        ],
        [
         "34",
         "34547.6982",
         "689.29563576",
         null,
         null,
         null
        ],
        [
         "35",
         "35534.8317",
         "689.29563561",
         null,
         null,
         null
        ],
        [
         "36",
         "36521.8271",
         "689.29563564",
         null,
         null,
         null
        ],
        [
         "37",
         "37508.9546",
         "689.29563553",
         null,
         null,
         null
        ],
        [
         "38",
         "38496.1287",
         "689.29563585",
         null,
         null,
         null
        ],
        [
         "39",
         "39483.0734",
         "689.29563488",
         null,
         null,
         null
        ],
        [
         "40",
         "40470.3323",
         "689.29563514",
         null,
         null,
         null
        ],
        [
         "41",
         "41457.2809",
         "689.29563569",
         null,
         null,
         null
        ],
        [
         "42",
         "42444.421",
         "689.29563574",
         null,
         null,
         null
        ],
        [
         "43",
         "43431.2932",
         "689.29563633",
         null,
         null,
         null
        ],
        [
         "44",
         "44418.4757",
         "689.29563501",
         null,
         null,
         null
        ],
        [
         "45",
         "45405.4978",
         "689.29563639",
         null,
         null,
         null
        ],
        [
         "46",
         "46392.7029",
         "689.29563617",
         null,
         null,
         null
        ],
        [
         "47",
         "47379.7083",
         "689.29563411",
         null,
         null,
         null
        ],
        [
         "48",
         "48366.7276",
         "689.29563381",
         null,
         null,
         null
        ],
        [
         "49",
         "49353.7857",
         "689.29563255",
         null,
         null,
         null
        ]
       ],
       "shape": {
        "columns": 5,
        "rows": 25205
       }
      },
      "text/html": [
       "<div>\n",
       "<style scoped>\n",
       "    .dataframe tbody tr th:only-of-type {\n",
       "        vertical-align: middle;\n",
       "    }\n",
       "\n",
       "    .dataframe tbody tr th {\n",
       "        vertical-align: top;\n",
       "    }\n",
       "\n",
       "    .dataframe thead th {\n",
       "        text-align: right;\n",
       "    }\n",
       "</style>\n",
       "<table border=\"1\" class=\"dataframe\">\n",
       "  <thead>\n",
       "    <tr style=\"text-align: right;\">\n",
       "      <th></th>\n",
       "      <th>time / ms</th>\n",
       "      <th>wavelength / nm</th>\n",
       "      <th>a</th>\n",
       "      <th>b</th>\n",
       "      <th>c</th>\n",
       "    </tr>\n",
       "  </thead>\n",
       "  <tbody>\n",
       "    <tr>\n",
       "      <th>0</th>\n",
       "      <td>9.871927e+02</td>\n",
       "      <td>689.295621</td>\n",
       "      <td>NaN</td>\n",
       "      <td>NaN</td>\n",
       "      <td>NaN</td>\n",
       "    </tr>\n",
       "    <tr>\n",
       "      <th>1</th>\n",
       "      <td>1.974132e+03</td>\n",
       "      <td>689.295622</td>\n",
       "      <td>NaN</td>\n",
       "      <td>NaN</td>\n",
       "      <td>NaN</td>\n",
       "    </tr>\n",
       "    <tr>\n",
       "      <th>2</th>\n",
       "      <td>2.961219e+03</td>\n",
       "      <td>689.295623</td>\n",
       "      <td>NaN</td>\n",
       "      <td>NaN</td>\n",
       "      <td>NaN</td>\n",
       "    </tr>\n",
       "    <tr>\n",
       "      <th>3</th>\n",
       "      <td>3.948394e+03</td>\n",
       "      <td>689.295623</td>\n",
       "      <td>NaN</td>\n",
       "      <td>NaN</td>\n",
       "      <td>NaN</td>\n",
       "    </tr>\n",
       "    <tr>\n",
       "      <th>4</th>\n",
       "      <td>4.935376e+03</td>\n",
       "      <td>689.295623</td>\n",
       "      <td>NaN</td>\n",
       "      <td>NaN</td>\n",
       "      <td>NaN</td>\n",
       "    </tr>\n",
       "    <tr>\n",
       "      <th>...</th>\n",
       "      <td>...</td>\n",
       "      <td>...</td>\n",
       "      <td>...</td>\n",
       "      <td>...</td>\n",
       "      <td>...</td>\n",
       "    </tr>\n",
       "    <tr>\n",
       "      <th>25200</th>\n",
       "      <td>9.738207e+06</td>\n",
       "      <td>689.295389</td>\n",
       "      <td>NaN</td>\n",
       "      <td>NaN</td>\n",
       "      <td>NaN</td>\n",
       "    </tr>\n",
       "    <tr>\n",
       "      <th>25201</th>\n",
       "      <td>9.738357e+06</td>\n",
       "      <td>689.295389</td>\n",
       "      <td>NaN</td>\n",
       "      <td>NaN</td>\n",
       "      <td>NaN</td>\n",
       "    </tr>\n",
       "    <tr>\n",
       "      <th>25202</th>\n",
       "      <td>9.738507e+06</td>\n",
       "      <td>689.295389</td>\n",
       "      <td>NaN</td>\n",
       "      <td>NaN</td>\n",
       "      <td>NaN</td>\n",
       "    </tr>\n",
       "    <tr>\n",
       "      <th>25203</th>\n",
       "      <td>9.738657e+06</td>\n",
       "      <td>689.295389</td>\n",
       "      <td>NaN</td>\n",
       "      <td>NaN</td>\n",
       "      <td>NaN</td>\n",
       "    </tr>\n",
       "    <tr>\n",
       "      <th>25204</th>\n",
       "      <td>9.738807e+06</td>\n",
       "      <td>689.295389</td>\n",
       "      <td>NaN</td>\n",
       "      <td>NaN</td>\n",
       "      <td>NaN</td>\n",
       "    </tr>\n",
       "  </tbody>\n",
       "</table>\n",
       "<p>25205 rows × 5 columns</p>\n",
       "</div>"
      ],
      "text/plain": [
       "          time / ms  wavelength / nm   a   b   c\n",
       "0      9.871927e+02       689.295621 NaN NaN NaN\n",
       "1      1.974132e+03       689.295622 NaN NaN NaN\n",
       "2      2.961219e+03       689.295623 NaN NaN NaN\n",
       "3      3.948394e+03       689.295623 NaN NaN NaN\n",
       "4      4.935376e+03       689.295623 NaN NaN NaN\n",
       "...             ...              ...  ..  ..  ..\n",
       "25200  9.738207e+06       689.295389 NaN NaN NaN\n",
       "25201  9.738357e+06       689.295389 NaN NaN NaN\n",
       "25202  9.738507e+06       689.295389 NaN NaN NaN\n",
       "25203  9.738657e+06       689.295389 NaN NaN NaN\n",
       "25204  9.738807e+06       689.295389 NaN NaN NaN\n",
       "\n",
       "[25205 rows x 5 columns]"
      ]
     },
     "execution_count": 5,
     "metadata": {},
     "output_type": "execute_result"
    }
   ],
   "source": [
    "## Change column name for df.plot\n",
    "\n",
    "df.columns = ['time / ms','wavelength / nm','a','b','c'] # rename ([] and _ cannot be processed by LaTeX weird.. space is ok)\n",
    "df"
   ]
  },
  {
   "cell_type": "markdown",
   "id": "c8139e24",
   "metadata": {},
   "source": [
    "## Using df.plot to plot"
   ]
  },
  {
   "cell_type": "code",
   "execution_count": 6,
   "id": "fec8b87a",
   "metadata": {},
   "outputs": [],
   "source": [
    "## Filter unwanted data\n",
    "\n",
    "# df = df[df[\"wavelength / nm\"] > 0] #filter out -3 in wavelength\n",
    "# df = df[df[\"wavelength / nm\"] > 689] #filter out in wavelength\n",
    "# df = df[df[\"wavelength / nm\"] < 689.65] #filter out in wavelength"
   ]
  },
  {
   "cell_type": "code",
   "execution_count": 7,
   "id": "d6c4dfb5",
   "metadata": {},
   "outputs": [],
   "source": [
    "## Convert ms to s\n",
    "\n",
    "df.iloc[:,0] = df.iloc[:,0]/1000 #convert ms to s\n",
    "\n",
    "## Rename again \n",
    "\n",
    "df.columns = ['time / s','wavelength / nm','a','b','c']"
   ]
  },
  {
   "cell_type": "code",
   "execution_count": 8,
   "id": "f07e1030",
   "metadata": {},
   "outputs": [
    {
     "data": {
      "application/vnd.microsoft.datawrangler.viewer.v0+json": {
       "columns": [
        {
         "name": "index",
         "rawType": "int64",
         "type": "integer"
        },
        {
         "name": "time / s",
         "rawType": "float64",
         "type": "float"
        },
        {
         "name": "wavelength / nm",
         "rawType": "float64",
         "type": "float"
        },
        {
         "name": "a",
         "rawType": "float64",
         "type": "float"
        },
        {
         "name": "b",
         "rawType": "float64",
         "type": "float"
        },
        {
         "name": "c",
         "rawType": "float64",
         "type": "float"
        }
       ],
       "conversionMethod": "pd.DataFrame",
       "ref": "45d344f7-9006-4a44-bb56-6bb9a76d988d",
       "rows": [
        [
         "0",
         "0.9871926999999999",
         "689.29562123",
         null,
         null,
         null
        ],
        [
         "1",
         "1.9741316",
         "689.2956219",
         null,
         null,
         null
        ],
        [
         "2",
         "2.9612186",
         "689.29562258",
         null,
         null,
         null
        ],
        [
         "3",
         "3.9483945",
         "689.29562257",
         null,
         null,
         null
        ],
        [
         "4",
         "4.935376199999999",
         "689.29562279",
         null,
         null,
         null
        ],
        [
         "5",
         "5.9225749",
         "689.29562394",
         null,
         null,
         null
        ],
        [
         "6",
         "6.9095752",
         "689.29562528",
         null,
         null,
         null
        ],
        [
         "7",
         "7.8966336",
         "689.29562687",
         null,
         null,
         null
        ],
        [
         "8",
         "8.8838332",
         "689.29562732",
         null,
         null,
         null
        ],
        [
         "9",
         "9.8708632",
         "689.29562837",
         null,
         null,
         null
        ],
        [
         "10",
         "10.8580795",
         "689.29562871",
         null,
         null,
         null
        ],
        [
         "11",
         "11.8450455",
         "689.29562939",
         null,
         null,
         null
        ],
        [
         "12",
         "12.831898800000001",
         "689.29562954",
         null,
         null,
         null
        ],
        [
         "13",
         "13.819026",
         "689.29562973",
         null,
         null,
         null
        ],
        [
         "14",
         "14.806169200000001",
         "689.29562958",
         null,
         null,
         null
        ],
        [
         "15",
         "15.7931535",
         "689.29563048",
         null,
         null,
         null
        ],
        [
         "16",
         "16.780451",
         "689.29563185",
         null,
         null,
         null
        ],
        [
         "17",
         "17.7674538",
         "689.29563288",
         null,
         null,
         null
        ],
        [
         "18",
         "18.7546035",
         "689.29563365",
         null,
         null,
         null
        ],
        [
         "19",
         "19.7415392",
         "689.29563535",
         null,
         null,
         null
        ],
        [
         "20",
         "20.7288495",
         "689.29563626",
         null,
         null,
         null
        ],
        [
         "21",
         "21.7156202",
         "689.29563794",
         null,
         null,
         null
        ],
        [
         "22",
         "22.7028316",
         "689.29563869",
         null,
         null,
         null
        ],
        [
         "23",
         "23.6898271",
         "689.2956392",
         null,
         null,
         null
        ],
        [
         "24",
         "24.676869600000003",
         "689.29563921",
         null,
         null,
         null
        ],
        [
         "25",
         "25.663978200000003",
         "689.29563973",
         null,
         null,
         null
        ],
        [
         "26",
         "26.651202700000002",
         "689.29563938",
         null,
         null,
         null
        ],
        [
         "27",
         "27.6383163",
         "689.29563913",
         null,
         null,
         null
        ],
        [
         "28",
         "28.6252034",
         "689.29563861",
         null,
         null,
         null
        ],
        [
         "29",
         "29.6123275",
         "689.29563726",
         null,
         null,
         null
        ],
        [
         "30",
         "30.599453399999998",
         "689.2956363",
         null,
         null,
         null
        ],
        [
         "31",
         "31.586582",
         "689.29563613",
         null,
         null,
         null
        ],
        [
         "32",
         "32.5736004",
         "689.29563605",
         null,
         null,
         null
        ],
        [
         "33",
         "33.5606111",
         "689.29563623",
         null,
         null,
         null
        ],
        [
         "34",
         "34.5476982",
         "689.29563576",
         null,
         null,
         null
        ],
        [
         "35",
         "35.534831700000005",
         "689.29563561",
         null,
         null,
         null
        ],
        [
         "36",
         "36.5218271",
         "689.29563564",
         null,
         null,
         null
        ],
        [
         "37",
         "37.508954599999996",
         "689.29563553",
         null,
         null,
         null
        ],
        [
         "38",
         "38.4961287",
         "689.29563585",
         null,
         null,
         null
        ],
        [
         "39",
         "39.4830734",
         "689.29563488",
         null,
         null,
         null
        ],
        [
         "40",
         "40.4703323",
         "689.29563514",
         null,
         null,
         null
        ],
        [
         "41",
         "41.4572809",
         "689.29563569",
         null,
         null,
         null
        ],
        [
         "42",
         "42.444421000000006",
         "689.29563574",
         null,
         null,
         null
        ],
        [
         "43",
         "43.4312932",
         "689.29563633",
         null,
         null,
         null
        ],
        [
         "44",
         "44.4184757",
         "689.29563501",
         null,
         null,
         null
        ],
        [
         "45",
         "45.4054978",
         "689.29563639",
         null,
         null,
         null
        ],
        [
         "46",
         "46.392702899999996",
         "689.29563617",
         null,
         null,
         null
        ],
        [
         "47",
         "47.3797083",
         "689.29563411",
         null,
         null,
         null
        ],
        [
         "48",
         "48.3667276",
         "689.29563381",
         null,
         null,
         null
        ],
        [
         "49",
         "49.3537857",
         "689.29563255",
         null,
         null,
         null
        ]
       ],
       "shape": {
        "columns": 5,
        "rows": 25205
       }
      },
      "text/html": [
       "<div>\n",
       "<style scoped>\n",
       "    .dataframe tbody tr th:only-of-type {\n",
       "        vertical-align: middle;\n",
       "    }\n",
       "\n",
       "    .dataframe tbody tr th {\n",
       "        vertical-align: top;\n",
       "    }\n",
       "\n",
       "    .dataframe thead th {\n",
       "        text-align: right;\n",
       "    }\n",
       "</style>\n",
       "<table border=\"1\" class=\"dataframe\">\n",
       "  <thead>\n",
       "    <tr style=\"text-align: right;\">\n",
       "      <th></th>\n",
       "      <th>time / s</th>\n",
       "      <th>wavelength / nm</th>\n",
       "      <th>a</th>\n",
       "      <th>b</th>\n",
       "      <th>c</th>\n",
       "    </tr>\n",
       "  </thead>\n",
       "  <tbody>\n",
       "    <tr>\n",
       "      <th>0</th>\n",
       "      <td>0.987193</td>\n",
       "      <td>689.295621</td>\n",
       "      <td>NaN</td>\n",
       "      <td>NaN</td>\n",
       "      <td>NaN</td>\n",
       "    </tr>\n",
       "    <tr>\n",
       "      <th>1</th>\n",
       "      <td>1.974132</td>\n",
       "      <td>689.295622</td>\n",
       "      <td>NaN</td>\n",
       "      <td>NaN</td>\n",
       "      <td>NaN</td>\n",
       "    </tr>\n",
       "    <tr>\n",
       "      <th>2</th>\n",
       "      <td>2.961219</td>\n",
       "      <td>689.295623</td>\n",
       "      <td>NaN</td>\n",
       "      <td>NaN</td>\n",
       "      <td>NaN</td>\n",
       "    </tr>\n",
       "    <tr>\n",
       "      <th>3</th>\n",
       "      <td>3.948395</td>\n",
       "      <td>689.295623</td>\n",
       "      <td>NaN</td>\n",
       "      <td>NaN</td>\n",
       "      <td>NaN</td>\n",
       "    </tr>\n",
       "    <tr>\n",
       "      <th>4</th>\n",
       "      <td>4.935376</td>\n",
       "      <td>689.295623</td>\n",
       "      <td>NaN</td>\n",
       "      <td>NaN</td>\n",
       "      <td>NaN</td>\n",
       "    </tr>\n",
       "    <tr>\n",
       "      <th>...</th>\n",
       "      <td>...</td>\n",
       "      <td>...</td>\n",
       "      <td>...</td>\n",
       "      <td>...</td>\n",
       "      <td>...</td>\n",
       "    </tr>\n",
       "    <tr>\n",
       "      <th>25200</th>\n",
       "      <td>9738.207062</td>\n",
       "      <td>689.295389</td>\n",
       "      <td>NaN</td>\n",
       "      <td>NaN</td>\n",
       "      <td>NaN</td>\n",
       "    </tr>\n",
       "    <tr>\n",
       "      <th>25201</th>\n",
       "      <td>9738.356888</td>\n",
       "      <td>689.295389</td>\n",
       "      <td>NaN</td>\n",
       "      <td>NaN</td>\n",
       "      <td>NaN</td>\n",
       "    </tr>\n",
       "    <tr>\n",
       "      <th>25202</th>\n",
       "      <td>9738.506963</td>\n",
       "      <td>689.295389</td>\n",
       "      <td>NaN</td>\n",
       "      <td>NaN</td>\n",
       "      <td>NaN</td>\n",
       "    </tr>\n",
       "    <tr>\n",
       "      <th>25203</th>\n",
       "      <td>9738.657191</td>\n",
       "      <td>689.295389</td>\n",
       "      <td>NaN</td>\n",
       "      <td>NaN</td>\n",
       "      <td>NaN</td>\n",
       "    </tr>\n",
       "    <tr>\n",
       "      <th>25204</th>\n",
       "      <td>9738.807286</td>\n",
       "      <td>689.295389</td>\n",
       "      <td>NaN</td>\n",
       "      <td>NaN</td>\n",
       "      <td>NaN</td>\n",
       "    </tr>\n",
       "  </tbody>\n",
       "</table>\n",
       "<p>25205 rows × 5 columns</p>\n",
       "</div>"
      ],
      "text/plain": [
       "          time / s  wavelength / nm   a   b   c\n",
       "0         0.987193       689.295621 NaN NaN NaN\n",
       "1         1.974132       689.295622 NaN NaN NaN\n",
       "2         2.961219       689.295623 NaN NaN NaN\n",
       "3         3.948395       689.295623 NaN NaN NaN\n",
       "4         4.935376       689.295623 NaN NaN NaN\n",
       "...            ...              ...  ..  ..  ..\n",
       "25200  9738.207062       689.295389 NaN NaN NaN\n",
       "25201  9738.356888       689.295389 NaN NaN NaN\n",
       "25202  9738.506963       689.295389 NaN NaN NaN\n",
       "25203  9738.657191       689.295389 NaN NaN NaN\n",
       "25204  9738.807286       689.295389 NaN NaN NaN\n",
       "\n",
       "[25205 rows x 5 columns]"
      ]
     },
     "execution_count": 8,
     "metadata": {},
     "output_type": "execute_result"
    }
   ],
   "source": [
    "df"
   ]
  },
  {
   "cell_type": "code",
   "execution_count": 9,
   "id": "424ac7fb",
   "metadata": {},
   "outputs": [
    {
     "data": {
      "image/png": "[encoded data removed]",
      "text/plain": [
       "<Figure size 900x600 with 1 Axes>"
      ]
     },
     "metadata": {},
     "output_type": "display_data"
    }
   ],
   "source": [
    "## Plot out\n",
    "\n",
    "df.plot(\"time / s\",\n",
    "        \"wavelength / nm\",\n",
    "        kind='scatter',\n",
    "        s=1,\n",
    "        figsize=(9,6),\n",
    "        xlabel='Time / s',\n",
    "        ylabel='Wavelength / nm',\n",
    "        title='221019 Long term wavelength drift with etalon lock')\n",
    "ax = plt.gca()\n",
    "ax.get_yaxis().get_major_formatter().set_useOffset(False)\n",
    "plt.annotate('Drift = 0.015MHz/s',xy=(0,689.29540))\n",
    "# plt.show()\n",
    "plt.savefig('221019 Long term wavelength drift with etalon lock'+'.png',bbox_inches='tight',dpi=300)"
   ]
  },
  {
   "cell_type": "markdown",
   "id": "3d2b5e33",
   "metadata": {},
   "source": [
    "## Wavelength drift calculation"
   ]
  },
  {
   "cell_type": "code",
   "execution_count": 10,
   "id": "5815c341",
   "metadata": {},
   "outputs": [],
   "source": [
    "t1 = df.iloc[0,0] #time\n",
    "t2 = df.iloc[-1,0]\n",
    "\n",
    "# convert from nm to Hz\n",
    "\n",
    "c = 299792458\n",
    "f1 = c/(df.iloc[0,1]*1e-9) #freq\n",
    "f2 = c/(df.iloc[-1,1]*1e-9)"
   ]
  },
  {
   "cell_type": "code",
   "execution_count": 11,
   "id": "442b2a22",
   "metadata": {},
   "outputs": [
    {
     "data": {
      "text/plain": [
       "-0.015041738817372786"
      ]
     },
     "execution_count": 11,
     "metadata": {},
     "output_type": "execute_result"
    }
   ],
   "source": [
    "drift_rate = (f1-f2)/(t2-t1)/1e6 #MHz/s\n",
    "drift_rate  #MHz/s"
   ]
  },
  {
   "cell_type": "code",
   "execution_count": null,
   "id": "4263912f",
   "metadata": {},
   "outputs": [],
   "source": []
  }
 ],
 "metadata": {
  "kernelspec": {
   "display_name": "base",
   "language": "python",
   "name": "python3"
  },
  "language_info": {
   "codemirror_mode": {
    "name": "ipython",
    "version": 3
   },
   "file_extension": ".py",
   "mimetype": "text/x-python",
   "name": "python",
   "nbconvert_exporter": "python",
   "pygments_lexer": "ipython3",
   "version": "3.12.7"
  }
 },
 "nbformat": 4,
 "nbformat_minor": 5
}
