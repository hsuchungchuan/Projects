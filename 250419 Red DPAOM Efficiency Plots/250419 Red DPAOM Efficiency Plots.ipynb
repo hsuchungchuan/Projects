{
 "cells": [
  {
   "cell_type": "code",
   "execution_count": null,
   "id": "672c2caf",
   "metadata": {},
   "outputs": [],
   "source": [
    "# copy paste this code to the beginning of your script to set the plotting style for a one column figure\n",
    "\n",
    "from matplotlib import pyplot as plt\n",
    "\n",
    "plt.rcParams.update({\n",
    "    \"text.usetex\": True,\n",
    "    \"font.family\": \"serif\",\n",
    "    \"font.serif\": [\"Computer Modern Roman\"],\n",
    "    \"figure.constrained_layout.use\": True\n",
    "})\n",
    "\n",
    "plt.rcParams[\"savefig.bbox\"] = None\n",
    "plt.rcParams[\"figure.figsize\"] = (5.9,3.0)  # (width, height) in inches, change height but not width\n",
    "plt.rcParams[\"figure.titlesize\"] = 10 # this is only for plt.suptitle, i set it to be the same as the rest\n",
    "\n",
    "plt.rcParams[\"axes.titlesize\"] = 10 # control title size\n",
    "plt.rcParams[\"axes.labelsize\"] = 10 # control x and y axis labels\n",
    "plt.rcParams[\"axes.labelpad\"] = 4.0 # distance between axis label and axis numbers\n",
    "plt.rcParams[\"xtick.labelsize\"] = 10 # independent control of xlabel fontsize\n",
    "plt.rcParams[\"ytick.labelsize\"] = 10 # independent control of ylabel fontsize\n",
    "\n",
    "plt.rcParams[\"legend.fontsize\"] = 7.5 # control legend size, I set it to be slightly smaller than title/axes label\n",
    "# plt.rcParams[\"legend.facecolor\"] = (0.9, 0.9, 0.9) # legend background color\n",
    "# plt.rcParams[\"legend.edgecolor\"] = (0, 0, 0) # legend border line color\n",
    "# plt.rcParams[\"legend.frameon\"] = True # whether or not to draw a border around legend\n",
    "# plt.rcParams[\"legend.framealpha\"] = 0.1 # legend background transparency\n",
    "plt.rcParams[\"legend.loc\"] = \"best\" # default legend location\n",
    "plt.rcParams[\"legend.handletextpad\"] = 0.8  # Horizontal space between legend point and text (default 0.8)\n",
    "plt.rcParams[\"legend.labelspacing\"] = 0.6  # Vertical space between legend entries (default 0.5)\n",
    "# plt.rcParams[\"legend.columnspacing\"] = 2.0  # Space between columns in multi-column legends\n",
    "# plt.rcParams[\"legend.borderpad\"] = 1.0  # Space between legend content and the box\n",
    "# plt.rcParams[\"legend.handlelength\"] = 2.0  # Length of legend marker lines\n",
    "\n",
    "plt.rcParams[\"lines.linewidth\"] = 1\n",
    "plt.rcParams[\"lines.markeredgewidth\"] = 1.5\n",
    "plt.rcParams[\"lines.markersize\"] = 6 #data point size\n",
    "plt.rcParams[\"lines.marker\"] = \"o\" # data point shape\n",
    "plt.rcParams[\"lines.linestyle\"] = \"-\" # data line style\n",
    "plt.rcParams[\"lines.markeredgecolor\"]= \"black\" # default color for lines and markers\n",
    "# CHOOSE NICE COLOR FROM \"dodgerblue\",\"mediumseagreen\",\"indianred\",\"mediumpurple\",\"slateblue\",\"darkorange\",\"peru\",\"goldenrod\"\n",
    "\n",
    "plt.rcParams[\"grid.linestyle\"] = \"--\"\n",
    "plt.rcParams['axes.grid'] = True\n",
    "# plt.rcParams[\"grid.linewidth\"] = 0.7\n",
    "\n",
    "# plt.rcParams[\"xtick.major.pad\"] = 4.0 # distance between xticks dashes and xaxis numbers\n",
    "# plt.rcParams[\"xtick.major.size\"] = 3.0\n",
    "# plt.rcParams[\"xtick.major.width\"] = 0.7\n",
    "# plt.rcParams[\"ytick.major.pad\"] = 4.0 # distance between yticks dashes and yaxis numbers\n",
    "# plt.rcParams[\"ytick.major.size\"] = 3.0\n",
    "# plt.rcParams[\"ytick.major.width\"] = 0.7"
   ]
  },
  {
   "cell_type": "code",
   "execution_count": 9,
   "id": "027c0fac",
   "metadata": {},
   "outputs": [],
   "source": [
    "import pandas as pd\n",
    "\n",
    "# extract the data from the csv file from row 60 onwards\n",
    "\n",
    "df = pd.read_excel(\"redDPAOM.xlsx\", sheet_name=\"Sheet1\", usecols=\"A:C\")"
   ]
  },
  {
   "cell_type": "code",
   "execution_count": 10,
   "id": "6bf5772d",
   "metadata": {},
   "outputs": [
    {
     "data": {
      "application/vnd.microsoft.datawrangler.viewer.v0+json": {
       "columns": [
        {
         "name": "index",
         "rawType": "int64",
         "type": "integer"
        },
        {
         "name": "Input frequency into ARTIQ",
         "rawType": "float64",
         "type": "float"
        },
        {
         "name": "Power",
         "rawType": "float64",
         "type": "float"
        },
        {
         "name": "Frequency Shift on Wavemeter / MHz",
         "rawType": "int64",
         "type": "integer"
        }
       ],
       "conversionMethod": "pd.DataFrame",
       "ref": "66b971a6-cfa4-4b7b-8dd0-b415b1e41fcb",
       "rows": [
        [
         "0",
         "338.5",
         "0.185",
         "-18"
        ],
        [
         "1",
         "339.0",
         "0.2",
         "-17"
        ],
        [
         "2",
         "339.5",
         "0.225",
         "-16"
        ],
        [
         "3",
         "340.0",
         "0.246",
         "-15"
        ],
        [
         "4",
         "340.5",
         "0.274",
         "-14"
        ],
        [
         "5",
         "341.0",
         "0.297",
         "-13"
        ],
        [
         "6",
         "341.5",
         "0.327",
         "-12"
        ],
        [
         "7",
         "342.0",
         "0.354",
         "-11"
        ],
        [
         "8",
         "342.5",
         "0.375",
         "-10"
        ],
        [
         "9",
         "343.0",
         "0.4",
         "-9"
        ],
        [
         "10",
         "343.5",
         "0.424",
         "-8"
        ],
        [
         "11",
         "344.0",
         "0.456",
         "-7"
        ],
        [
         "12",
         "344.5",
         "0.486",
         "-6"
        ],
        [
         "13",
         "345.0",
         "0.505",
         "-5"
        ],
        [
         "14",
         "345.5",
         "0.525",
         "-4"
        ],
        [
         "15",
         "346.0",
         "0.544",
         "-3"
        ],
        [
         "16",
         "346.5",
         "0.555",
         "-2"
        ],
        [
         "17",
         "347.0",
         "0.57",
         "-1"
        ],
        [
         "18",
         "347.5",
         "0.57",
         "0"
        ],
        [
         "19",
         "348.0",
         "0.574",
         "1"
        ],
        [
         "20",
         "348.5",
         "0.566",
         "2"
        ],
        [
         "21",
         "349.0",
         "0.562",
         "3"
        ],
        [
         "22",
         "349.5",
         "0.545",
         "4"
        ],
        [
         "23",
         "350.0",
         "0.525",
         "5"
        ],
        [
         "24",
         "350.5",
         "0.5",
         "6"
        ],
        [
         "25",
         "351.0",
         "0.47",
         "7"
        ],
        [
         "26",
         "352.0",
         "0.405",
         "9"
        ],
        [
         "27",
         "353.0",
         "0.35",
         "11"
        ],
        [
         "28",
         "353.5",
         "0.32",
         "12"
        ],
        [
         "29",
         "354.0",
         "0.287",
         "13"
        ],
        [
         "30",
         "354.5",
         "0.26",
         "14"
        ],
        [
         "31",
         "355.0",
         "0.23",
         "15"
        ]
       ],
       "shape": {
        "columns": 3,
        "rows": 32
       }
      },
      "text/html": [
       "<div>\n",
       "<style scoped>\n",
       "    .dataframe tbody tr th:only-of-type {\n",
       "        vertical-align: middle;\n",
       "    }\n",
       "\n",
       "    .dataframe tbody tr th {\n",
       "        vertical-align: top;\n",
       "    }\n",
       "\n",
       "    .dataframe thead th {\n",
       "        text-align: right;\n",
       "    }\n",
       "</style>\n",
       "<table border=\"1\" class=\"dataframe\">\n",
       "  <thead>\n",
       "    <tr style=\"text-align: right;\">\n",
       "      <th></th>\n",
       "      <th>Input frequency into ARTIQ</th>\n",
       "      <th>Power</th>\n",
       "      <th>Frequency Shift on Wavemeter / MHz</th>\n",
       "    </tr>\n",
       "  </thead>\n",
       "  <tbody>\n",
       "    <tr>\n",
       "      <th>0</th>\n",
       "      <td>338.5</td>\n",
       "      <td>0.185</td>\n",
       "      <td>-18</td>\n",
       "    </tr>\n",
       "    <tr>\n",
       "      <th>1</th>\n",
       "      <td>339.0</td>\n",
       "      <td>0.200</td>\n",
       "      <td>-17</td>\n",
       "    </tr>\n",
       "    <tr>\n",
       "      <th>2</th>\n",
       "      <td>339.5</td>\n",
       "      <td>0.225</td>\n",
       "      <td>-16</td>\n",
       "    </tr>\n",
       "    <tr>\n",
       "      <th>3</th>\n",
       "      <td>340.0</td>\n",
       "      <td>0.246</td>\n",
       "      <td>-15</td>\n",
       "    </tr>\n",
       "    <tr>\n",
       "      <th>4</th>\n",
       "      <td>340.5</td>\n",
       "      <td>0.274</td>\n",
       "      <td>-14</td>\n",
       "    </tr>\n",
       "    <tr>\n",
       "      <th>5</th>\n",
       "      <td>341.0</td>\n",
       "      <td>0.297</td>\n",
       "      <td>-13</td>\n",
       "    </tr>\n",
       "    <tr>\n",
       "      <th>6</th>\n",
       "      <td>341.5</td>\n",
       "      <td>0.327</td>\n",
       "      <td>-12</td>\n",
       "    </tr>\n",
       "    <tr>\n",
       "      <th>7</th>\n",
       "      <td>342.0</td>\n",
       "      <td>0.354</td>\n",
       "      <td>-11</td>\n",
       "    </tr>\n",
       "    <tr>\n",
       "      <th>8</th>\n",
       "      <td>342.5</td>\n",
       "      <td>0.375</td>\n",
       "      <td>-10</td>\n",
       "    </tr>\n",
       "    <tr>\n",
       "      <th>9</th>\n",
       "      <td>343.0</td>\n",
       "      <td>0.400</td>\n",
       "      <td>-9</td>\n",
       "    </tr>\n",
       "    <tr>\n",
       "      <th>10</th>\n",
       "      <td>343.5</td>\n",
       "      <td>0.424</td>\n",
       "      <td>-8</td>\n",
       "    </tr>\n",
       "    <tr>\n",
       "      <th>11</th>\n",
       "      <td>344.0</td>\n",
       "      <td>0.456</td>\n",
       "      <td>-7</td>\n",
       "    </tr>\n",
       "    <tr>\n",
       "      <th>12</th>\n",
       "      <td>344.5</td>\n",
       "      <td>0.486</td>\n",
       "      <td>-6</td>\n",
       "    </tr>\n",
       "    <tr>\n",
       "      <th>13</th>\n",
       "      <td>345.0</td>\n",
       "      <td>0.505</td>\n",
       "      <td>-5</td>\n",
       "    </tr>\n",
       "    <tr>\n",
       "      <th>14</th>\n",
       "      <td>345.5</td>\n",
       "      <td>0.525</td>\n",
       "      <td>-4</td>\n",
       "    </tr>\n",
       "    <tr>\n",
       "      <th>15</th>\n",
       "      <td>346.0</td>\n",
       "      <td>0.544</td>\n",
       "      <td>-3</td>\n",
       "    </tr>\n",
       "    <tr>\n",
       "      <th>16</th>\n",
       "      <td>346.5</td>\n",
       "      <td>0.555</td>\n",
       "      <td>-2</td>\n",
       "    </tr>\n",
       "    <tr>\n",
       "      <th>17</th>\n",
       "      <td>347.0</td>\n",
       "      <td>0.570</td>\n",
       "      <td>-1</td>\n",
       "    </tr>\n",
       "    <tr>\n",
       "      <th>18</th>\n",
       "      <td>347.5</td>\n",
       "      <td>0.570</td>\n",
       "      <td>0</td>\n",
       "    </tr>\n",
       "    <tr>\n",
       "      <th>19</th>\n",
       "      <td>348.0</td>\n",
       "      <td>0.574</td>\n",
       "      <td>1</td>\n",
       "    </tr>\n",
       "    <tr>\n",
       "      <th>20</th>\n",
       "      <td>348.5</td>\n",
       "      <td>0.566</td>\n",
       "      <td>2</td>\n",
       "    </tr>\n",
       "    <tr>\n",
       "      <th>21</th>\n",
       "      <td>349.0</td>\n",
       "      <td>0.562</td>\n",
       "      <td>3</td>\n",
       "    </tr>\n",
       "    <tr>\n",
       "      <th>22</th>\n",
       "      <td>349.5</td>\n",
       "      <td>0.545</td>\n",
       "      <td>4</td>\n",
       "    </tr>\n",
       "    <tr>\n",
       "      <th>23</th>\n",
       "      <td>350.0</td>\n",
       "      <td>0.525</td>\n",
       "      <td>5</td>\n",
       "    </tr>\n",
       "    <tr>\n",
       "      <th>24</th>\n",
       "      <td>350.5</td>\n",
       "      <td>0.500</td>\n",
       "      <td>6</td>\n",
       "    </tr>\n",
       "    <tr>\n",
       "      <th>25</th>\n",
       "      <td>351.0</td>\n",
       "      <td>0.470</td>\n",
       "      <td>7</td>\n",
       "    </tr>\n",
       "    <tr>\n",
       "      <th>26</th>\n",
       "      <td>352.0</td>\n",
       "      <td>0.405</td>\n",
       "      <td>9</td>\n",
       "    </tr>\n",
       "    <tr>\n",
       "      <th>27</th>\n",
       "      <td>353.0</td>\n",
       "      <td>0.350</td>\n",
       "      <td>11</td>\n",
       "    </tr>\n",
       "    <tr>\n",
       "      <th>28</th>\n",
       "      <td>353.5</td>\n",
       "      <td>0.320</td>\n",
       "      <td>12</td>\n",
       "    </tr>\n",
       "    <tr>\n",
       "      <th>29</th>\n",
       "      <td>354.0</td>\n",
       "      <td>0.287</td>\n",
       "      <td>13</td>\n",
       "    </tr>\n",
       "    <tr>\n",
       "      <th>30</th>\n",
       "      <td>354.5</td>\n",
       "      <td>0.260</td>\n",
       "      <td>14</td>\n",
       "    </tr>\n",
       "    <tr>\n",
       "      <th>31</th>\n",
       "      <td>355.0</td>\n",
       "      <td>0.230</td>\n",
       "      <td>15</td>\n",
       "    </tr>\n",
       "  </tbody>\n",
       "</table>\n",
       "</div>"
      ],
      "text/plain": [
       "    Input frequency into ARTIQ  Power  Frequency Shift on Wavemeter / MHz\n",
       "0                        338.5  0.185                                 -18\n",
       "1                        339.0  0.200                                 -17\n",
       "2                        339.5  0.225                                 -16\n",
       "3                        340.0  0.246                                 -15\n",
       "4                        340.5  0.274                                 -14\n",
       "5                        341.0  0.297                                 -13\n",
       "6                        341.5  0.327                                 -12\n",
       "7                        342.0  0.354                                 -11\n",
       "8                        342.5  0.375                                 -10\n",
       "9                        343.0  0.400                                  -9\n",
       "10                       343.5  0.424                                  -8\n",
       "11                       344.0  0.456                                  -7\n",
       "12                       344.5  0.486                                  -6\n",
       "13                       345.0  0.505                                  -5\n",
       "14                       345.5  0.525                                  -4\n",
       "15                       346.0  0.544                                  -3\n",
       "16                       346.5  0.555                                  -2\n",
       "17                       347.0  0.570                                  -1\n",
       "18                       347.5  0.570                                   0\n",
       "19                       348.0  0.574                                   1\n",
       "20                       348.5  0.566                                   2\n",
       "21                       349.0  0.562                                   3\n",
       "22                       349.5  0.545                                   4\n",
       "23                       350.0  0.525                                   5\n",
       "24                       350.5  0.500                                   6\n",
       "25                       351.0  0.470                                   7\n",
       "26                       352.0  0.405                                   9\n",
       "27                       353.0  0.350                                  11\n",
       "28                       353.5  0.320                                  12\n",
       "29                       354.0  0.287                                  13\n",
       "30                       354.5  0.260                                  14\n",
       "31                       355.0  0.230                                  15"
      ]
     },
     "execution_count": 10,
     "metadata": {},
     "output_type": "execute_result"
    }
   ],
   "source": [
    "df"
   ]
  },
  {
   "cell_type": "code",
   "execution_count": 48,
   "id": "daabb567",
   "metadata": {},
   "outputs": [
    {
     "data": {
      "image/png": "[encoded data removed]",
      "text/plain": [
       "<Figure size 590x300 with 1 Axes>"
      ]
     },
     "metadata": {},
     "output_type": "display_data"
    }
   ],
   "source": [
    "freq = df.iloc[:,0]\n",
    "power = df.iloc[:,1]\n",
    "\n",
    "import numpy as np\n",
    "\n",
    "plt.plot(freq, power, '-',color='black')  # connect points with a thin black line\n",
    "plt.plot(freq, power, 'o',color='dodgerblue')         # border thickness\n",
    "plt.ylabel(\"Red laser power (W)\")\n",
    "plt.xlabel(\"RF frequency driving the DPAOM (MHz)\")\n",
    "\n",
    "# annotate a double arrow from 345 to 350 MHz \n",
    "plt.annotate(\"\", xy=(345.25, 0.5), xytext=(350.25, 0.5),\n",
    "             arrowprops=dict(arrowstyle=\"<->\", lw=1.5),\n",
    "             fontsize=10, ha='center', va='center')\n",
    "plt.scatter(freq[18]+0.025, power[18], facecolors='none', edgecolors='r', s=150)\n",
    "plt.savefig(\"DPAOM freq shifts.pdf\",dpi=1200)"
   ]
  },
  {
   "cell_type": "code",
   "execution_count": null,
   "id": "ceadaab7",
   "metadata": {},
   "outputs": [],
   "source": []
  }
 ],
 "metadata": {
  "kernelspec": {
   "display_name": "base",
   "language": "python",
   "name": "python3"
  },
  "language_info": {
   "codemirror_mode": {
    "name": "ipython",
    "version": 3
   },
   "file_extension": ".py",
   "mimetype": "text/x-python",
   "name": "python",
   "nbconvert_exporter": "python",
   "pygments_lexer": "ipython3",
   "version": "3.12.7"
  }
 },
 "nbformat": 4,
 "nbformat_minor": 5
}
