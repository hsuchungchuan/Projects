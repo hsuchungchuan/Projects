{
 "cells": [
  {
   "cell_type": "code",
   "execution_count": 70,
   "id": "dae52eae",
   "metadata": {},
   "outputs": [],
   "source": [
    "import numpy as np\n",
    "import pandas as pd\n",
    "from scipy.optimize import curve_fit\n",
    "import matplotlib\n",
    "matplotlib.use('TkAgg')  # Set the interactive backend\n",
    "import matplotlib.pyplot as plt\n",
    "from scipy.signal import savgol_filter"
   ]
  },
  {
   "cell_type": "code",
   "execution_count": 71,
   "id": "13dca11d",
   "metadata": {},
   "outputs": [],
   "source": [
    "file_path = '/Volumes/MBQD_data/AION/Data/2025/06/10/mike thesis blue mot loading data'"
   ]
  },
  {
   "cell_type": "markdown",
   "id": "43ec1f2e",
   "metadata": {},
   "source": [
    "# Both repumps"
   ]
  },
  {
   "cell_type": "code",
   "execution_count": 72,
   "id": "0ea586c6",
   "metadata": {},
   "outputs": [],
   "source": [
    "df_both_repump = pd.read_csv(f'{file_path}/mike both repumps.csv', header=1)\n",
    "both_repump_t1 = 1.585 # region of interest left slice time stamp\n",
    "both_repump_t1_index = np.where(df_both_repump.iloc[:,0]<both_repump_t1)[0][-1]\n",
    "both_repump_t2 = 5.65 # region of interest right slice time stamp\n",
    "both_repump_t2_index = np.where(df_both_repump.iloc[:,0]<both_repump_t2)[0][-1]\n",
    "df_both_repump_slice = df_both_repump.iloc[both_repump_t1_index:both_repump_t2_index+1,:]\n",
    "plt.plot(df_both_repump_slice.iloc[:,0], df_both_repump_slice.iloc[:,1])\n",
    "plt.show()\n"
   ]
  },
  {
   "cell_type": "code",
   "execution_count": 97,
   "id": "c827ebd4",
   "metadata": {},
   "outputs": [],
   "source": [
    "smoothed_data_both_repump = savgol_filter(df_both_repump_slice.iloc[:,1], window_length=101, polyorder=3)\n",
    "plt.plot(df_both_repump_slice.iloc[:,0], df_both_repump_slice.iloc[:,1], label='Both repumps raw data')\n",
    "plt.plot(df_both_repump_slice.iloc[:,0], smoothed_data_both_repump, label='Both repumps smoothed data')\n",
    "plt.legend()\n",
    "plt.show()"
   ]
  },
  {
   "cell_type": "markdown",
   "id": "89610485",
   "metadata": {},
   "source": [
    "# 707 only"
   ]
  },
  {
   "cell_type": "code",
   "execution_count": 110,
   "id": "7bfdec33",
   "metadata": {},
   "outputs": [],
   "source": [
    "df_only_707 = pd.read_csv(f'{file_path}/take 2 mike only 707.csv', header=1)\n",
    "only_707_t1 = 3.865 # region of interest left slice time stamp\n",
    "only_707_t1_index = np.where(df_only_707.iloc[:,0]<only_707_t1)[0][-1]\n",
    "only_707_t2 = 8.85 # region of interest right slice time stamp\n",
    "only_707_t2_index = np.where(df_only_707.iloc[:,0]<only_707_t2)[0][-1]\n",
    "df_only_707_slice = df_only_707.iloc[only_707_t1_index:only_707_t2_index+1,:]\n",
    "plt.plot(df_only_707_slice.iloc[:,0], df_only_707_slice.iloc[:,1])\n",
    "plt.show()"
   ]
  },
  {
   "cell_type": "code",
   "execution_count": 113,
   "id": "14601e38",
   "metadata": {},
   "outputs": [],
   "source": [
    "smoothed_data_only_707_slice = savgol_filter(df_only_707_slice.iloc[:,1], window_length=101, polyorder=3)  # must be odd window_length\n",
    "plt.plot(df_only_707_slice.iloc[:,0], df_only_707_slice.iloc[:,1], label='Only 707 raw data')\n",
    "plt.plot(df_only_707_slice.iloc[:,0], smoothed_data_only_707_slice, '.',label='Only 707 smoothed data')\n",
    "plt.legend()\n",
    "plt.show()"
   ]
  },
  {
   "cell_type": "markdown",
   "id": "611b5113",
   "metadata": {},
   "source": [
    "# 679 only"
   ]
  },
  {
   "cell_type": "code",
   "execution_count": 80,
   "id": "0e1f81e4",
   "metadata": {},
   "outputs": [],
   "source": [
    "df_only_679 = pd.read_csv(f'{file_path}/mike only 679.csv', header=1)"
   ]
  },
  {
   "cell_type": "code",
   "execution_count": 81,
   "id": "f5cfe7b5",
   "metadata": {},
   "outputs": [],
   "source": [
    "plt.plot(df_only_679.iloc[:,0], df_only_679.iloc[:,1])\n",
    "plt.show()"
   ]
  },
  {
   "cell_type": "code",
   "execution_count": 82,
   "id": "cfa6f6af",
   "metadata": {},
   "outputs": [],
   "source": [
    "smoothed_data_only_679 = savgol_filter(df_only_679.iloc[:,1], window_length=101, polyorder=3)  # must be odd window_length\n",
    "plt.plot(df_only_679.iloc[:,0], df_only_679.iloc[:,1], label='Only 679 raw data')\n",
    "plt.plot(df_only_679.iloc[:,0], smoothed_data_only_679, label='Only 679 smoothed data')\n",
    "plt.show()"
   ]
  },
  {
   "cell_type": "code",
   "execution_count": 83,
   "id": "97a2c526",
   "metadata": {},
   "outputs": [],
   "source": [
    "only_679_t1 = 15.915\n",
    "only_679_t1_index = np.where(df_only_679.iloc[:,0]<only_679_t1)[0][-1]\n",
    "only_679_t2 = 19.24\n",
    "only_679_t2_index = np.where(df_only_679.iloc[:,0]<only_679_t2)[0][-1]\n",
    "smoothed_data_only_679_slice = smoothed_data_only_679[only_679_t1_index:only_679_t2_index+1]\n",
    "df_only_679_slice = df_only_679.iloc[only_679_t1_index:only_679_t2_index+1,:]\n",
    "plt.plot(df_only_679_slice.iloc[:,0], df_only_679_slice.iloc[:,1], label='Only 679 raw data')\n",
    "plt.plot(df_only_679_slice.iloc[:,0], smoothed_data_only_679_slice, label='Only 679 smoothed data')\n",
    "plt.legend()\n",
    "plt.show()"
   ]
  },
  {
   "cell_type": "code",
   "execution_count": null,
   "id": "1823a638",
   "metadata": {},
   "outputs": [],
   "source": [
    "# only_679_t1 = 15.915\n",
    "# only_679_t1_index = np.where(df_only_679.iloc[:,0]<only_679_t1)[0][-1]\n",
    "# only_679_t2 = 19.24\n",
    "# only_679_t2_index = np.where(df_only_679.iloc[:,0]<only_679_t2)[0][-1]\n",
    "# df_only_679_slice = df_only_679.iloc[only_679_t1_index:only_679_t2_index+1,:]\n",
    "# plt.plot(df_only_679_slice.iloc[:,0], df_only_679_slice.iloc[:,1])\n",
    "# plt.show()"
   ]
  },
  {
   "cell_type": "code",
   "execution_count": null,
   "id": "403edfc3",
   "metadata": {},
   "outputs": [],
   "source": [
    "# smoothed_data_only_679_slice = savgol_filter(df_only_679_slice.iloc[:,1], window_length=101, polyorder=3)  # must be odd window_length\n",
    "# plt.plot(df_only_679_slice.iloc[:,0], df_only_679_slice.iloc[:,1], label='Only 679 raw data')\n",
    "# plt.plot(df_only_679_slice.iloc[:,0], smoothed_data_only_679_slice, label='Only 679 smoothed data')\n",
    "# plt.legend()\n",
    "# plt.show()"
   ]
  },
  {
   "cell_type": "markdown",
   "id": "b389ed1a",
   "metadata": {},
   "source": [
    "# No repumps"
   ]
  },
  {
   "cell_type": "code",
   "execution_count": 86,
   "id": "dd17d8f5",
   "metadata": {},
   "outputs": [],
   "source": [
    "df_no_repumps = pd.read_csv(f'{file_path}/take 2 mike no repumps.csv', header=1)"
   ]
  },
  {
   "cell_type": "code",
   "execution_count": 88,
   "id": "e5dd9f8d",
   "metadata": {},
   "outputs": [],
   "source": [
    "plt.plot(df_no_repumps.iloc[:,0], df_no_repumps.iloc[:,1])\n",
    "plt.show()"
   ]
  },
  {
   "cell_type": "code",
   "execution_count": 89,
   "id": "bd192418",
   "metadata": {},
   "outputs": [],
   "source": [
    "smoothed_data_no_repumps = savgol_filter(df_no_repumps.iloc[:,1], window_length=101, polyorder=3)  # must be odd window_length\n",
    "plt.plot(df_no_repumps.iloc[:,0], df_no_repumps.iloc[:,1], label='No repumps raw data')\n",
    "plt.plot(df_no_repumps.iloc[:,0], smoothed_data_no_repumps, label='No repumps smoothed data')\n",
    "plt.legend()\n",
    "plt.show()"
   ]
  },
  {
   "cell_type": "code",
   "execution_count": 90,
   "id": "4f2c8661",
   "metadata": {},
   "outputs": [],
   "source": [
    "no_repump_t1 = 1.7\n",
    "no_repump_t1_index = np.where(df_no_repumps.iloc[:,0]<no_repump_t1)[0][-1]\n",
    "no_repump_t2 = 4.7\n",
    "no_repump_t2_index = np.where(df_no_repumps.iloc[:,0]<no_repump_t2)[0][-1]\n",
    "smoothed_data_no_repumps_slice = smoothed_data_no_repumps[no_repump_t1_index:no_repump_t2_index+1]\n",
    "df_no_repumps_slice = df_no_repumps.iloc[no_repump_t1_index:no_repump_t2_index+1,:]\n",
    "plt.plot(df_no_repumps_slice.iloc[:,0], df_no_repumps_slice.iloc[:,1], label='No repumps raw data')\n",
    "plt.plot(df_no_repumps_slice.iloc[:,0], smoothed_data_no_repumps_slice, label='No repumps smoothed data')\n",
    "plt.legend()\n",
    "plt.show()"
   ]
  },
  {
   "cell_type": "code",
   "execution_count": null,
   "id": "eccf63f7",
   "metadata": {},
   "outputs": [],
   "source": [
    "# no_repump_t1 = 1.7\n",
    "# no_repump_t1_index = np.where(df_no_repumps.iloc[:,0]<no_repump_t1)[0][-1]\n",
    "# no_repump_t2 = 4.7\n",
    "# no_repump_t2_index = np.where(df_no_repumps.iloc[:,0]<no_repump_t2)[0][-1]\n",
    "# df_no_repumps_slice = df_no_repumps.iloc[no_repump_t1_index:no_repump_t2_index+1,:]\n",
    "# plt.plot(df_no_repumps_slice.iloc[:,0], df_no_repumps_slice.iloc[:,1])\n",
    "# plt.show()"
   ]
  },
  {
   "cell_type": "code",
   "execution_count": null,
   "id": "9b153803",
   "metadata": {},
   "outputs": [],
   "source": [
    "# smoothed_data_no_repumps_slice = savgol_filter(df_no_repumps_slice.iloc[:,1], window_length=101, polyorder=3)  # must be odd window_length\n",
    "# plt.plot(df_no_repumps_slice.iloc[:,0], df_no_repumps_slice.iloc[:,1], label='No repumps raw data')\n",
    "# plt.plot(df_no_repumps_slice.iloc[:,0], smoothed_data_no_repumps_slice, label='No repumps smoothed data')\n",
    "# plt.legend()\n",
    "# plt.show()"
   ]
  },
  {
   "cell_type": "markdown",
   "id": "82387afa",
   "metadata": {},
   "source": [
    "# Combine all in one plot"
   ]
  },
  {
   "cell_type": "code",
   "execution_count": 123,
   "id": "6e93d02f",
   "metadata": {},
   "outputs": [],
   "source": [
    "both_repump_data = np.array(smoothed_data_both_repump)\n",
    "both_repump_time = np.array(df_both_repump_slice.iloc[:,0])\n",
    "only_707_data = np.array(smoothed_data_only_707_slice)\n",
    "only_707_time = np.array(df_only_707_slice.iloc[:,0])\n",
    "only_679_data = np.array(smoothed_data_only_679_slice)\n",
    "only_679_time = np.array(df_only_679_slice.iloc[:,0])\n",
    "no_repumps_data = np.array(smoothed_data_no_repumps_slice)\n",
    "no_repumps_time = np.array(df_no_repumps_slice.iloc[:,0])"
   ]
  },
  {
   "cell_type": "code",
   "execution_count": 128,
   "id": "2cfc9ab9",
   "metadata": {},
   "outputs": [],
   "source": [
    "plt.plot((both_repump_time-both_repump_time[0]), both_repump_data-both_repump_data[0], '.', label='Both repumps')\n",
    "plt.plot((only_707_time-only_707_time[0]), only_707_data-only_707_data[0], '.', label='Only 707')\n",
    "plt.plot((only_679_time-only_679_time[0]), only_679_data-only_679_data[0], '.', label='Only 679')\n",
    "plt.plot((no_repumps_time-no_repumps_time[0]), no_repumps_data-no_repumps_data[0], '.', label='No repumps')\n",
    "plt.xlabel('Time (s)')\n",
    "plt.ylabel('Vertical Photodiode Signal (V)')\n",
    "plt.title('Comparison of Different Repump Configurations')\n",
    "plt.legend()\n",
    "plt.show()"
   ]
  },
  {
   "cell_type": "code",
   "execution_count": 228,
   "id": "0eaedd83",
   "metadata": {},
   "outputs": [],
   "source": [
    "def loading_fit(t, a, tau):\n",
    "    \"\"\"\n",
    "    Exponential loading fit function.\n",
    "    Parameters:\n",
    "    t : array-like\n",
    "        Time data.\n",
    "    a : float\n",
    "        Amplitude of the exponential.\n",
    "    tau : float\n",
    "        Time constant of the exponential.\n",
    "    c : float\n",
    "        Offset of the exponential.\n",
    "    Returns:\n",
    "    array-like\n",
    "        Fitted values based on the exponential loading model.\n",
    "    \"\"\"\n",
    "    return a * (1 - np.exp(-t/tau))\n",
    "\n",
    "both_repump_fitting_data = np.array(both_repump_data - both_repump_data[0])[:10000]\n",
    "both_repump_fitting_time = np.array(both_repump_time - both_repump_time[0])[:10000]\n",
    "popt_both_repump, pcov_both_repump = curve_fit(loading_fit, both_repump_fitting_time, both_repump_fitting_data, p0=[1, 1],bounds=(0, [np.inf, np.inf]))\n",
    "plt.plot(both_repump_fitting_time, both_repump_fitting_data, '.', label='Both repumps data')\n",
    "plt.plot(both_repump_fitting_time, loading_fit(both_repump_fitting_time, *popt_both_repump), label='Both repumps fit')\n",
    "\n",
    "only_707_fitting_data = np.array(only_707_data - only_707_data[0])\n",
    "only_707_fitting_time = np.array(only_707_time - only_707_time[0])\n",
    "popt_only_707, pcov_only_707 = curve_fit(loading_fit, only_707_fitting_time, only_707_fitting_data, p0=[1,1],bounds=(0, [np.inf, np.inf]))\n",
    "plt.plot(only_707_fitting_time, only_707_fitting_data, '.', label='Only 707 data')\n",
    "plt.plot(only_707_fitting_time, loading_fit(only_707_fitting_time, *popt_only_707), label='Only 707 fit')\n",
    "\n",
    "only_679_fitting_data = np.array(only_679_data - only_679_data[0])\n",
    "only_679_fitting_time = np.array(only_679_time - only_679_time[0])\n",
    "popt_only_679, pcov_only_679 = curve_fit(loading_fit, only_679_fitting_time, only_679_fitting_data, p0=[1,1],bounds=(0, [np.inf, np.inf]))\n",
    "plt.plot(only_679_fitting_time, only_679_fitting_data, '.', label='Only 679 data')\n",
    "plt.plot(only_679_fitting_time, loading_fit(only_679_fitting_time, *popt_only_679), label='Only 679 fit')\n",
    "\n",
    "no_repumps_fitting_data = np.array(no_repumps_data - no_repumps_data[0])\n",
    "no_repumps_fitting_time = np.array(no_repumps_time - no_repumps_time[0])\n",
    "popt_no_repumps, pcov_no_repumps = curve_fit(loading_fit, no_repumps_fitting_time, no_repumps_fitting_data, p0=[1,1],bounds=(0, [np.inf, np.inf]))\n",
    "plt.plot(no_repumps_fitting_time, no_repumps_fitting_data, '.', label='No repumps data')\n",
    "plt.plot(no_repumps_fitting_time, loading_fit(no_repumps_fitting_time, *popt_no_repumps), label='No repumps fit')\n",
    "\n",
    "plt.xlabel('Time (s)')\n",
    "plt.ylabel('Vertical Photodiode Signal (V)')\n",
    "plt.title('Loading Fits for Different Repump Configurations')\n",
    "\n",
    "plt.legend()\n",
    "plt.show()"
   ]
  },
  {
   "cell_type": "code",
   "execution_count": 202,
   "id": "805ffce1",
   "metadata": {},
   "outputs": [
    {
     "name": "stdout",
     "output_type": "stream",
     "text": [
      "Tau values and uncertainties (in seconds):\n",
      "Both repumps:    tau = 0.177032 ± 0.000359\n",
      "Only 707:        tau = 0.024705 ± 0.000316\n",
      "Only 679:        tau = 0.009902 ± 0.000357\n",
      "No repumps:      tau = 0.013242 ± 0.000489\n"
     ]
    }
   ],
   "source": [
    "print(\"Tau values and uncertainties (in seconds):\")\n",
    "print(\"Both repumps:    tau = {:.6f} ± {:.6f}\".format(popt_both_repump[1], np.sqrt(pcov_both_repump[1,1])))\n",
    "print(\"Only 707:        tau = {:.6f} ± {:.6f}\".format(popt_only_707[1], np.sqrt(pcov_only_707[1,1])))\n",
    "print(\"Only 679:        tau = {:.6f} ± {:.6f}\".format(popt_only_679[1], np.sqrt(pcov_only_679[1,1])))\n",
    "print(\"No repumps:      tau = {:.6f} ± {:.6f}\".format(popt_no_repumps[1], np.sqrt(pcov_no_repumps[1,1])))"
   ]
  },
  {
   "cell_type": "markdown",
   "id": "bf11630b",
   "metadata": {},
   "source": [
    "# Now plot pretty"
   ]
  },
  {
   "cell_type": "code",
   "execution_count": 203,
   "id": "6d20f3fc",
   "metadata": {},
   "outputs": [],
   "source": [
    "# copy paste this code to the beginning of your script to set the plotting style for a one column figure\n",
    "\n",
    "from matplotlib import pyplot as plt\n",
    "\n",
    "plt.rcParams.update({\n",
    "    \"text.usetex\": True,\n",
    "    \"font.family\": \"serif\",\n",
    "    \"font.serif\": [\"Computer Modern Roman\"],\n",
    "    \"figure.constrained_layout.use\": True\n",
    "})\n",
    "\n",
    "plt.rcParams[\"savefig.bbox\"] = None\n",
    "plt.rcParams[\"figure.figsize\"] = (5.9,3.5)  # (width, height) in inches, change height but not width\n",
    "plt.rcParams[\"figure.titlesize\"] = 10 # this is only for plt.suptitle, i set it to be the same as the rest\n",
    "\n",
    "plt.rcParams[\"axes.titlesize\"] = 10 # control title size\n",
    "plt.rcParams[\"axes.labelsize\"] = 10 # control x and y axis labels\n",
    "plt.rcParams[\"axes.labelpad\"] = 4.0 # distance between axis label and axis numbers\n",
    "plt.rcParams[\"xtick.labelsize\"] = 10 # independent control of xlabel fontsize\n",
    "plt.rcParams[\"ytick.labelsize\"] = 10 # independent control of ylabel fontsize\n",
    "\n",
    "plt.rcParams[\"legend.fontsize\"] = 7.5 # control legend size, I set it to be slightly smaller than title/axes label\n",
    "# plt.rcParams[\"legend.facecolor\"] = (0.9, 0.9, 0.9) # legend background color\n",
    "# plt.rcParams[\"legend.edgecolor\"] = (0, 0, 0) # legend border line color\n",
    "# plt.rcParams[\"legend.frameon\"] = True # whether or not to draw a border around legend\n",
    "# plt.rcParams[\"legend.framealpha\"] = 0.1 # legend background transparency\n",
    "plt.rcParams[\"legend.loc\"] = \"best\" # default legend location\n",
    "plt.rcParams[\"legend.handletextpad\"] = 0.8  # Horizontal space between legend point and text (default 0.8)\n",
    "plt.rcParams[\"legend.labelspacing\"] = 0.6  # Vertical space between legend entries (default 0.5)\n",
    "# plt.rcParams[\"legend.columnspacing\"] = 2.0  # Space between columns in multi-column legends\n",
    "# plt.rcParams[\"legend.borderpad\"] = 1.0  # Space between legend content and the box\n",
    "# plt.rcParams[\"legend.handlelength\"] = 2.0  # Length of legend marker lines\n",
    "\n",
    "plt.rcParams[\"lines.linewidth\"] = 1\n",
    "plt.rcParams[\"lines.markersize\"] = 6 #data point size\n",
    "\n",
    "# CHOOSE NICE COLOR FOR DARK MARKER EDGEWIDTH FROM \"dodgerblue\",\"mediumseagreen\",\"crimson\",\"mediumpurple\",\"slateblue\",\"darkorange\",\"peru\",\"goldenrod\"\n",
    "# plt.rcParams[\"lines.linewidth\"] = 1\n",
    "# plt.rcParams[\"lines.markersize\"] = 6 #data point size\n",
    "# plt.rcParams[\"lines.markeredgewidth\"] = 1.5 # width of the edge of the marker\n",
    "# plt.rcParams[\"lines.markeredgecolor\"] = \"black\" # color of the edge of the marker\n",
    "# plt.rcParams[\"lines.markerfacecolor\"] = \"dodgerblue\" # color of the inside of the marker\n",
    "# plt.rcParams[\"lines.marker\"] = \"o\" # marker type, see https://matplotlib.org/stable/api/markers_api.html for all options\n",
    "# plt.rcParams[\"lines.color\"] = \"black\" # color of the line\n",
    "# # CHOOSE NICE COLOR FOR DARK MARKER EDGEWIDTH FROM \"dodgerblue\",\"mediumseagreen\",\"crimson\",\"mediumpurple\",\"slateblue\",\"darkorange\",\"peru\",\"goldenrod\"\n",
    "\n",
    "\n",
    "plt.rcParams[\"grid.linestyle\"] = \"--\"\n",
    "plt.rcParams['axes.grid'] = True\n",
    "# plt.rcParams[\"grid.linewidth\"] = 0.7\n",
    "\n",
    "# plt.rcParams[\"xtick.major.pad\"] = 4.0 # distance between xticks dashes and xaxis numbers\n",
    "# plt.rcParams[\"xtick.major.size\"] = 3.0\n",
    "# plt.rcParams[\"xtick.major.width\"] = 0.7\n",
    "# plt.rcParams[\"ytick.major.pad\"] = 4.0 # distance between yticks dashes and yaxis numbers\n",
    "# plt.rcParams[\"ytick.major.size\"] = 3.0\n",
    "# plt.rcParams[\"ytick.major.width\"] = 0.7"
   ]
  },
  {
   "cell_type": "code",
   "execution_count": 235,
   "id": "8b74a67b",
   "metadata": {},
   "outputs": [
    {
     "name": "stderr",
     "output_type": "stream",
     "text": [
      "<>:1: SyntaxWarning: invalid escape sequence '\\&'\n",
      "<>:1: SyntaxWarning: invalid escape sequence '\\&'\n",
      "/var/folders/4c/r3ydc0x11r9d96q94sm46lhr0000gq/T/ipykernel_85230/2458309064.py:1: SyntaxWarning: invalid escape sequence '\\&'\n",
      "  plt.plot(both_repump_fitting_time, both_repump_fitting_data, '.', markersize = 1, label='679 nm \\& 707 nm on, data')\n"
     ]
    }
   ],
   "source": [
    "plt.plot(both_repump_fitting_time, both_repump_fitting_data, '.', markersize = 1, label='679 nm \\& 707 nm on, data')\n",
    "plt.plot(both_repump_fitting_time, loading_fit(both_repump_fitting_time, *popt_both_repump), \n",
    "         linewidth=2,\n",
    "         label=r'679 nm \\& 707 nm on, fit $\\tau=$ {:.4f}({:.0f}) s'.format(popt_both_repump[1], 1e4*np.sqrt(pcov_both_repump[1,1])))\n",
    "\n",
    "plt.plot(only_707_fitting_time, only_707_fitting_data, '.', markersize = 1, label='707 nm on, data')\n",
    "plt.plot(only_707_fitting_time, loading_fit(only_707_fitting_time, *popt_only_707), \n",
    "         linewidth=2,\n",
    "         label=r'707 nm on, fit $\\tau=$ {:.4f}({:.0f}) s'.format(popt_only_707[1], 1e4*np.sqrt(pcov_only_707[1,1])))\n",
    "\n",
    "plt.plot(only_679_fitting_time, only_679_fitting_data, '.', markersize = 1, label='679 nm on, data')\n",
    "plt.plot(only_679_fitting_time, loading_fit(only_679_fitting_time, *popt_only_679), \n",
    "         linewidth=2,\n",
    "         label=r'679 nm on, fit $\\tau=$ {:.4f}({:.0f}) s'.format(popt_only_679[1], 1e4*np.sqrt(pcov_only_679[1,1])))\n",
    "\n",
    "plt.plot(no_repumps_fitting_time, no_repumps_fitting_data, '.', markersize = 1, label='No repumpers, data')\n",
    "plt.plot(no_repumps_fitting_time, loading_fit(no_repumps_fitting_time, *popt_no_repumps), \n",
    "         linewidth=2,\n",
    "         label=r'No repumpers, fit $\\tau=$ {:.4f}({:.0f}) s'.format(popt_no_repumps[1], 1e4*np.sqrt(pcov_no_repumps[1,1])))\n",
    "\n",
    "plt.xlabel('Time (s)')\n",
    "plt.ylabel('Vertical Photodiode Signal (V)')\n",
    "plt.title(r'Loading Fits for Different Repump Configurations, Fit Equation: $V(t) = V_0(1-e^{-t/\\tau})$')\n",
    "\n",
    "plt.xlim(0,1)\n",
    "plt.legend()\n",
    "\n",
    "plt.savefig(\"250610_LoadingCurves.pdf\",dpi=300)\n",
    "\n",
    "plt.show()"
   ]
  },
  {
   "cell_type": "code",
   "execution_count": null,
   "id": "098e117c",
   "metadata": {},
   "outputs": [],
   "source": []
  }
 ],
 "metadata": {
  "kernelspec": {
   "display_name": "base",
   "language": "python",
   "name": "python3"
  },
  "language_info": {
   "codemirror_mode": {
    "name": "ipython",
    "version": 3
   },
   "file_extension": ".py",
   "mimetype": "text/x-python",
   "name": "python",
   "nbconvert_exporter": "python",
   "pygments_lexer": "ipython3",
   "version": "3.12.7"
  }
 },
 "nbformat": 4,
 "nbformat_minor": 5
}
