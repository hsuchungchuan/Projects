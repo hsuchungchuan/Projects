{
 "cells": [
  {
   "cell_type": "code",
   "execution_count": 1,
   "id": "dae52eae",
   "metadata": {},
   "outputs": [],
   "source": [
    "import numpy as np\n",
    "import pandas as pd\n",
    "from scipy.optimize import curve_fit\n",
    "import matplotlib\n",
    "matplotlib.use('TkAgg')  # Set the interactive backend\n",
    "import matplotlib.pyplot as plt\n",
    "from scipy.signal import savgol_filter"
   ]
  },
  {
   "cell_type": "code",
   "execution_count": 2,
   "id": "13dca11d",
   "metadata": {},
   "outputs": [],
   "source": [
    "file_path = '/Volumes/MBQD_data/AION/Data/2025/06/10/mike thesis blue mot loading data'"
   ]
  },
  {
   "cell_type": "markdown",
   "id": "43ec1f2e",
   "metadata": {},
   "source": [
    "# Both repumps"
   ]
  },
  {
   "cell_type": "code",
   "execution_count": 22,
   "id": "0ea586c6",
   "metadata": {},
   "outputs": [],
   "source": [
    "df_both_repump = pd.read_csv(f'{file_path}/mike both repumps.csv', header=1)\n",
    "both_repump_t1 = 1.585 # region of interest left slice time stamp\n",
    "both_repump_t1_index = np.where(df_both_repump.iloc[:,0]<both_repump_t1)[0][-1]\n",
    "both_repump_t2 = 5.65 # region of interest right slice time stamp\n",
    "both_repump_t2_index = np.where(df_both_repump.iloc[:,0]<both_repump_t2)[0][-1]\n",
    "df_both_repump_slice = df_both_repump.iloc[both_repump_t1_index:both_repump_t2_index+1,:]\n",
    "plt.plot(df_both_repump_slice.iloc[:,0], df_both_repump_slice.iloc[:,1])\n",
    "plt.show()\n"
   ]
  },
  {
   "cell_type": "markdown",
   "id": "89610485",
   "metadata": {},
   "source": [
    "# 707 only"
   ]
  },
  {
   "cell_type": "code",
   "execution_count": 18,
   "id": "7bfdec33",
   "metadata": {},
   "outputs": [],
   "source": [
    "df_only_707 = pd.read_csv(f'{file_path}/take 2 mike only 707.csv', header=1)\n",
    "only_707_t1 = 3.862 # region of interest left slice time stamp\n",
    "only_707_t1_index = np.where(df_only_707.iloc[:,0]<only_707_t1)[0][-1]\n",
    "only_707_t2 = 8.85 # region of interest right slice time stamp\n",
    "only_707_t2_index = np.where(df_only_707.iloc[:,0]<only_707_t2)[0][-1]\n",
    "df_only_707_slice = df_only_707.iloc[only_707_t1_index:only_707_t2_index+1,:]\n",
    "plt.plot(df_only_707_slice.iloc[:,0], df_only_707_slice.iloc[:,1])\n",
    "plt.show()"
   ]
  },
  {
   "cell_type": "code",
   "execution_count": 19,
   "id": "14601e38",
   "metadata": {},
   "outputs": [],
   "source": [
    "smoothed_data_only_707_slice = savgol_filter(df_only_707_slice.iloc[:,1], window_length=21, polyorder=3)  # must be odd window_length\n",
    "plt.plot(df_only_707_slice.iloc[:,0], df_only_707_slice.iloc[:,1], label='Only 707 raw data')\n",
    "plt.plot(df_only_707_slice.iloc[:,0], smoothed_data_only_707_slice, label='Only 707 smoothed data')\n",
    "plt.legend()\n",
    "plt.show()"
   ]
  },
  {
   "cell_type": "markdown",
   "id": "611b5113",
   "metadata": {},
   "source": [
    "# 679 only"
   ]
  },
  {
   "cell_type": "code",
   "execution_count": 55,
   "id": "0e1f81e4",
   "metadata": {},
   "outputs": [],
   "source": [
    "df_only_679 = pd.read_csv(f'{file_path}/mike only 679.csv', header=1)"
   ]
  },
  {
   "cell_type": "code",
   "execution_count": 56,
   "id": "f5cfe7b5",
   "metadata": {},
   "outputs": [],
   "source": [
    "plt.plot(df_only_679.iloc[:,0], df_only_679.iloc[:,1])\n",
    "plt.show()"
   ]
  },
  {
   "cell_type": "code",
   "execution_count": 57,
   "id": "cfa6f6af",
   "metadata": {},
   "outputs": [],
   "source": [
    "smoothed_data_only_679 = savgol_filter(df_only_679.iloc[:,1], window_length=101, polyorder=3)  # must be odd window_length\n",
    "plt.plot(df_only_679.iloc[:,0], df_only_679.iloc[:,1], label='Only 679 raw data')\n",
    "plt.plot(df_only_679.iloc[:,0], smoothed_data_only_679, label='Only 679 smoothed data')\n",
    "plt.show()"
   ]
  },
  {
   "cell_type": "code",
   "execution_count": 68,
   "id": "97a2c526",
   "metadata": {},
   "outputs": [],
   "source": [
    "only_679_t1 = 15.915\n",
    "only_679_t1_index = np.where(df_only_679.iloc[:,0]<only_679_t1)[0][-1]\n",
    "only_679_t2 = 19.24\n",
    "only_679_t2_index = np.where(df_only_679.iloc[:,0]<only_679_t2)[0][-1]\n",
    "smoothed_data_only_679_slice = smoothed_data_only_679[only_679_t1_index:only_679_t2_index+1]\n",
    "df_only_679_slice = df_only_679.iloc[only_679_t1_index:only_679_t2_index+1,:]\n",
    "plt.plot(df_only_679_slice.iloc[:,0], df_only_679_slice.iloc[:,1], label='Only 679 raw data')\n",
    "plt.plot(df_only_679_slice.iloc[:,0], smoothed_data_only_679_slice, label='Only 679 smoothed data')\n",
    "plt.legend()\n",
    "plt.show()"
   ]
  },
  {
   "cell_type": "code",
   "execution_count": null,
   "id": "1823a638",
   "metadata": {},
   "outputs": [],
   "source": [
    "# only_679_t1 = 15.915\n",
    "# only_679_t1_index = np.where(df_only_679.iloc[:,0]<only_679_t1)[0][-1]\n",
    "# only_679_t2 = 19.24\n",
    "# only_679_t2_index = np.where(df_only_679.iloc[:,0]<only_679_t2)[0][-1]\n",
    "# df_only_679_slice = df_only_679.iloc[only_679_t1_index:only_679_t2_index+1,:]\n",
    "# plt.plot(df_only_679_slice.iloc[:,0], df_only_679_slice.iloc[:,1])\n",
    "# plt.show()"
   ]
  },
  {
   "cell_type": "code",
   "execution_count": null,
   "id": "403edfc3",
   "metadata": {},
   "outputs": [],
   "source": [
    "# smoothed_data_only_679_slice = savgol_filter(df_only_679_slice.iloc[:,1], window_length=101, polyorder=3)  # must be odd window_length\n",
    "# plt.plot(df_only_679_slice.iloc[:,0], df_only_679_slice.iloc[:,1], label='Only 679 raw data')\n",
    "# plt.plot(df_only_679_slice.iloc[:,0], smoothed_data_only_679_slice, label='Only 679 smoothed data')\n",
    "# plt.legend()\n",
    "# plt.show()"
   ]
  },
  {
   "cell_type": "markdown",
   "id": "b389ed1a",
   "metadata": {},
   "source": [
    "# No repumps"
   ]
  },
  {
   "cell_type": "code",
   "execution_count": 63,
   "id": "dd17d8f5",
   "metadata": {},
   "outputs": [],
   "source": [
    "df_no_repumps = pd.read_csv(f'{file_path}/take 2 mike no repumps.csv', header=1)"
   ]
  },
  {
   "cell_type": "code",
   "execution_count": 64,
   "id": "e5dd9f8d",
   "metadata": {},
   "outputs": [],
   "source": [
    "plt.plot(df_no_repumps.iloc[:,0], df_no_repumps.iloc[:,1])\n",
    "plt.show()"
   ]
  },
  {
   "cell_type": "code",
   "execution_count": 65,
   "id": "bd192418",
   "metadata": {},
   "outputs": [],
   "source": [
    "smoothed_data_no_repumps = savgol_filter(df_no_repumps.iloc[:,1], window_length=101, polyorder=3)  # must be odd window_length\n",
    "plt.plot(df_no_repumps.iloc[:,0], df_no_repumps.iloc[:,1], label='No repumps raw data')\n",
    "plt.plot(df_no_repumps.iloc[:,0], smoothed_data_no_repumps, label='No repumps smoothed data')\n",
    "plt.legend()\n",
    "plt.show()"
   ]
  },
  {
   "cell_type": "code",
   "execution_count": 69,
   "id": "4f2c8661",
   "metadata": {},
   "outputs": [],
   "source": [
    "no_repump_t1 = 1.7\n",
    "no_repump_t1_index = np.where(df_no_repumps.iloc[:,0]<no_repump_t1)[0][-1]\n",
    "no_repump_t2 = 4.7\n",
    "no_repump_t2_index = np.where(df_no_repumps.iloc[:,0]<no_repump_t2)[0][-1]\n",
    "smoothed_data_no_repumps_slice = smoothed_data_no_repumps[no_repump_t1_index:no_repump_t2_index+1]\n",
    "df_no_repumps_slice = df_no_repumps.iloc[no_repump_t1_index:no_repump_t2_index+1,:]\n",
    "plt.plot(df_no_repumps_slice.iloc[:,0], df_no_repumps_slice.iloc[:,1], label='No repumps raw data')\n",
    "plt.plot(df_no_repumps_slice.iloc[:,0], smoothed_data_no_repumps_slice, label='No repumps smoothed data')\n",
    "plt.legend()\n",
    "plt.show()"
   ]
  },
  {
   "cell_type": "code",
   "execution_count": null,
   "id": "eccf63f7",
   "metadata": {},
   "outputs": [],
   "source": [
    "# no_repump_t1 = 1.7\n",
    "# no_repump_t1_index = np.where(df_no_repumps.iloc[:,0]<no_repump_t1)[0][-1]\n",
    "# no_repump_t2 = 4.7\n",
    "# no_repump_t2_index = np.where(df_no_repumps.iloc[:,0]<no_repump_t2)[0][-1]\n",
    "# df_no_repumps_slice = df_no_repumps.iloc[no_repump_t1_index:no_repump_t2_index+1,:]\n",
    "# plt.plot(df_no_repumps_slice.iloc[:,0], df_no_repumps_slice.iloc[:,1])\n",
    "# plt.show()"
   ]
  },
  {
   "cell_type": "code",
   "execution_count": null,
   "id": "9b153803",
   "metadata": {},
   "outputs": [],
   "source": [
    "# smoothed_data_no_repumps_slice = savgol_filter(df_no_repumps_slice.iloc[:,1], window_length=101, polyorder=3)  # must be odd window_length\n",
    "# plt.plot(df_no_repumps_slice.iloc[:,0], df_no_repumps_slice.iloc[:,1], label='No repumps raw data')\n",
    "# plt.plot(df_no_repumps_slice.iloc[:,0], smoothed_data_no_repumps_slice, label='No repumps smoothed data')\n",
    "# plt.legend()\n",
    "# plt.show()"
   ]
  },
  {
   "cell_type": "code",
   "execution_count": null,
   "id": "6e93d02f",
   "metadata": {},
   "outputs": [],
   "source": []
  }
 ],
 "metadata": {
  "kernelspec": {
   "display_name": "base",
   "language": "python",
   "name": "python3"
  },
  "language_info": {
   "codemirror_mode": {
    "name": "ipython",
    "version": 3
   },
   "file_extension": ".py",
   "mimetype": "text/x-python",
   "name": "python",
   "nbconvert_exporter": "python",
   "pygments_lexer": "ipython3",
   "version": "3.12.7"
  }
 },
 "nbformat": 4,
 "nbformat_minor": 5
}
