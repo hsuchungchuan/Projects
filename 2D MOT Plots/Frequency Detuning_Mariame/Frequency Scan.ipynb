{
 "cells": [
  {
   "cell_type": "code",
   "execution_count": 1,
   "id": "e7e8489b",
   "metadata": {},
   "outputs": [],
   "source": [
    "import numpy as np \n",
    "from matplotlib import pyplot as plt\n",
    "from PIL import Image\n",
    "import os"
   ]
  },
  {
   "cell_type": "code",
   "execution_count": 2,
   "id": "5c2abfee",
   "metadata": {
    "scrolled": true
   },
   "outputs": [],
   "source": [
    "# Freq = [] #no current \n",
    "# freq = [] #optimised current\n",
    "\n",
    "# for file in os.listdir():\n",
    "#     if file.endswith('current1.npy'):\n",
    "#         freq.append(file)\n",
    "#     else:\n",
    "#         if file.endswith('.npy'):    \n",
    "#             Freq.append(file)\n",
    "#         #T.append(os.path.join('',file))\n",
    "# Freq = sorted(Freq)\n",
    "# print(Freq)\n",
    "# print(np.size(Freq))\n",
    "\n",
    "\n",
    "# freq = sorted(freq)\n",
    "# print(freq)\n",
    "# print(np.size(freq))"
   ]
  },
  {
   "cell_type": "code",
   "execution_count": 3,
   "id": "1bff9e94",
   "metadata": {},
   "outputs": [],
   "source": [
    "# Fmax = []\n",
    "# for n in range(8):\n",
    "#     print(n)\n",
    "#     A = np.load(Freq[n])\n",
    "#     A = A[ :,100:1300]\n",
    "#     i,j = np.unravel_index(A.argmax(), A.shape)\n",
    "#     Fmax.append(A[i,j])\n",
    "\n",
    "\n",
    "# fmax = []\n",
    "# for n in range(5):\n",
    "#     print(n)\n",
    "#     a = np.load(freq[n])\n",
    "#     i,j = np.unravel_index(a.argmax(), a.shape)\n",
    "#     fmax.append(a[i,j])\n",
    "    "
   ]
  },
  {
   "cell_type": "code",
   "execution_count": 4,
   "id": "78aa7585",
   "metadata": {},
   "outputs": [],
   "source": [
    "# Raw data DO NOT TOUCH\n",
    "\n",
    "Freq1 = [650.504090, 650.5041, 650.50411, 650.50412, 650.50413, 650.50414, 650.50415, 650.50416]\n",
    "# Freq1 = [-10,0,20,30,40,50,60]#ghz from650.5041\n",
    "Fmax = [84, 96, 118, 114, 96, 66, 76]"
   ]
  },
  {
   "cell_type": "markdown",
   "id": "98448f1d",
   "metadata": {},
   "source": [
    "# 250508 2D MOT Replot Latex Font"
   ]
  },
  {
   "cell_type": "code",
   "execution_count": 5,
   "id": "e5bd1c9a",
   "metadata": {},
   "outputs": [],
   "source": [
    "# copy paste this code to the beginning of your script to set the plotting style for a one column figure\n",
    "\n",
    "from matplotlib import pyplot as plt\n",
    "\n",
    "plt.rcParams.update({\n",
    "    \"text.usetex\": True,\n",
    "    \"font.family\": \"serif\",\n",
    "    \"font.serif\": [\"Computer Modern Roman\"],\n",
    "    \"figure.constrained_layout.use\": True\n",
    "})\n",
    "\n",
    "plt.rcParams[\"savefig.bbox\"] = None\n",
    "plt.rcParams[\"figure.figsize\"] = (5.9,2.5)  # (width, height) in inches, change height but not width\n",
    "plt.rcParams[\"figure.titlesize\"] = 10 # this is only for plt.suptitle, i set it to be the same as the rest\n",
    "\n",
    "plt.rcParams[\"axes.titlesize\"] = 10 # control title size\n",
    "plt.rcParams[\"axes.labelsize\"] = 10 # control x and y axis labels\n",
    "plt.rcParams[\"axes.labelpad\"] = 4.0 # distance between axis label and axis numbers\n",
    "plt.rcParams[\"xtick.labelsize\"] = 10 # independent control of xlabel fontsize\n",
    "plt.rcParams[\"ytick.labelsize\"] = 10 # independent control of ylabel fontsize\n",
    "\n",
    "plt.rcParams[\"legend.fontsize\"] = 7.5 # control legend size, I set it to be slightly smaller than title/axes label\n",
    "# plt.rcParams[\"legend.facecolor\"] = (0.9, 0.9, 0.9) # legend background color\n",
    "# plt.rcParams[\"legend.edgecolor\"] = (0, 0, 0) # legend border line color\n",
    "# plt.rcParams[\"legend.frameon\"] = True # whether or not to draw a border around legend\n",
    "# plt.rcParams[\"legend.framealpha\"] = 0.1 # legend background transparency\n",
    "plt.rcParams[\"legend.loc\"] = \"best\" # default legend location\n",
    "plt.rcParams[\"legend.handletextpad\"] = 0.8  # Horizontal space between legend point and text (default 0.8)\n",
    "plt.rcParams[\"legend.labelspacing\"] = 0.6  # Vertical space between legend entries (default 0.5)\n",
    "# plt.rcParams[\"legend.columnspacing\"] = 2.0  # Space between columns in multi-column legends\n",
    "# plt.rcParams[\"legend.borderpad\"] = 1.0  # Space between legend content and the box\n",
    "# plt.rcParams[\"legend.handlelength\"] = 2.0  # Length of legend marker lines\n",
    "\n",
    "plt.rcParams[\"lines.linewidth\"] = 1\n",
    "plt.rcParams[\"lines.markersize\"] = 6 #data point size\n",
    "\n",
    "# CHOOSE NICE COLOR FOR DARK MARKER EDGEWIDTH FROM \"dodgerblue\",\"mediumseagreen\",\"crimson\",\"mediumpurple\",\"slateblue\",\"darkorange\",\"peru\",\"goldenrod\"\n",
    "plt.rcParams[\"lines.linewidth\"] = 1\n",
    "plt.rcParams[\"lines.markersize\"] = 6 #data point size\n",
    "plt.rcParams[\"lines.markeredgewidth\"] = 1.5 # width of the edge of the marker\n",
    "plt.rcParams[\"lines.markeredgecolor\"] = \"black\" # color of the edge of the marker\n",
    "plt.rcParams[\"lines.markerfacecolor\"] = \"dodgerblue\" # color of the inside of the marker\n",
    "plt.rcParams[\"lines.marker\"] = \"o\" # marker type, see https://matplotlib.org/stable/api/markers_api.html for all options\n",
    "plt.rcParams[\"lines.color\"] = \"black\" # color of the line\n",
    "# # CHOOSE NICE COLOR FOR DARK MARKER EDGEWIDTH FROM \"dodgerblue\",\"mediumseagreen\",\"crimson\",\"mediumpurple\",\"slateblue\",\"darkorange\",\"peru\",\"goldenrod\"\n",
    "\n",
    "\n",
    "plt.rcParams[\"grid.linestyle\"] = \"--\"\n",
    "plt.rcParams['axes.grid'] = True\n",
    "# plt.rcParams[\"grid.linewidth\"] = 0.7\n",
    "\n",
    "# plt.rcParams[\"xtick.major.pad\"] = 4.0 # distance between xticks dashes and xaxis numbers\n",
    "# plt.rcParams[\"xtick.major.size\"] = 3.0\n",
    "# plt.rcParams[\"xtick.major.width\"] = 0.7\n",
    "# plt.rcParams[\"ytick.major.pad\"] = 4.0 # distance between yticks dashes and yaxis numbers\n",
    "# plt.rcParams[\"ytick.major.size\"] = 3.0\n",
    "# plt.rcParams[\"ytick.major.width\"] = 0.7"
   ]
  },
  {
   "cell_type": "code",
   "execution_count": 6,
   "id": "d6b3836f",
   "metadata": {},
   "outputs": [],
   "source": [
    "# Raw data\n",
    "\n",
    "Freq1 = [650.504090, 650.5041, 650.50411, 650.50412, 650.50413, 650.50414, 650.50415, 650.50416] #ECDL freq\n",
    "# Freq1 = [-10,0,20,30,40,50,60]#ghz from650.5041\n",
    "Fmax = [84, 96, 118, 114, 96, 66, 76]"
   ]
  },
  {
   "cell_type": "code",
   "execution_count": 8,
   "id": "1b0454ab",
   "metadata": {},
   "outputs": [],
   "source": [
    "freqoffset_2DMOT_ECDL= 0.000275 #error bar is 1MHz\n",
    "freq2 = [i - freqoffset_2DMOT_ECDL for i in Freq1] #subtract the offset"
   ]
  },
  {
   "cell_type": "code",
   "execution_count": 9,
   "id": "c64be000",
   "metadata": {},
   "outputs": [
    {
     "data": {
      "text/plain": [
       "[650.503815,\n",
       " 650.503825,\n",
       " 650.503835,\n",
       " 650.503845,\n",
       " 650.503855,\n",
       " 650.503865,\n",
       " 650.503875,\n",
       " 650.503885]"
      ]
     },
     "execution_count": 9,
     "metadata": {},
     "output_type": "execute_result"
    }
   ],
   "source": [
    "freq2"
   ]
  },
  {
   "cell_type": "code",
   "execution_count": 10,
   "id": "667317b1",
   "metadata": {},
   "outputs": [
    {
     "data": {
      "text/plain": [
       "array([-1.54098361, -1.21311475, -0.8852459 , -0.55737705, -0.2295082 ,\n",
       "        0.09836066,  0.42622951,  0.75409836])"
      ]
     },
     "execution_count": 10,
     "metadata": {},
     "output_type": "execute_result"
    }
   ],
   "source": [
    "resonance = 650.503862 #error bar is 7MHz\n",
    "freqoffset_2DMOT_ECDL= 0.000275 #error bar is 1MHz\n",
    "linewidth = 30.5\n",
    "detuning = [np.round((i-freqoffset_2DMOT_ECDL-resonance)*1e6) for i in Freq1] # detuning in MHz\n",
    "detuning_gamma = np.array(detuning)/linewidth\n",
    "detuning_gamma"
   ]
  },
  {
   "cell_type": "code",
   "execution_count": 11,
   "id": "2644eef3",
   "metadata": {},
   "outputs": [
    {
     "data": {
      "text/plain": [
       "[-47.0, -37.0, -27.0, -17.0, -7.0, 3.0, 13.0, 23.0]"
      ]
     },
     "execution_count": 11,
     "metadata": {},
     "output_type": "execute_result"
    }
   ],
   "source": [
    "detuning"
   ]
  },
  {
   "cell_type": "code",
   "execution_count": 12,
   "id": "b9c2199d",
   "metadata": {},
   "outputs": [],
   "source": [
    "uncertainty = 1 # MHz\n",
    "uncertainty_gamma = uncertainty/linewidth"
   ]
  },
  {
   "cell_type": "code",
   "execution_count": 15,
   "id": "5f8fcaa8",
   "metadata": {},
   "outputs": [
    {
     "data": {
      "image/png": "[encoded data removed]",
      "text/plain": [
       "<Figure size 590x250 with 1 Axes>"
      ]
     },
     "metadata": {},
     "output_type": "display_data"
    }
   ],
   "source": [
    "plt.errorbar(detuning_gamma[0:6],Fmax[0:6],xerr=uncertainty_gamma,fmt='o',color='dodgerblue',ecolor='black',capsize=2)\n",
    "plt.plot(detuning_gamma[0:6],Fmax[0:6],'ko-')\n",
    "plt.ylim(0,130)\n",
    "plt.xlabel(r'ECDL Frequency Detuning ($\\delta / \\Gamma$)')\n",
    "plt.ylabel('2D MOT Fluorescence (mV)')  \n",
    "plt.savefig('2D MOT Fluorescence vs ECDL Frequency Detuning.pdf',dpi=300)\n"
   ]
  },
  {
   "cell_type": "markdown",
   "id": "88a589f5",
   "metadata": {},
   "source": []
  },
  {
   "cell_type": "markdown",
   "id": "19d294e9",
   "metadata": {},
   "source": []
  },
  {
   "cell_type": "markdown",
   "id": "00f837ca",
   "metadata": {},
   "source": []
  },
  {
   "cell_type": "code",
   "execution_count": 24,
   "id": "dc09676b",
   "metadata": {},
   "outputs": [
    {
     "data": {
      "image/png": "[encoded data removed]",
      "text/plain": [
       "<Figure size 590x250 with 1 Axes>"
      ]
     },
     "metadata": {},
     "output_type": "display_data"
    }
   ],
   "source": [
    "plt.figure()\n",
    "plt.rc(\"font\",size=10)\n",
    "plt.plot([i/32 for i in Freq1[0:6]],Fmax[0:6],'o-',markersize=9)\n",
    "plt.tick_params(axis='both', which='major', labelsize=18)\n",
    "plt.xticks(fontname='Arial')\n",
    "plt.yticks(fontname='Arial')\n",
    "# plt.xticks(np.arange(-0.3,2,0.5))\n",
    "plt.xlabel(r'ECDL Frequency Detuning* ($\\Delta / \\Gamma$)',fontname='Arial',fontsize=20,labelpad=5)\n",
    "plt.ylabel('2D MOT Fluorescence (mV)',fontname='Arial',fontsize=20,labelpad=5)  \n",
    "plt.savefig('2D MOT Fluorescence vs ECDL Frequency Detuning.png',dpi=300,bbox_inches='tight')\n",
    "plt.savefig('2D MOT Fluorescence vs ECDL Frequency Detuning.pdf',dpi=300,bbox_inches='tight')"
   ]
  },
  {
   "cell_type": "code",
   "execution_count": 25,
   "id": "f24040a7",
   "metadata": {},
   "outputs": [],
   "source": [
    "# from matplotlib import rc\n",
    "# plt.rc('font', **{'family': 'sans-serif', 'sans-serif': ['Arial'], 'size': 16})\n",
    "# plt.rc('text', usetex=True)"
   ]
  },
  {
   "cell_type": "code",
   "execution_count": 26,
   "id": "24732e7b",
   "metadata": {},
   "outputs": [
    {
     "ename": "ModuleNotFoundError",
     "evalue": "No module named 'plotting_style'",
     "output_type": "error",
     "traceback": [
      "\u001b[0;31m---------------------------------------------------------------------------\u001b[0m",
      "\u001b[0;31mModuleNotFoundError\u001b[0m                       Traceback (most recent call last)",
      "Cell \u001b[0;32mIn[26], line 4\u001b[0m\n\u001b[1;32m      2\u001b[0m \u001b[38;5;28;01mimport\u001b[39;00m \u001b[38;5;21;01msys\u001b[39;00m\n\u001b[1;32m      3\u001b[0m sys\u001b[38;5;241m.\u001b[39mpath\u001b[38;5;241m.\u001b[39mappend(\u001b[38;5;124m'\u001b[39m\u001b[38;5;124mC:/Users/Michael/Dropbox/AION/Projects\u001b[39m\u001b[38;5;124m'\u001b[39m)  \u001b[38;5;66;03m# Replace with the relevant path that contains this script\u001b[39;00m\n\u001b[0;32m----> 4\u001b[0m \u001b[38;5;28;01mfrom\u001b[39;00m \u001b[38;5;21;01mplotting_style\u001b[39;00m \u001b[38;5;28;01mimport\u001b[39;00m set_plotting_style\n\u001b[1;32m      5\u001b[0m set_plotting_style()\n",
      "\u001b[0;31mModuleNotFoundError\u001b[0m: No module named 'plotting_style'"
     ]
    }
   ],
   "source": [
    "import matplotlib.pyplot as plt\n",
    "import sys\n",
    "sys.path.append('C:/Users/Michael/Dropbox/AION/Projects')  # Replace with the relevant path that contains this script\n",
    "from plotting_style import set_plotting_style\n",
    "set_plotting_style()"
   ]
  },
  {
   "cell_type": "code",
   "execution_count": null,
   "id": "b0c23e54",
   "metadata": {},
   "outputs": [],
   "source": [
    "plt.plot([i/32 for i in Freq1[0:6]],Fmax[0:6],'o-',markersize=9)\n",
    "plt.xlabel(r'ECDL Frequency Detuning* ($\\Delta / \\Gamma$)')\n",
    "plt.ylabel('2D MOT Fluorescence (mV)')\n",
    "# plt.show()\n",
    "plt.savefig('2D MOT Fluorescence vs ECDL Frequency Detuning_plottingstyle.png',dpi=300,bbox_inches='tight')\n",
    "plt.savefig('2D MOT Fluorescence vs ECDL Frequency Detuning_plottingstyle.pdf',dpi=300,bbox_inches='tight')"
   ]
  },
  {
   "cell_type": "code",
   "execution_count": null,
   "id": "18c4450a",
   "metadata": {},
   "outputs": [],
   "source": [
    "\n",
    "import matplotlib.pyplot as plt\n",
    "plt.plot(Freq1[0:6],Fmax[0:6],'ko')\n",
    "plt.locator_params(axis='x', nbins=8)\n",
    "\n",
    "plt.xlabel('Frquency Detuning of Cooling Beams (MHz)')\n",
    "plt.ylabel('Intensity')\n",
    "\n",
    "# plt.savefig(\"freqscan\")"
   ]
  },
  {
   "cell_type": "code",
   "execution_count": null,
   "id": "3a6b9485",
   "metadata": {},
   "outputs": [],
   "source": [
    "plt.plot(freq,fmax,'ko')"
   ]
  },
  {
   "cell_type": "code",
   "execution_count": null,
   "id": "c4ab9824",
   "metadata": {},
   "outputs": [],
   "source": [
    "Freq = []\n",
    "freq = []\n",
    "for file in os.listdir():\n",
    "    if file.endswith('current1.npy'):\n",
    "        freq.append(file)\n",
    "    else:\n",
    "        if file.endswith('.npy'):    \n",
    "            Freq.append(file)\n",
    "        #T.append(os.path.join('',file))\n",
    "        \n",
    "Freq = sorted(Freq)\n",
    "print(Freq)\n",
    "print(np.size(Freq))\n",
    "\n",
    "freq = sorted(freq)\n",
    "print(freq)\n",
    "print(np.size(freq))"
   ]
  },
  {
   "cell_type": "code",
   "execution_count": null,
   "id": "f7498f44",
   "metadata": {},
   "outputs": [],
   "source": [
    "\n",
    "F = np.load(Freq[1])\n",
    "F = F[ :,100:1300]\n",
    "plt.imshow(F)\n",
    "i,j = np.unravel_index(F.argmax(), F.shape)\n",
    "plt.plot(j,i,'ko')\n",
    "\n",
    "print(F[i,j])"
   ]
  },
  {
   "cell_type": "code",
   "execution_count": null,
   "id": "2d628b9c",
   "metadata": {},
   "outputs": [],
   "source": [
    "plt.imshow(np.load(Freq[6]))"
   ]
  },
  {
   "cell_type": "code",
   "execution_count": null,
   "id": "9e0239aa",
   "metadata": {},
   "outputs": [],
   "source": [
    "plt.imshow(np.load(Freq[12]))"
   ]
  },
  {
   "cell_type": "code",
   "execution_count": null,
   "id": "1b88bb50",
   "metadata": {},
   "outputs": [],
   "source": []
  }
 ],
 "metadata": {
  "kernelspec": {
   "display_name": "base",
   "language": "python",
   "name": "python3"
  },
  "language_info": {
   "codemirror_mode": {
    "name": "ipython",
    "version": 3
   },
   "file_extension": ".py",
   "mimetype": "text/x-python",
   "name": "python",
   "nbconvert_exporter": "python",
   "pygments_lexer": "ipython3",
   "version": "3.12.7"
  }
 },
 "nbformat": 4,
 "nbformat_minor": 5
}
